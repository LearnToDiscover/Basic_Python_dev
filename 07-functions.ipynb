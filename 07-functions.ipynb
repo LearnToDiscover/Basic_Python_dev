{
 "cells": [
  {
   "cell_type": "raw",
   "id": "31ed5e49",
   "metadata": {
    "lines_to_next_cell": 0
   },
   "source": [
    "---\n",
    "title: \"Functions\"\n",
    "teaching: 10\n",
    "exercises: 2\n",
    "---"
   ]
  },
  {
   "cell_type": "markdown",
   "id": "9860fccc",
   "metadata": {},
   "source": [
    "[**Download Chapter pdf**](07-functions.md.pdf)\n",
    "\n",
    "[**Download Chapter notebook (ipynb)**](07-functions.ipynb)\n"
   ]
  },
  {
   "cell_type": "markdown",
   "id": "432491e5",
   "metadata": {},
   "source": [
    "- What are functions?\n",
    "- How are functions created?\n",
    "- What are optional arguments?\n",
    "- What makes functions powerful?\n",
    "\n",
    "\n"
   ]
  },
  {
   "cell_type": "markdown",
   "id": "e361a1a7",
   "metadata": {},
   "source": [
    "- Develop concepts of using functions.\n",
    "- Understanding different ways of creating functions.\n",
    "- Explaining input arguments.\n",
    "- Understanding the inter-connectivity of functions.\n",
    "\n",
    "<br>\n",
    "<p align = \"center\">\n",
    "<iframe width=\"560\" height=\"315\" src=\"https://www.youtube.com/embed/kBlxg1lV5NQ\" title=\"YouTube video player\" frameborder=\"0\" allow=\"accelerometer; autoplay; clipboard-write; encrypted-media; gyroscope; picture-in-picture\" allowfullscreen></iframe>\n",
    "</p>\n",
    "<br>\n",
    "<p align = \"center\">\n",
    "<iframe width=\"560\" height=\"315\" src=\"https://www.youtube.com/embed/_Y6ucZYbVL4\" title=\"YouTube video player\" frameborder=\"0\" allow=\"accelerometer; autoplay; clipboard-write; encrypted-media; gyroscope; picture-in-picture\" allowfullscreen></iframe>\n",
    "</p>\n",
    "<br>\n",
    "<p align = \"center\">\n",
    "<iframe width=\"560\" height=\"315\" src=\"https://www.youtube.com/embed/on_v5Ge80iE\" title=\"YouTube video player\" frameborder=\"0\" allow=\"accelerometer; autoplay; clipboard-write; encrypted-media; gyroscope; picture-in-picture\" allowfullscreen></iframe>\n",
    "</p>\n",
    "<br>\n",
    "\n",
    "This chapter assumes that you are familiar with the following concepts in Python 3:\n",
    "\n",
    "- [Mathematical Operation](02-input_output.Rmd#math_ops)\n",
    "- [Indentation Rule](03-conditional_statements.Rmd#subsubsec:indentationRule)\n",
    "- [Conditional Statements](03-conditional_statements.Rmd)\n",
    "- [Arrays](04-arrays.Rmd)\n",
    "- [Loops and Iterations](05-iterations.Rmd)"
   ]
  },
  {
   "cell_type": "markdown",
   "id": "090b1599",
   "metadata": {},
   "source": [
    "## Functions {#sec:functions}"
   ]
  },
  {
   "cell_type": "markdown",
   "id": "eb3d1d84",
   "metadata": {},
   "source": [
    "[**Defining Functions**](https://docs.python.org/3/tutorial/controlflow.html\\#defining-functions)\n",
    "\n",
    "<p style='text-align: justify;'>\n",
    "In programming, functions are containers that incorporate some code and perform very specific tasks. As we learned in the first chapter (on [outputs](02-input_output.Rmd#sub:ProducingAnOutput)), a function usually takes in one or several variables or values, processes them, and produces a specific result. The variable(s) given to a function and those produced by it are referred to as *input arguments*, and *outputs* respectively.\n",
    "</p>\n",
    "\n",
    "<p style='text-align: justify;'>\n",
    "There are different ways to create functions in Python. In this course, we will be using <kbd>def</kbd> to implement our functions. This is the easiest and by far the most common method for declaring functions. The structure of a typical function defined using <kbd>def</kbd> is as follows:\n",
    "</p>\n",
    "\n",
    "![](fig/typical_function.png)"
   ]
  },
  {
   "cell_type": "markdown",
   "id": "1d1f46d2",
   "metadata": {},
   "source": [
    "## Remember\t\n",
    "\n",
    "There are several points to remember in relation to functions:\n",
    "\n",
    "<p style='text-align: justify;'>\n",
    "- The name of a function follows same principles as that of any other variable as discussed in [variable names](02-input_output.Rmd#subsec:variableNames). The name must be in *lower-case* characters.\n",
    "</p>\n",
    "\n",
    "<p style='text-align: justify;'>\n",
    "- The input arguments of a function --- e.g. <span style=\"color: rgb(32, 121, 77);\">value_a</span> and <span style=\"color: rgb(32, 121, 77);\">value_b</span> in the above example; are essentially variables whose *scope* is the function. That is, they are *only* accessible *within* the function itself, and not from anywhere else in the code.\n",
    "</p>\n",
    "\n",
    "<p style='text-align: justify;'>\n",
    "- Variables defined inside of a function, should *never* use the same name as variables defined outside of it; or they may override each other.\n",
    "</p>\n",
    "\n",
    "<p style='text-align: justify;'>\n",
    "-  A function declared using <kbd>def</kbd> should *always* be terminated with a <kbd>return</kbd> syntax. Any values or variables that follow <kbd>return</kbd> are regarded as the function's output.\n",
    "</p>\n",
    "\n",
    "<p style='text-align: justify;'>\n",
    "- If we do not specify a return value, or fail to terminate a function using <kbd>return</kbd> altogether, the Python interpreter will automatically terminate that function with an implicit ```return None```. Being an *implicit* process, this is generally regarded as a bad practice and should be avoided.\t\n",
    "</p>"
   ]
  },
  {
   "cell_type": "markdown",
   "id": "208fa349",
   "metadata": {},
   "source": [
    "<p style='text-align: justify;'>\n",
    "We implement functions to prevent repetition in our code. It is therefore important for a function to *only* perform a very specific task, so that it can be context-independent. You should therefore avoid incorporating separable tasks inside a single function.\n",
    "</p>\n",
    "\n",
    "## Interesting Fact\n",
    "\n",
    "<p style='text-align: justify;'>\n",
    "Functions are designed to perform specific tasks. That is why in the majority of cases, they are named using *verbs* --- e.g. <kbd>add()</kbd> or <kbd>print()</kbd>. We use verbs to describe an action, a state, or an occurrence in everyday language. Likewise, this type of nomenclature describes the action performed by a specific function. Name your functions wisely!\n",
    "</p>\t"
   ]
  },
  {
   "cell_type": "markdown",
   "id": "ee5cb8b2",
   "metadata": {},
   "source": [
    "<p style='text-align: justify;'>\n",
    "Once you start creating functions for different purposes; after a while, you will have a library of ready-to-use functions to address different needs. This is the primary principle of a popular programming paradigm known as [functional programming](https://en.wikipedia.org/wiki/Functional_programming).\n",
    "</p>\n"
   ]
  },
  {
   "cell_type": "markdown",
   "id": "fa5c34d3",
   "metadata": {},
   "source": [
    "So let us implement the example outline in the diagram:\n"
   ]
  },
  {
   "cell_type": "code",
   "execution_count": null,
   "id": "d83cf923",
   "metadata": {},
   "outputs": [],
   "source": [
    "\n",
    "def add(value_a, value_b):\n",
    "    \"\"\"\n",
    "    Calculates the sum of 2 numeric values\n",
    "    given as inputs.\n",
    "\t    \n",
    "    :param value_a: First value.\n",
    "    :type value_a: int, float\n",
    "    :param value_b: Second value.\n",
    "    :type value_b: int, float\n",
    "    :return: Sum of the two values.\n",
    "    :rtype: int, float\n",
    "    \"\"\"\n",
    "    result = value_a + value_b\n",
    "    return result"
   ]
  },
  {
   "cell_type": "markdown",
   "id": "524a6194",
   "metadata": {},
   "source": [
    "<p style='text-align: justify;'>\n",
    "Once implemented, we can go ahead use the function. We can do so in the same way as we do with the *built-in* functions such as <kbd>max()</kbd> or <kbd>print()</kbd>:\n",
    "</p>\n"
   ]
  },
  {
   "cell_type": "code",
   "execution_count": null,
   "id": "1b10b7ab",
   "metadata": {},
   "outputs": [],
   "source": [
    "res = add(2, 5)\n",
    "\t\n",
    "print(res)"
   ]
  },
  {
   "cell_type": "markdown",
   "id": "b7e62c6f",
   "metadata": {},
   "source": [
    "```{.output}\n",
    "7\n",
    "```\n",
    "\n",
    "## Remember\t\n",
    "\n",
    "When calling a function, we should always pass our *positional input arguments* in the order they are defined in the function definition, from left to right.\n",
    "\n",
    "<p style='text-align: justify;'>\t\n",
    "This is because in the case of *positional arguments*, as the name suggests, the Python interpreter relies on the *position* of each value to identify its *variable name* in the function signature. The function signature for our ```add``` function is as follows:\t\n",
    "</p>\n",
    "\n",
    "```\n",
    "add(value_a, value_b)\n",
    "```\n",
    "<p style='text-align: justify;'>\n",
    "So in the above example where we say <span style=\"color: rgb(32, 121, 77);\">add(2, 5)</span>, the value <span style=\"color: rgb(32, 121, 77);\">2</span> is identified as the *input argument* for <span style=\"color: rgb(32, 121, 77);\">value_a</span>, and not <span style=\"color: rgb(32, 121, 77);\">value_b</span>. This happens automatically because in our function call, the value <span style=\"color: rgb(32, 121, 77);\">2</span> is written in the first position, where <span style=\"color: rgb(32, 121, 77);\">value_a</span> is defined in our function declaration (signature).\n",
    "</p>"
   ]
  },
  {
   "cell_type": "markdown",
   "id": "023f8cb9",
   "metadata": {},
   "source": [
    "<p style='text-align: justify;'>\n",
    "Alternatively, we can use the name of each *input argument* to pass values onto them in any order. When we use the name of the *input argument* explicitly, we pass the values as *keyword arguments*. This is particularly useful in more complex functions where there are several *input arguments*.\n",
    "</p>\n",
    "\n",
    "Let us now use *keyword arguments* to pass values to our <kbd>add()</kbd> function:\n"
   ]
  },
  {
   "cell_type": "code",
   "execution_count": null,
   "id": "fa6176d7",
   "metadata": {},
   "outputs": [],
   "source": [
    "res = add(value_a=2, value_b=5)\n",
    "\t\n",
    "print(res)"
   ]
  },
  {
   "cell_type": "markdown",
   "id": "cc10d0ef",
   "metadata": {},
   "source": [
    "```{.output}\n",
    "7\n",
    "```\n",
    "\n",
    "Now even if we changed the order of our arguments, the function would still be able to associate the values correctly:\n"
   ]
  },
  {
   "cell_type": "code",
   "execution_count": null,
   "id": "974f789f",
   "metadata": {},
   "outputs": [],
   "source": [
    "res = add(value_b=2, value_a=5)\n",
    "\t\n",
    "print(res)"
   ]
  },
  {
   "cell_type": "markdown",
   "id": "fb8c38bc",
   "metadata": {},
   "source": [
    "```{.output}\n",
    "7\n",
    "```"
   ]
  },
  {
   "cell_type": "markdown",
   "id": "7f5f9b5f",
   "metadata": {},
   "source": [
    "## Remember\t\n",
    "<p style='text-align: justify;'>\n",
    "Choose the order of your *input argument* wisely. This is important when your function accepts multiple *input argument*.\n",
    "</p>\n",
    "\n",
    "<p style='text-align: justify;'>\n",
    "Suppose we want to define a \"division\" function. It makes sense to assume that the first number passed to the function will be divided by the second number:\n",
    "</p>\n"
   ]
  },
  {
   "cell_type": "code",
   "execution_count": null,
   "id": "df958c0f",
   "metadata": {},
   "outputs": [],
   "source": [
    "def divide(a, b):\n",
    "    return a / b"
   ]
  },
  {
   "cell_type": "markdown",
   "id": "b8ab0340",
   "metadata": {},
   "source": [
    "It is also much less likely for someone to use *keywords* to pass arguments to this function -- that is, to say:\n",
    "\t"
   ]
  },
  {
   "cell_type": "code",
   "execution_count": null,
   "id": "7780107a",
   "metadata": {},
   "outputs": [],
   "source": [
    "result = divide(a=2, b=4)"
   ]
  },
  {
   "cell_type": "markdown",
   "id": "c77fd24a",
   "metadata": {},
   "source": [
    "than it is for them to use positional arguments (without any keywords), that is:\n",
    "\t"
   ]
  },
  {
   "cell_type": "code",
   "execution_count": null,
   "id": "cf4c0321",
   "metadata": {},
   "outputs": [],
   "source": [
    "result = divide(2, 4)"
   ]
  },
  {
   "cell_type": "markdown",
   "id": "4f241e22",
   "metadata": {},
   "source": [
    "But if we use an arbitrary order, then we risk running into problems:\n",
    "\t"
   ]
  },
  {
   "cell_type": "code",
   "execution_count": null,
   "id": "081b8499",
   "metadata": {},
   "outputs": [],
   "source": [
    "def divide_bad(denominator, numerator):\n",
    "    return numerator / denominator"
   ]
  },
  {
   "cell_type": "markdown",
   "id": "df513ce8",
   "metadata": {},
   "source": [
    "<p style='text-align: justify;'>\t\n",
    "In which case, our function would perform perfectly well if we use *keyword arguments*; however, if we rely on positional arguments and common sense, then the result of the division would be calculated incorrectly.\n",
    "</p>\n"
   ]
  },
  {
   "cell_type": "code",
   "execution_count": null,
   "id": "d957a1ae",
   "metadata": {},
   "outputs": [],
   "source": [
    "result_a = divide_bad(numerator=2, denominator=4)\n",
    "result_b = divide_bad(2, 4)\n",
    "\t\t\n",
    "print(result_a == result_b)"
   ]
  },
  {
   "cell_type": "markdown",
   "id": "a5e2a398",
   "metadata": {},
   "source": [
    "```{.output}\n",
    "False\n",
    "```"
   ]
  },
  {
   "cell_type": "markdown",
   "id": "9acbc4fb",
   "metadata": {},
   "source": [
    "## Do it Yourself {#diy:func:tataBoxFinder}\n",
    "\n",
    "Implement a function called <span style=\"color: rgb(32, 121, 77);\">find_tata</span> that takes in one ```str``` argument called <span style=\"color: rgb(32, 121, 77);\">seq</span> and looks for the <span style=\"color: rgb(32, 121, 77);\">TATA</span>-box motif inside that sequence. Then:\n",
    "\n",
    "- if found, the function should return the index for the <span style=\"color: rgb(32, 121, 77);\">TATA</span>-box as output;\n",
    "\n",
    "- if not found, the function should *explicitly* return ```None```.\n",
    "\n",
    "**Example:**\n",
    "\t\n",
    "The function should behave as follows:\n",
    "\n",
    "```\n",
    "sequence = 'GCAGTGTATAGTC'\n",
    "\t\t\n",
    "res = find_tata(sequence)\n",
    "\t\t\n",
    "```"
   ]
  },
  {
   "cell_type": "markdown",
   "id": "4d6a2e9e",
   "metadata": {},
   "source": [
    "## DIY ANSWER"
   ]
  },
  {
   "cell_type": "code",
   "execution_count": null,
   "id": "ed1618d4",
   "metadata": {
    "lines_to_next_cell": 2
   },
   "outputs": [],
   "source": [
    "def find_tata(seq):\n",
    "    tata_box = 'TATA'\n",
    "    result = seq.find(tata_box)\n",
    "\t\t    \n",
    "    return result"
   ]
  },
  {
   "cell_type": "markdown",
   "id": "04d80e56",
   "metadata": {},
   "source": [
    "### **Documentations**\n",
    "<p style='text-align: justify;'>\n",
    "It is *essential* to write short, but proper documentation for our functions. There is no *correct* way document a code. However, a general rule, a good documentation should tell us:\n",
    "</p>\n",
    "\n",
    "- what a function does;\n",
    "\n",
    "- the names of the input arguments, and what type each argument should be;\n",
    "\n",
    "- the output, and its type.\n",
    "\n",
    "<p style='text-align: justify;'>\n",
    "The documentation string, also known as the *docstring*, is always written inside triple quotation marks. The *docstring* must be the implemented on the *very first line* following the declaration of the function to be recognised as the documentation:\n",
    "</p>\n"
   ]
  },
  {
   "cell_type": "code",
   "execution_count": null,
   "id": "fcfc086f",
   "metadata": {},
   "outputs": [],
   "source": [
    "def add(value_a, value_b):\n",
    "    \"\"\"\n",
    "    Calculates the sum of 2 numeric values\n",
    "    given as inputs.\n",
    "\t    \n",
    "    :param value_a: First value.\n",
    "    :type value_a: int, float\n",
    "    :param value_b: Second value.\n",
    "    :type value_b: int, float\n",
    "    :return: Sum of the two values.\n",
    "    :rtype: int, float\n",
    "    \"\"\"\n",
    "    result = value_a + value_b\n",
    "    return result"
   ]
  },
  {
   "cell_type": "markdown",
   "id": "c75a7bf6",
   "metadata": {},
   "source": [
    "## Remember\t\n",
    "<p style='text-align: justify;'>\n",
    "You might feel as though you would remember what your own functions do. That, however, is scarcely the case. Functions that we implement tend to perform specialist, and at times, very complex and interconnected processes. Whilst you might remember what a specific function does for a few days after writing it, you would almost certainly have trouble remembering the details in a matter of months. And that is not even considering details regarding the type of the input argument(s) and those of the output. In addition, programmers often share their works with other fellow programmers; be it with their team, or in the context of a publication, or in public repositories as a contribution to the community. Whatever the reason, there is one golden rule: a functionality does not exist unless it is documented.\n",
    "</p>"
   ]
  },
  {
   "cell_type": "markdown",
   "id": "976a3191",
   "metadata": {},
   "source": [
    "<p style='text-align: justify;'>\n",
    "Writing the *docstring* on the first line is important because once a function is documented; we can use <kbd>help()</kbd>, which is a built-in function, to access the documentations as follows:\n",
    "</p>\n"
   ]
  },
  {
   "cell_type": "code",
   "execution_count": null,
   "id": "652d60f1",
   "metadata": {},
   "outputs": [],
   "source": [
    "help(add)"
   ]
  },
  {
   "cell_type": "markdown",
   "id": "842288b9",
   "metadata": {},
   "source": [
    "```{.output}\n",
    "Help on function add in module __main__:\n",
    "\n",
    "add(value_a, value_b)\n",
    "    Calculates the sum of 2 numeric values\n",
    "    given as inputs.\n",
    "            \n",
    "    :param value_a: First value.\n",
    "    :type value_a: int, float\n",
    "    :param value_b: Second value.\n",
    "    :type value_b: int, float\n",
    "    :return: Sum of the two values.\n",
    "    :rtype: int, float\n",
    "```\n",
    "\n",
    "<p style='text-align: justify;'>\n",
    "For very simple functions -- e.g.  the function <kbd>add()</kbd> that we implemented above, where it is fairly obvious what are the input and output arguments and their respective types; it is okay to simplify the *docstring* to something explicit and concise, such as follows:\n",
    "</p>\n"
   ]
  },
  {
   "cell_type": "code",
   "execution_count": null,
   "id": "2b1ef025",
   "metadata": {
    "lines_to_next_cell": 2
   },
   "outputs": [],
   "source": [
    "def add(value_a, value_b):\n",
    "    \"\"\"value_a + value_b -> number\"\"\"\n",
    "    result = value_a + value_b\n",
    "    return result"
   ]
  },
  {
   "cell_type": "code",
   "execution_count": null,
   "id": "d2a873b2",
   "metadata": {},
   "outputs": [],
   "source": [
    "help(add)"
   ]
  },
  {
   "cell_type": "markdown",
   "id": "1aeef43f",
   "metadata": {},
   "source": [
    "```{.output}\n",
    "Help on function add in module __main__:\n",
    "\n",
    "add(value_a, value_b)\n",
    "    value_a + value_b -> number\n",
    "```"
   ]
  },
  {
   "cell_type": "markdown",
   "id": "3968ad1c",
   "metadata": {},
   "source": [
    "## Do it Yourself {#diy:func:tataBoxFinderWithDocs}\n",
    "\n",
    "Re-implement the function you defined in the previous [Do it Yourself](#diy:func:tataBoxFinder) with appropriate documentations.\n",
    "\t"
   ]
  },
  {
   "cell_type": "markdown",
   "id": "20ffec99",
   "metadata": {},
   "source": [
    "## DIY ANSWER\n"
   ]
  },
  {
   "cell_type": "code",
   "execution_count": null,
   "id": "34c9e247",
   "metadata": {
    "lines_to_next_cell": 0
   },
   "outputs": [],
   "source": [
    "def find_tata(seq):\n",
    "    \"\"\"\n",
    "    Finds the location of the TATA-box,\n",
    "    if one exists, in a polynucleotide\n",
    "    sequence.\n",
    "\t\t    \n",
    "    :param seq: Polynucleotide sequence.\n",
    "    :type seq: str\n",
    "    :return: Start of the TATA-box.\n",
    "    :rtype: int\n",
    "    \"\"\"\n",
    "    tata_box = 'TATA'\n",
    "    result = seq.find(tata_box)\n",
    "\t\t    \n",
    "    return result"
   ]
  },
  {
   "cell_type": "markdown",
   "id": "a7a29672",
   "metadata": {},
   "source": []
  },
  {
   "cell_type": "markdown",
   "id": "bf198423",
   "metadata": {},
   "source": [
    "### Optional arguments\n",
    "\n",
    "<p style='text-align: justify;'>\n",
    "We already know that most functions take in one or more input arguments. Sometime a function does not need all of the arguments to perform a specific task.\n",
    "</p>\n",
    "\n",
    "<p style='text-align: justify;'>\n",
    "An example we have already worked with is <kbd>print()</kbd>. We already know that this function may be utilised to display text on the screen. However, we also know that if we use the ```file``` argument, it will behave differently in that it will write the text inside a file instead of displaying it on the screen. Additionally, <kbd>print()</kbd> has other arguments such as ```sep``` or ```end```, which have specific default values of <span style=\"color: rgb(32, 121, 77);\">' '</span> (a single space) and <span style=\"color: rgb(32, 121, 77);\">\\\\n</span> (a linebreak) respectively.\n",
    "</p>\n",
    "\n",
    "## Remember\t\n",
    "<p style='text-align: justify;'>\n",
    "Input arguments that are necessary to call a specific function are referred to as *non-default arguments*. Those whose definition is not mandatory for a function to be called are known as *default* or *optional arguments*.\t\n",
    "</p>\n",
    "\n",
    "<p style='text-align: justify;'>\n",
    "Optional arguments may *only* be defined *after* non-default arguments (if any). If this order is not respected, a ```SyntaxError``` will be raised.\n",
    "</p>"
   ]
  },
  {
   "cell_type": "markdown",
   "id": "31d478d5",
   "metadata": {},
   "source": [
    "## Advanced Topic\t\n",
    "<p style='text-align: justify;'>\n",
    "The default value defined for *optional arguments* can in theory be an instance of any type in Python. However, it is better and safer to only use *immutable* types as demonstrated in [Table](02-input_output.Rmd#tb:types:nativeTypes) for default values. The rationale behind this principle is beyond the scope of this course, but you can read more about it in the [official documentations](https://docs.python.org/3/tutorial/controlflow.html\\#default-argument-values).\t\n",
    "</p>"
   ]
  },
  {
   "cell_type": "markdown",
   "id": "371b1bc9",
   "metadata": {},
   "source": [
    "<p style='text-align: justify;'>\n",
    "To define functions with optional arguments, we need to assign to them a default value. Remember that input arguments are variables with a specific scope. As a result, we can treat our input argument as variables and assign them a value:\n",
    "</p>\n"
   ]
  },
  {
   "cell_type": "code",
   "execution_count": null,
   "id": "a3d67118",
   "metadata": {},
   "outputs": [],
   "source": [
    "def prepare_seq(seq, name, upper=False):\n",
    "    \"\"\"\n",
    "    Prepares a sequence to be displayed.\n",
    "\t    \n",
    "    :param seq: Sequence\n",
    "    :type seq: str\n",
    "    :param name: Name of the sequence.\n",
    "    :type name: str\n",
    "    :param upper: Convert sequence to uppercase characters (default: False)\n",
    "    :type upper: bool\n",
    "    :return: Formated string containing the sequence.\n",
    "    :rtype: str\n",
    "    \"\"\"\n",
    "    template = 'The sequence of {} is: {}'\n",
    "\t    \n",
    "    if not upper:\n",
    "        response = template.format(name, seq)\n",
    "    else:\n",
    "        seq_upper = seq.upper()\n",
    "        response = template.format(name, seq_upper)\n",
    "\n",
    "    return response"
   ]
  },
  {
   "cell_type": "markdown",
   "id": "3edac185",
   "metadata": {},
   "source": [
    "Now if we don't explicitly define ```upper``` when calling <kbd>prepare_seq()</kbd>, its value is automatically considered to be ```False```:\n"
   ]
  },
  {
   "cell_type": "code",
   "execution_count": null,
   "id": "2c5c4db5",
   "metadata": {},
   "outputs": [],
   "source": [
    "sequence = 'TagCtGC'\n",
    "\t\n",
    "prepped = prepare_seq(sequence, 'DNA')\n",
    "\t\n",
    "print(prepped)"
   ]
  },
  {
   "cell_type": "markdown",
   "id": "f7efa992",
   "metadata": {},
   "source": [
    "```{.output}\n",
    "The sequence of DNA is: TagCtGC\n",
    "```\n",
    "\n",
    "If we change the default value of ```False``` for ```upper``` and set to ```True```, our sequence should be converted to upper case characters:\n"
   ]
  },
  {
   "cell_type": "code",
   "execution_count": null,
   "id": "fd4f6327",
   "metadata": {},
   "outputs": [],
   "source": [
    "prepped = prepare_seq(sequence, 'DNA', upper=True)\n",
    "\t\n",
    "print(prepped)"
   ]
  },
  {
   "cell_type": "markdown",
   "id": "ef4860d6",
   "metadata": {},
   "source": [
    "```{.output}\n",
    "The sequence of DNA is: TAGCTGC\n",
    "```\n"
   ]
  },
  {
   "cell_type": "markdown",
   "id": "7fd86911",
   "metadata": {},
   "source": [
    "## Do it Yourself\n",
    "\n",
    "Modify the function from previous [Do it Yourself](#diy:func:tataBoxFinderWithDocs) to accept an *optional argument* called ```upper```, with default value of ```False```; thereafter:"
   ]
  },
  {
   "cell_type": "markdown",
   "id": "ab62bb57",
   "metadata": {},
   "source": [
    "- if ```upper``` is ```False```, then the function should perform as it already does (similar to previous [Do it Yourself](#diy:func:tataBoxFinderWithDocs));\n",
    "\n",
    "- if ```upper``` is ```True```, then the function should convert the sequence onto uppercase characters before it looks for the <span style=\"color: rgb(32, 121, 77);\">TATA</span>-box.\n",
    "\n",
    "Do not forget to update the *docstring* of your function.\n",
    "\t"
   ]
  },
  {
   "cell_type": "markdown",
   "id": "f89e48fa",
   "metadata": {},
   "source": [
    "## DIY ANSWER\n"
   ]
  },
  {
   "cell_type": "code",
   "execution_count": null,
   "id": "535808c9",
   "metadata": {
    "lines_to_next_cell": 2
   },
   "outputs": [],
   "source": [
    "def find_tata(seq, upper=False):\n",
    "    \"\"\"\n",
    "    Finds the location of the TATA-box,\n",
    "    if one exists, in a polynucleotide\n",
    "    sequence.\n",
    "\t\t    \n",
    "    :param seq: Polynucleotide sequence.\n",
    "    :type seq: str\n",
    "    :param upper: Whether or not to\n",
    "     homogenise the sequence\n",
    "     to upper-case characters.\n",
    "    :type upper: bool\n",
    "    :return: Start of the TATA-box.\n",
    "    :rtype: int\n",
    "    \"\"\"\n",
    "    tata_box = 'TATA'\n",
    "\t\t    \n",
    "    if not upper:\n",
    "        result = seq.find(tata_box)\n",
    "    else:\n",
    "        seq_prepped = seq.upper()\n",
    "        result = seq_prepped.find(tata_box)\n",
    "\t\t    \n",
    "    return result"
   ]
  },
  {
   "cell_type": "markdown",
   "id": "c9bc01e5",
   "metadata": {},
   "source": [
    "## Remember\t\n",
    "<p style='text-align: justify;'>\n",
    "It is not necessary to implement your functions in this way. It is, however, a very common practice amongst programmers of any language. For that reason, you should be at least familiar with the technique as you are bound to encounter it sooner rather later.\n",
    "</p>"
   ]
  },
  {
   "cell_type": "markdown",
   "id": "32cb244e",
   "metadata": {},
   "source": [
    "<p style='text-align: justify;'>\n",
    "It is possible to have more than one <kbd>return</kbd> in a function. This is useful when we need to account for different outcomes; such as the one we saw in the previous example with <kbd>prepare_seq()</kbd>.\n",
    "</p>\n",
    "\n",
    "This means that we can simplify the process as follows:\n"
   ]
  },
  {
   "cell_type": "code",
   "execution_count": null,
   "id": "0dae48fe",
   "metadata": {},
   "outputs": [],
   "source": [
    "def prepare_seq(seq, name, upper=False):\n",
    "    \"\"\"\n",
    "    Prepares a sequence to be displayed.\n",
    "\t    \n",
    "    :param seq: Sequence\n",
    "    :type seq: str\n",
    "    :param name: Name of the sequence.\n",
    "    :type name: str\n",
    "    :param upper: Convert sequence to uppercase characters (default: False)\n",
    "    :type upper: bool\n",
    "    :return: Formated string containing the sequence.\n",
    "    :rtype: str\n",
    "    \"\"\"\n",
    "    template = 'The sequence of {} is: {}'\n",
    "\t    \n",
    "    if not upper:\n",
    "        return template.format(name, seq)\n",
    "\t    \n",
    "    seq_upper = seq.upper()\n",
    "    return template.format(name, seq_upper)"
   ]
  },
  {
   "cell_type": "markdown",
   "id": "1fce2939",
   "metadata": {},
   "source": [
    "Notice that we got rid of <span style=\"color: rgb(32, 121, 77);\">response</span>. Here is a description of what happens:\n",
    "\n",
    "- In this context, if the conditional statement holds --- i.e. when ```upper``` is ```False```, we enter the <kbd>if</kbd> block. In that case, we reach the first ```return``` statement. At this point, the function returns the corresponding results and terminates immediately.\n",
    "\n",
    "- On the other hand, if the condition does not hold --- i.e. where ```upper``` is ```True```, we skip the <kbd>if</kbd> block altogether and proceed. It is only then that we arrive at the second ```return``` statement where the alternative set of results are prepared."
   ]
  },
  {
   "cell_type": "markdown",
   "id": "db19233a",
   "metadata": {},
   "source": [
    "This does not alter the functionality of our function in any way. However, in complex functions that may be called repetitively (*e.g.*  inside <kbd>for</kbd> loop), this technique may improve the performance of the function.\n",
    "\n",
    "Now if we call our function, it will behave in exactly the same way as it did before:\n"
   ]
  },
  {
   "cell_type": "code",
   "execution_count": null,
   "id": "ecbd7a3a",
   "metadata": {},
   "outputs": [],
   "source": [
    "sequence = 'TagCtGC'\n",
    "\t\n",
    "prepped = prepare_seq(sequence, 'DNA')\n",
    "\t\n",
    "print(prepped)"
   ]
  },
  {
   "cell_type": "markdown",
   "id": "e86edc95",
   "metadata": {},
   "source": [
    "```{.output}\n",
    "The sequence of DNA is: TagCtGC\n",
    "```\n",
    "\n"
   ]
  },
  {
   "cell_type": "code",
   "execution_count": null,
   "id": "0a1a828d",
   "metadata": {},
   "outputs": [],
   "source": [
    "prepped = prepare_seq(sequence, 'DNA', upper=True)\n",
    "\t\n",
    "print(prepped)"
   ]
  },
  {
   "cell_type": "markdown",
   "id": "2df3efcd",
   "metadata": {},
   "source": [
    "```{.output}\n",
    "The sequence of DNA is: TAGCTGC\n",
    "```\n",
    "\n",
    "### **Interconnectivity of functions**\n",
    "Functions can call other functions. This is what makes them extremely powerful tools that may be utilised to address an unlimited number of problems.\n",
    "\n",
    "This allows us to devise a network of functions that call each other to perform different tasks at different times, and collectively contribute to the production of one final answer.\n",
    "\n",
    "## Remember\t\n",
    "Functions must have specialist functionalities. They should, as much as possible, be implemented to perform one task, and one task only.\n",
    "\t\n",
    "So if you need to get more things done, do not write more code in one function. This would defy the purpose of functional programming. Instead, consider writing more functions that contain less code and perform more specialist functionalities."
   ]
  },
  {
   "cell_type": "markdown",
   "id": "f784315b",
   "metadata": {},
   "source": [
    "## EXAMPLE: A mini toolbox for statistics\n",
    "\n",
    "![](fig/mini_toolbox.png)\n"
   ]
  },
  {
   "cell_type": "code",
   "execution_count": null,
   "id": "c9421140",
   "metadata": {},
   "outputs": [],
   "source": [
    "def mean(arr):\n",
    "    \"\"\"\n",
    "    Calculates the mean of an array.\n",
    "\t\t    \n",
    "    :param arr: Array of numbers.\n",
    "    :type arr: list, tuple, set\n",
    "    :return: Mean of the values in the array.\n",
    "    :rtype: float\n",
    "    \"\"\"\n",
    "    summation = sum(arr)\n",
    "    length = len(arr)\n",
    "\t\t    \n",
    "    result = summation / length\n",
    "\t\t    \n",
    "    return result"
   ]
  },
  {
   "cell_type": "markdown",
   "id": "f2a0aa43",
   "metadata": {},
   "source": [
    "Now that we have function to calculate the *mean*, we can go ahead and write a function to calculate the variance, which itself relies on *mean*:\n",
    "\t"
   ]
  },
  {
   "cell_type": "code",
   "execution_count": null,
   "id": "ecbbdba2",
   "metadata": {},
   "outputs": [],
   "source": [
    "def variance(arr):\n",
    "    \"\"\"\n",
    "    Calculates the variance of an array.\n",
    "\t\t    \n",
    "    :param arr: Array of numbers.\n",
    "    :type arr: list, tuple, set\n",
    "    :return: Variance of the values in the array.\n",
    "    :rtype: float\n",
    "    \"\"\"\n",
    "    arr_mean = mean(arr)\n",
    "    denominator = len(arr)\n",
    "\t\t    \n",
    "    numerator = 0\n",
    "\t\t    \n",
    "    for num in arr:\n",
    "        numerator += (num - arr_mean) ** 2\n",
    "\t\t    \n",
    "    result = numerator / denominator\n",
    "\t\t    \n",
    "    return result"
   ]
  },
  {
   "cell_type": "markdown",
   "id": "0bb6ed86",
   "metadata": {},
   "source": [
    "Now we have two functions, which we can use to calculate the *variance* or the *mean* for any array of numbers.\n",
    "\t\n",
    "Remember that testing a function a crucial part of its design. So let us go ahead and test our functions:\n",
    "\t"
   ]
  },
  {
   "cell_type": "code",
   "execution_count": null,
   "id": "e4102d01",
   "metadata": {
    "lines_to_next_cell": 2
   },
   "outputs": [],
   "source": [
    "numbers = [1, 5, 0, 14.2, -23.344, 945.23, 3.5e-2]"
   ]
  },
  {
   "cell_type": "code",
   "execution_count": null,
   "id": "422372e8",
   "metadata": {},
   "outputs": [],
   "source": [
    "numbers_mean = mean(numbers)\n",
    "\t\t\n",
    "print(numbers_mean)"
   ]
  },
  {
   "cell_type": "markdown",
   "id": "3a8e569d",
   "metadata": {},
   "source": [
    "```{.output}\n",
    "134.58871428571427\n",
    "```\n"
   ]
  },
  {
   "cell_type": "code",
   "execution_count": null,
   "id": "e3ba7b1c",
   "metadata": {},
   "outputs": [],
   "source": [
    "numbers_variance = variance(numbers)\n",
    "\t\t\n",
    "print(numbers_variance)"
   ]
  },
  {
   "cell_type": "markdown",
   "id": "b6d5f0fd",
   "metadata": {},
   "source": [
    "```{.output}\n",
    "109633.35462420408\n",
    "```\n",
    "\t\n",
    "Now that we have a function to calculate the *variance*, we could easily go on to calculate the *standard deviation*, too.\n",
    "\t\n",
    "The standard deviation is calculated from the square root of variance. We can easily implement this in a new function as follows:\n",
    "\t"
   ]
  },
  {
   "cell_type": "code",
   "execution_count": null,
   "id": "09a817ed",
   "metadata": {},
   "outputs": [],
   "source": [
    "def stan_dev(arr):\n",
    "    \"\"\"\n",
    "    Calculates the standard deviation of an array.\n",
    "\t\t    \n",
    "    :param arr: Array of numbers.\n",
    "    :type arr: list, tuple, set\n",
    "    :return: Standard deviation of the values in the array.\n",
    "    :rtype: float\n",
    "    \"\"\"\n",
    "    from math import sqrt\n",
    "\t\t    \n",
    "    var = variance(arr)\n",
    "\t\t    \n",
    "    result = sqrt(var)\n",
    "\n",
    "    return result"
   ]
  },
  {
   "cell_type": "markdown",
   "id": "75b80306",
   "metadata": {},
   "source": [
    "Now let's see how it works in practice:\n",
    "\t"
   ]
  },
  {
   "cell_type": "code",
   "execution_count": null,
   "id": "2c6f9829",
   "metadata": {},
   "outputs": [],
   "source": [
    "numbers_std = stan_dev(numbers)\n",
    "\t\t\n",
    "print(numbers_std)"
   ]
  },
  {
   "cell_type": "markdown",
   "id": "0329d4f8",
   "metadata": {},
   "source": [
    "```{.output}\n",
    "331.1092789762982\n",
    "```\n",
    "\n",
    " "
   ]
  },
  {
   "cell_type": "markdown",
   "id": "8d40df13",
   "metadata": {},
   "source": [
    "## Do it Yourself\n",
    "\n",
    "Write a function that given an array of any values, produces a dictionary containing the value of that array as *keys*, and the count of the values in the original array (their frequencies) as *values*.\n",
    "\t\n",
    "**Example:**\n",
    "\t\n",
    "For the following array:\n"
   ]
  },
  {
   "cell_type": "code",
   "execution_count": null,
   "id": "8ce5cbb8",
   "metadata": {},
   "outputs": [],
   "source": [
    "values = [1, 1.3, 1, 1, 5, 5, 1.3, 'text', 'text', 'something']"
   ]
  },
  {
   "cell_type": "markdown",
   "id": "692bbc42",
   "metadata": {},
   "source": [
    "the function should return the above dictionary:\n",
    "\t\n",
    "**Suggestion:** You can add this as a new tool to the statistics mini toolbox.\t"
   ]
  },
  {
   "cell_type": "markdown",
   "id": "cd7a6bb7",
   "metadata": {},
   "source": [
    "## DIY ANSWER\n"
   ]
  },
  {
   "cell_type": "code",
   "execution_count": null,
   "id": "16936760",
   "metadata": {
    "lines_to_next_cell": 0
   },
   "outputs": [],
   "source": [
    "def count_values(arr):\n",
    "    \"\"\"\n",
    "    Converts an array into a dictionary of\n",
    "    the unique members (as keys) and their\n",
    "    counts (as values).\n",
    "\t\t    \n",
    "    :param arr: Array containing repeated\n",
    "                members.\n",
    "    :type arr: list, tuple\n",
    "    :return: Dictionary of unique members\n",
    "\t\t         with counts.\n",
    "    :rtype: dict\n",
    "    \"\"\"\n",
    "    unique = set(arr)\n",
    "    arr_list = list(arr)\n",
    "\t\t    \n",
    "    result = dict()\n",
    "\t\t    \n",
    "    for num in unique:\n",
    "        result[num] = arr_list.count(num)\n",
    "\t\t    \n",
    "    return result"
   ]
  },
  {
   "cell_type": "markdown",
   "id": "71454107",
   "metadata": {},
   "source": [
    "\n"
   ]
  },
  {
   "cell_type": "markdown",
   "id": "661687b1",
   "metadata": {},
   "source": [
    "## Exercises\n",
    "\n",
    "#### End of chapter Exercises\n",
    "\n",
    "Write a function with the following features:"
   ]
  },
  {
   "cell_type": "markdown",
   "id": "5dd65d40",
   "metadata": {},
   "source": [
    "- Call the function <kbd>get_basic_stats()</kbd> and let it take one input argument which, however, may contain any number of input arrays, *e.g.* a tuple of arrays.\n",
    "\n",
    "- Using a for loop, for each of the arrays calculate the mean and the variance using the functions 'mean' and 'variance' given above, *i.e.* call those functions from within the function <kbd>get_basic_stats()</kbd>.\n",
    "\n",
    "- Calculate the standard deviation for each array as the square root of the variance. You will have to import the function ```sqrt``` from module ```math```.\n",
    "\n",
    "- Return a single array containing (in that order) the mean, the variance, and the standard deviation for each array. "
   ]
  },
  {
   "cell_type": "markdown",
   "id": "7ef258b1",
   "metadata": {},
   "source": [
    "To test the function, combine three arrays in a tuple as follows:\n"
   ]
  },
  {
   "cell_type": "code",
   "execution_count": null,
   "id": "d3478d5b",
   "metadata": {},
   "outputs": [],
   "source": [
    "my_arrays = (\n",
    "    [1, 2, 3, 4, 5],\n",
    "    [7, 7, 7, 7],\n",
    "    [1.0, 0.9, 1.2, 1.12, 0.95, 0.76],\n",
    ")"
   ]
  },
  {
   "cell_type": "markdown",
   "id": "69ae8bcb",
   "metadata": {},
   "source": [
    "Call the function <kbd>get_basic_stats()</kbd> with this tuple as argument and write the output to a variable. Display the results in the following form:\n",
    "\n",
    "```\n",
    "STD of array' index, ':' STD\n",
    "```\n",
    " \t\n",
    "The result for the above arrays should be:\n",
    "\n",
    "```\n",
    "STD of array 0 :  1.4142135623730951\n",
    "STD of array 1 :  0.0\n",
    "STD of array 2 :  0.14357537702854514\n",
    "```"
   ]
  },
  {
   "cell_type": "markdown",
   "id": "f09b67b9",
   "metadata": {},
   "source": [
    "## Please check these solutions only after submitting the assignments.\n"
   ]
  },
  {
   "cell_type": "code",
   "execution_count": null,
   "id": "7aa2d470",
   "metadata": {},
   "outputs": [],
   "source": [
    "def mean(arr): \n",
    "    \"\"\"\n",
    "    Calculates the mean of an array.\n",
    "    :param arr: Array of numbers.\n",
    "    :type arr: list, tuple, set\n",
    "    :return: Mean of the values in the array. :rtype: float\n",
    "    \"\"\"\n",
    "\n",
    "    summation = sum(arr)\n",
    "\n",
    "    length = len(arr)\n",
    "\n",
    "    result = summation / length \n",
    "\n",
    "    return result\n",
    "\n",
    "\n",
    "def variance(arr): \n",
    "    \"\"\"\n",
    "    Calculates the variance of an array.\n",
    "    :param arr: Array of numbers.\n",
    "    :type arr: list, tuple, set\n",
    "    :return: Variance of the values in the array. \n",
    "    :rtype: float\n",
    "    \"\"\"\n",
    "\n",
    "    arr_mean = mean(arr)\n",
    "\n",
    "    denominator = len(arr)\n",
    "\n",
    "    numerator = 0\n",
    "\n",
    "    for num in arr:\n",
    "\n",
    "        numerator += (num - arr_mean) ** 2\n",
    "\t\t\n",
    "        result = numerator / denominator \n",
    "\n",
    "    return result\n",
    "\n",
    "\n",
    "def get_basic_stats(arrays):\n",
    "    \"\"\"\n",
    "    Calculates the mean, variance and standard deviation for \n",
    "    a set of arrays.\n",
    "    :param arrays: An array contain any number of arrays of numbers.\n",
    "    :type arrays: list, tuple\n",
    "    :return: A list of arrays containing the mean, variance and \n",
    "    standard deviation for each item in arrays\n",
    "    :rtype: list\n",
    "    \"\"\"\n",
    "\n",
    "    from math import sqrt\n",
    "\n",
    "    results = list()\n",
    "\n",
    "    for array in arrays:\n",
    "\n",
    "        arr_mean = mean(array)\n",
    "        arr_var  = variance(array)\n",
    "        arr_std  = sqrt(arr_var)\n",
    "\n",
    "        results.append((arr_mean, arr_var, arr_std))\n",
    "\n",
    "    return results\n",
    "\n",
    "my_arrays = ([1, 2, 3, 4, 5],\n",
    "    [7, 7, 7, 7],\n",
    "    [1.0, 0.9, 1.2, 1.12, 0.95, 0.76],\n",
    ")\n",
    "\n",
    "\n",
    "my_results = get_basic_stats(my_arrays)\n",
    "\n",
    "for index, result in enumerate(my_results):\n",
    "\n",
    "    print('STD of array', index, ': ', result[2])"
   ]
  },
  {
   "cell_type": "markdown",
   "id": "652ef8df",
   "metadata": {},
   "source": [
    "```{.output}\n",
    "STD of array 0 :  1.4142135623730951\n",
    "STD of array 1 :  0.0\n",
    "STD of array 2 :  0.14357537702854514\n",
    "```\n",
    "\n",
    "\n"
   ]
  },
  {
   "cell_type": "markdown",
   "id": "61bfd28d",
   "metadata": {},
   "source": [
    "- Functions make repetitive tasks efficient. \n",
    "- Keyword <kbd>def</kbd> is used to create a function.\n",
    "- Optional arguments does not require prior definition.\n",
    "- Inter-connectivity of functions make them very powerful."
   ]
  },
  {
   "cell_type": "markdown",
   "id": "e84bd351",
   "metadata": {},
   "source": [
    "[r-markdown]: https://rmarkdown.rstudio.com/"
   ]
  }
 ],
 "metadata": {
  "jupytext": {
   "cell_metadata_filter": "-all",
   "main_language": "python",
   "notebook_metadata_filter": "-all"
  }
 },
 "nbformat": 4,
 "nbformat_minor": 5
}
