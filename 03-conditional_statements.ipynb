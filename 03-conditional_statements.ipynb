{
 "cells": [
  {
   "cell_type": "raw",
   "id": "94c0b8dd",
   "metadata": {},
   "source": [
    "---\n",
    "title: \"Conditional Statements\"\n",
    "teaching: 10\n",
    "exercises: 2\n",
    "---"
   ]
  },
  {
   "cell_type": "markdown",
   "id": "3f841e3c",
   "metadata": {},
   "source": []
  },
  {
   "cell_type": "markdown",
   "id": "f2bfd66e",
   "metadata": {},
   "source": [
    "[**Download Chapter pdf**](03-conditional_statements.md.pdf)\n",
    "\n",
    "[**Download Chapter notebook (ipynb)**](03-conditional_statements.ipynb)\n"
   ]
  },
  {
   "cell_type": "markdown",
   "id": "a323c2ce",
   "metadata": {},
   "source": [
    "- What are conditional statements?\n",
    "- How conditional statements are used to make decisions?\n",
    "- Why indentation is so important in Python?\n",
    "- Is there any hierarchical importance of conditional statements?\n"
   ]
  },
  {
   "cell_type": "markdown",
   "id": "f46f7f19",
   "metadata": {},
   "source": [
    "- Understand the logic behind using conditional statements.\n",
    "- Practice conditional statements. \n",
    "- Learning structuring code using correct indentation. \n",
    "- Understanding the hierarchy of conditional statements.\n",
    "<br>\n",
    "<p align = \"center\">\n",
    "<iframe width=\"560\" height=\"315\" src=\"https://www.youtube.com/embed/oxB_XFfC4VY\" title=\"YouTube video player\" frameborder=\"0\" allow=\"accelerometer; autoplay; clipboard-write; encrypted-media; gyroscope; picture-in-picture\" allowfullscreen></iframe>\n",
    "</p>\n",
    "<br>\n",
    "\n",
    "This chapter assumes that you are familiar with the following concepts in Python 3:\n",
    "\n",
    "- [x] [I/O Operations](02-input_output.Rmd#operations)\n",
    "- [x] [Variables And Types](02-input_output.Rmd#varTypes)\n",
    "- [x] [Mathematical Operation](02-input_output.Rmd#math_ops)\n",
    "\n"
   ]
  },
  {
   "cell_type": "markdown",
   "id": "7374e6c0",
   "metadata": {},
   "source": [
    "<p style='text-align: justify;'>\n",
    "When we construct logical expressions, we almost always do so because we need to test something. The definition of a process through which we test our logical expressions and provide directives on how to proceed is known in computer science as a *conditional statement*. Conditional statements are a feature of programming languages. This means that although their definitions and grammar may vary slightly from one programming language to another, their principles are almost universally identical.\n",
    "</p>\n",
    "\n",
    "<p style='text-align: justify;'>\n",
    "Being a high-level programming language, defining conditional statements is very easy in Python. Before we start, however, let us briefly review the way conditional statements actually work. To help us with that, we use [flowchart diagrams](https://en.wikipedia.org/wiki/Flowchart).\n",
    "</p>\n",
    "\n",
    "## Remember\n",
    "<p style='text-align: justify;'>\n",
    "The term *conditional statements* is often used in relation to imperative programming languages. In functional programming, however, it is more common to refer to them as *conditional expressions* or *conditional constructs*. Python supports both imperative and functional programming.\n",
    "</p>\n"
   ]
  },
  {
   "cell_type": "markdown",
   "id": "af7fe71e",
   "metadata": {},
   "source": [
    "## EXAMPLE: Algorithms in daily life {#ex:roomAndLight}\n",
    "\n",
    "We use algorithms in our life every day without realising it. \n",
    "\n",
    "<p style='text-align: justify;'>\n",
    "Suppose we enter a room poorly lit room to work. The first things that we notice is that the room is insufficiently lit. We check to see whether or not the light is on; *if* not, we find the switch to turn on the light. Likewise, *if* the light is on, we go ahead and turn on the desk lamp before we proceed with our business. </p>"
   ]
  },
  {
   "cell_type": "markdown",
   "id": "35ab96a1",
   "metadata": {},
   "source": [
    "## Processes of Algorithms\n",
    "<p style='text-align: justify;'>\n",
    "This scenario may be perceived as a set of processes. These processes include a set of procedures that may be outlined as follows: \n",
    "</p>\n",
    "\n",
    "1. ```Action```: Enter the room.\n",
    "2. ```Input```: Determine that the room is insufficiently lit.\n",
    "3. ```Condition```: Is the light switched on? \n",
    "\n",
    "  * NO: ```Action```: turn on the lights,\n",
    "  * YES: ```Action```: turn on the desk lamp.\n",
    "\n",
    "4. ```Action```: Proceed with our business."
   ]
  },
  {
   "cell_type": "markdown",
   "id": "c446f0ba",
   "metadata": {},
   "source": [
    "Now that we know what procedures are involved, we can draw a flowchart of the process:\n",
    "\n",
    "![Flowchart](fig/conditional_flowchart.png)\t\n",
    "\n",
    "<p style='text-align: justify;'>\n",
    "Programming is not merely a hard skill. It is the door to a different way of thinking that enables one to break complex procedures down to simple, stepwise components and tasks. Flowcharts help us perceive processes as computers do --- that is, one task or component at a time. As we progress in programming, our brains develop the ability to think in a procedural way. This is called *algorithmic thinking*, and is one of the most important soft-skills that a programmer can develop. \n",
    "</p>\n",
    "\n",
    "<p style='text-align: justify;'>\n",
    "There are international competitions and comprehensive courses dedicated to this concept. At the end of the day, however, one can only acquire a skill through practice.\n",
    "</p>\n"
   ]
  },
  {
   "cell_type": "markdown",
   "id": "594f65e2",
   "metadata": {},
   "source": [
    "## Advanced Topic\n",
    "<p style='text-align: justify;'>\n",
    "If you are keen to learn more about algorithms and algorithmic thinking, or just want to try out some of the problems, you may want to look into some of the past competition papers on [Computational and Algorithmic Thinking (CAT)](http://www.amt.edu.au/informatics/cat/) published by the Australian Mathematics Trust.\n",
    "</p>"
   ]
  },
  {
   "cell_type": "markdown",
   "id": "a1bc5e42",
   "metadata": {},
   "source": [
    "[Exercise](#exe:algorithmicPuzzle) is provided to give you an idea of the type of problems that may be tackled in a procedural way."
   ]
  },
  {
   "cell_type": "markdown",
   "id": "9ab15672",
   "metadata": {},
   "source": [
    "## Do it Yourself {#exe:algorithmicPuzzle}\n",
    "<p style='text-align: justify;'>\t\n",
    "On a distant planet, the dominant carnivore, the zab, is nearing extinction. The number of zabs born in any year is one more than the (positive) difference between the number born in the previous year and the number born in the year before that.\n",
    "</p>\n",
    "\n",
    "**```Examples```**\n",
    "\n",
    "  * If 7 zabs were born last year and 5 the year before, 3 would be born this year. \n",
    "  * If 7 zabs were born last year and 10 the year before, 4 would be born this year. \n",
    "\n",
    "If 2 zabs were born in the year 2000 and 9 zabs were born in 2001. What is the first year after 2000 when just 1 zab will be born?\n",
    "\t\n",
    "a) 2009\n",
    "b) 2011\n",
    "c) 2013\n",
    "d) 2015\n",
    "e) 2017"
   ]
  },
  {
   "cell_type": "markdown",
   "id": "4207c9ee",
   "metadata": {},
   "source": [
    "**```Credit```**: This question is taken from the 2011 Computational and Algorithmic Thinking (CAT) Competition held by the Australian Mathematics Trust.}"
   ]
  },
  {
   "cell_type": "markdown",
   "id": "8300abc4",
   "metadata": {},
   "source": [
    "```\n",
    "To obtain the answer, we may write an algorithm in a pseudo-code format as follows:\n",
    "\t\t\n",
    "  let a_total = 2\n",
    "  \n",
    "  let b_total = 9\n",
    "  \n",
    "  let current_total = 0\n",
    "  \n",
    "  let current_year = 2002\n",
    "  \n",
    "\t\t\t\n",
    "  do {\n",
    "\t\t\t\t\n",
    "    b_total = current_total \n",
    "\t\t\t\t\n",
    "    current_total = absolute(a_total - b_total) + 1\n",
    "\t\t\t\t\n",
    "    a_total = b_total\n",
    "\t\t\t\t\n",
    "    current_year = current_year + 1\n",
    "\t\t\t\t\n",
    "\t\t} while current_total > 1\n",
    "\t\t\t\n",
    "\t\t\t\n",
    "    display current_year \n",
    "\n",
    "\t\t\n",
    "Given: \n",
    "\n",
    "  year = 2000; a_total = 2\n",
    "  year = 2001; b_total= 9\n",
    "\t\t\t\n",
    "the above process with repeat the section written in curly brackets for as long \n",
    "as current_total > 1:\n",
    "\t\t\t\n",
    "  current_year: 2002; a_total = 2, b_total = 9, current_total = 8\n",
    "\t\t\t\n",
    "Is current_total > 1 ? Yes:\n",
    "\t\t\t\n",
    "  current_year: 2003; a_total = 9, b_total = 8; current_total = 2\n",
    "\t\t\t\n",
    "Is current_total > 1 ? Yes:\n",
    "\t\t\t\n",
    "  current_year: 2004; a_total = 8; b_total = 2; current_total = 7\n",
    "\t\t\t\n",
    "Is current_total > 1 ? Yes:\n",
    "\t\t\t\n",
    "  current_year: 2005; a_total = 2; b_total = 7; current_total = 6\n",
    "\t\t\t\n",
    "Is current_total > 1 ? Yes:\n",
    "\t\t\t\n",
    "  current_year: 2006; a_total = 7; b_total = 6; current_total = 2\n",
    "\t\t\t\n",
    "Is current_total > 1 ? Yes:\n",
    "\t\t\t\n",
    "  current_year: 2007; a_total = 6; b_total = 2; current_total = 5\n",
    "\t\t\t\n",
    "Is current_total > 1 ? Yes:\n",
    "\t\t\t\n",
    "  current_year: 2008; a_total = 2; b_total = 5; current_total = 4\n",
    "\t\t\t\n",
    "Is current_total > 1 ? Yes:\n",
    "\t\t\t\n",
    "  current_year: 2009; a_total = 5; b_total = 4; current_total = 2\n",
    "\t\t\t\n",
    "Is current_total > 1 ? Yes:\n",
    "\t\t\t\n",
    "  current_year: 2010; a_total = 4; b_total = 2; current_total = 3\n",
    "\t\t\t\n",
    "Is current_total > 1 ? Yes:\n",
    "\t\t\t\n",
    "  current_year: 2011; a_total = 2; b_total = 3; current_total = 2\n",
    "\t\t\t\n",
    "Is current_total > 1 ? Yes:\n",
    "\t\t\t\n",
    "  current_year: 2012; a_total = 3; b_total = 2; current_total = 2\n",
    "\t\t\t\n",
    "Is current_total > 1 ? Yes:\n",
    "\t\t\t\n",
    "  current_year: 2013; a_total = 2; b_total = 2; current_total = 1\n",
    "\t\t\t\n",
    "Is current_total > 1 ? No:\n",
    "\n",
    "```\t\t\n",
    "\n",
    "The correct answer is  **c)** 2013.\n",
    "\n"
   ]
  },
  {
   "cell_type": "markdown",
   "id": "781b4cc1",
   "metadata": {},
   "source": [
    "## Remember\n",
    "<p style='text-align: justify;'>\n",
    "There is almost always more than one answer to any algorithmic problem; some answer might even be more efficient than other. The less repetition there is, the better more efficient an algorithm is considered to be.\n",
    "</p>"
   ]
  },
  {
   "cell_type": "markdown",
   "id": "c6f16d72",
   "metadata": {},
   "source": [
    "## Conditions in Python\n",
    "\n",
    "[**```if``` statments**](https://docs.python.org/3/tutorial/controlflow.html\\#if-statements)\n",
    "\n",
    "To implement conditional statements in Python, we use 3 syntaxes:"
   ]
  },
  {
   "cell_type": "markdown",
   "id": "65e20ff4",
   "metadata": {},
   "source": [
    "* To initiate the statement, we use the syntax <kbd>if</kbd> followed by the condition and a colon;\n"
   ]
  },
  {
   "cell_type": "code",
   "execution_count": null,
   "id": "b97634f9",
   "metadata": {},
   "outputs": [],
   "source": [
    "students_present = 15\n",
    "\t\t\n",
    "# Conditional statement:\n",
    "if students_present > 10:  # Initiation\n",
    "    # Directive (must be indented).\n",
    "    print('More than 10 students are present.')"
   ]
  },
  {
   "cell_type": "markdown",
   "id": "ba200e07",
   "metadata": {},
   "source": [
    "```{.output}\n",
    "More than 10 students are present.\n",
    "```\n",
    "\t"
   ]
  },
  {
   "cell_type": "markdown",
   "id": "532d05d0",
   "metadata": {},
   "source": [
    "* To create an alternative condition after the first condition has been defined, we use the syntax <kbd>elif</kbd> followed by the new condition and a colon;\n",
    "\t"
   ]
  },
  {
   "cell_type": "code",
   "execution_count": null,
   "id": "fea253aa",
   "metadata": {},
   "outputs": [],
   "source": [
    "students_present = 5\n",
    "\t\t\n",
    "# Conditional statement:\n",
    "if students_present > 10:  # Initiation\n",
    "\t\t\n",
    "    # Directive (must be indented).\n",
    "    print('More than 10 students are present.')\n",
    "\t\t\n",
    "elif 0 < students_present < 10:\n",
    "    print('Less than 10 students are present.')"
   ]
  },
  {
   "cell_type": "markdown",
   "id": "83f1f447",
   "metadata": {},
   "source": [
    "```{.output}\n",
    "Less than 10 students are present.\n",
    "```"
   ]
  },
  {
   "cell_type": "markdown",
   "id": "3c8a90de",
   "metadata": {},
   "source": [
    "* To introduce a default --- i.e. where none of the above are ```True```, we use the syntax <kbd>else</kbd>.\n",
    "\n"
   ]
  },
  {
   "cell_type": "code",
   "execution_count": null,
   "id": "f55727d3",
   "metadata": {},
   "outputs": [],
   "source": [
    "students_present = 0\n",
    "\t\t\n",
    "# Conditional statement:\n",
    "if students_present > 10:  # Initiation\n",
    "    # Directive (must be indented).\n",
    "    print('More than 10 students are present.')\n",
    "\n",
    "elif 0 < students_present < 10:  # Alternative condition\n",
    "    # Alternative directive (must be indented).\n",
    "    print('Less than 10 students are present.')\n",
    "\n",
    "else:  # Default (none of the conditions are met).\n",
    "    # Directive (must be indented).\n",
    "    print('There is no one!')"
   ]
  },
  {
   "cell_type": "markdown",
   "id": "e9809463",
   "metadata": {},
   "source": [
    "```{.output}\n",
    "There is no one!\n",
    "```"
   ]
  },
  {
   "cell_type": "markdown",
   "id": "dc3c2995",
   "metadata": {},
   "source": [
    "## Remember\n",
    "We can use disjunctions or conjunctions, as discussed in topic [Disjunctions and Conjunctions](02-input_output.Rmd#disjun), to test for more than one condition at a time."
   ]
  },
  {
   "cell_type": "markdown",
   "id": "ae964e10",
   "metadata": {},
   "source": [
    "### **Indentation Rule** {#subsubsec:indentationRule}\n",
    "\n",
    "[**PEP-8: Indentation**](https://www.python.org/dev/peps/pep-0008/\\#indentation)\n",
    "<p style='text-align: justify;'>\n",
    "Always use 4 spaces for indentation. Indentations are how the Python interpreter determines the code hierarchy. A consistent hierarchy is therefore essential for the interpreter to parse and execute our code. \n",
    "</p>\n",
    "\n",
    "<p style='text-align: justify;'>\n",
    "The indented part of the code is known as a *block*. A block represents a part of the code that always \"belongs\" to (is the child process of) the first *un*indented (dedented) line that precedes it. In other words, the action(s) within a conditional statement (actions that are subject to a specific condition) must always be *indented*:\n",
    "</p>\n"
   ]
  },
  {
   "cell_type": "code",
   "execution_count": null,
   "id": "0aa89b01",
   "metadata": {},
   "outputs": [],
   "source": [
    "\n",
    "value = 10\n",
    "\t\n",
    "# Statement A:\n",
    "if value > 0: \n",
    "  \n",
    "    # First dedented line before the block.  \n",
    "    # This is a block, and it belongs to the \n",
    "    # preceding \"if\" (Statement A):\n",
    "    print('The value is positive.')\n",
    "\n",
    "    # We can have nested blocks too.\n",
    "    # Statement B:\n",
    "    if value > 9:  \n",
    "    # First dedented line before the block.\n",
    "    # This is another block (nested).\n",
    "    # This block belongs to the preceding \"if\" (Statement B).\n",
    "        print('The value is not a single digit.')\n",
    "\n",
    "    # Introducing a default behaviour for Statement B:\n",
    "    else:\n",
    "    # This block belongs to the preceding \"else\".\n",
    "        print('The value is a single digit.')\n",
    "\n",
    "# Introducing an alternative condition for Statement A:\n",
    "elif value < 0: \n",
    "# This block belongs to the preceding \"elif\".\n",
    "    print('The value is negative.')\n",
    "\n",
    "# Introducing a default behaviour for Statement A:\n",
    "else:  \n",
    "# This block belongs to the preceding \"else\".\n",
    "    print('The value is zero.')"
   ]
  },
  {
   "cell_type": "markdown",
   "id": "526cffcf",
   "metadata": {},
   "source": [
    "```{.output}\n",
    "The value is positive.\n",
    "The value is not a single digit.\n",
    "```\n",
    "\n",
    "<p style='text-align: justify;'>\n",
    "It is not a good practice to have too many nested indentation. This would make the code more difficult to read. A rule of thumb is that you should not need more than 4 nested indentations in your code. If you do, you should reconsider the code structure to somehow simplify the process. \n",
    "</p>\n",
    "\n",
    "<p style='text-align: justify;'>\n",
    "On that note, where possible, it is better to use conjunctions and disjunctions, or implement alternative conditions using <kbd>elif</kbd> instead of creating nested conditional statements. We can therefore restructure the previous example in a better, more coherent way as follows:\n",
    "</p>\n"
   ]
  },
  {
   "cell_type": "code",
   "execution_count": null,
   "id": "fe91d55f",
   "metadata": {},
   "outputs": [],
   "source": [
    "value = 10\n",
    "\t\n",
    "if value > 9:\n",
    "  print('The value is positive.')\n",
    "  print('The value is not a single digit.')\n",
    "elif value > 0: \n",
    "  print('The value is positive.')\n",
    "  print('The value is a single digit.')\n",
    "elif value < 0:\n",
    "  print('The value is negative.')\n",
    "else:\n",
    "  print('The value is zero.')"
   ]
  },
  {
   "cell_type": "markdown",
   "id": "99132e65",
   "metadata": {},
   "source": [
    "```{.output}\n",
    "The value is positive.\n",
    "The value is not a single digit.\n",
    "```\n",
    "\n",
    "<p style='text-align: justify;'>\n",
    "It is customary and also best practice to use 4 spaces for indentation in Python. It is also paramount that all indentations throughout the code are consistent; that is, you may not use 4 spaces here and 3 spaces somewhere else in your code. Doing so will cause an ```IndentationError``` to be raised. It is recommended to *not* use ```Tab``` to indent your code; it is regarded as a bad practice in Python.\n",
    "</p>\n",
    "\n",
    "```\n",
    "value = 10\n",
    "\t\n",
    "if value > 0:\n",
    "    print('The value is: ')  # Indented with 4 spaces.\n",
    "   print('POSITIVE.')  # Indented with 3 spaces.\n",
    "\n",
    "```\n",
    "\n",
    "```\n",
    "File <STDIN>, line 5\n",
    "    print('POSITIVE.')  # Indented with 3 spaces.\n",
    "                                                 ^\n",
    "IndentationError: unindent does not match any outer indentation level\n",
    "```\n",
    "<p style='text-align: justify;'>\n",
    "```Tab``` indentations represent different number of spaces on different computers and operating systems. It is therefore more than likely that they will lead to ```IndentationError```. Additionally, Python 3 disallows the mixing of **tab** and **space** indentations. Some Python IDEs such as *PyCharm* automatically convert ```Tab``` indentations to 4 spaces. Some other IDEs (e.g. Jupyter) typically highlight ```Tab``` indentations to explicitly distinguish them and thereby notify the programmer of their existence. However, more often than not, IDEs and text editors tend to *ignore* this, which amounts to inconsistencies and subsequently ```IndentationError```. This is a very common difficulty that new Python programmers face, and can be very confusing if not handled correctly. \n",
    "</p>\n",
    "\n",
    "\n",
    "\n",
    "## Do it yourself \n",
    "\n",
    "<p style='text-align: justify;'>\n",
    "In previous chapter, [Do it Yourself](02-input_output.Rmd#diy:mathOpts:Huntington), we explored the implication of ```CAG``` repeats in Huntington's disease. We also created a polynucleotide chain containing 36 repetition of the ```CAG``` codons.\n",
    "</p>\n",
    "\n",
    "<p style='text-align: justify;'>\n",
    "Write a conditional statement that tests the length of a polyQ tract to determine the *classification* and the *disease status* based on the following Table:\n",
    "</p>\n",
    "\n",
    "![](fig/diy_CAG.png)\n",
    "<p style='text-align: justify;'>\n",
    "Using the technique you used in [Do it Yourself](02-input_output.Rmd#diy:mathOpts:Huntington), create 5 polyQ tracts containing 26, 15, 39, 32, 26, and 54 codons. Use these polynucleotide chains to test your conditional statement. \n",
    "</p>\n",
    "\n",
    "Display the result for each chain in the following format:\n",
    "\n",
    "```\n",
    "PolyQ chain with XXX number of CAG codons: \n",
    "Status: XXX\n",
    "Classification: XXX\n",
    "```\n",
    "<p style='text-align: justify;'>\n",
    "**Hint:** The length of a polyQ tract represents the number of nucleotides, not the number of ```CAG``` codons. See task 4 of [Do it Yourself](02-input_output.Rmd#diy:mathOpts:Huntington) for additional information.\n",
    "</p>\n",
    "\n",
    "\n",
    "\n",
    "```python\n",
    "#Constructing the codons:\n",
    "\n",
    "glutamine_codon = 'CAG'\n",
    "\n",
    "polyq_codons = glutamine_codon * 36\n",
    "\n",
    "\n",
    "#Determining the length of our codon:\n",
    "\n",
    "signle_codon = len('CAG')\n",
    "\n",
    "len_polyq = len(polyq_codons) \n",
    "\n",
    "polyq = len_polyq / signle_codon \n",
    "#Constructing the conditional statement:\n",
    "\n",
    "NORMAL = 26\n",
    "INTERMEDIATE = 35\n",
    "REDUCED_PENETRANCE = 40\n",
    "\n",
    "classification = str()\n",
    "status = str()\n",
    "\n",
    "if len_polyq < NORMAL:\n",
    "\n",
    "  classification, status = 'Normal', 'Unaffected'\n",
    "\n",
    "elif len_polyq <= INTERMEDIATE:\n",
    "\n",
    "  classification, status = 'Intermediate', 'Unaffected'\n",
    "\n",
    "elif len_polyq <= REDUCED_PENETRANCE:\n",
    "  classification, status = 'Reduced Penetrance', '+/- Affected'\n",
    "\n",
    "else:\n",
    "  classification, status = 'Full Penetrance', 'Affected'\n",
    "\n",
    "\n",
    "#Displaying the results:\n",
    "\n",
    "print('PolyQ chain with', polyq, 'number of CAG codons:') \n",
    "```\n",
    "\n",
    "```{.output}\n",
    "PolyQ chain with 36.0 number of CAG codons:\n",
    "```"
   ]
  },
  {
   "cell_type": "code",
   "execution_count": null,
   "id": "fb85b46e",
   "metadata": {},
   "outputs": [],
   "source": [
    "print('Status:', status)"
   ]
  },
  {
   "cell_type": "markdown",
   "id": "d2037d79",
   "metadata": {},
   "source": [
    "```{.output}\n",
    "Status: Affected\n",
    "```"
   ]
  },
  {
   "cell_type": "code",
   "execution_count": null,
   "id": "8672d1bd",
   "metadata": {},
   "outputs": [],
   "source": [
    "print('Classification:', classification)\n",
    "\n",
    "\n",
    "#Repeat this with 15, 39, 32, 26, and 54 codons. "
   ]
  },
  {
   "cell_type": "markdown",
   "id": "d4edb3a6",
   "metadata": {},
   "source": [
    "```{.output}\n",
    "Classification: Full Penetrance\n",
    "```\n"
   ]
  },
  {
   "cell_type": "markdown",
   "id": "0f539e20",
   "metadata": {},
   "source": [
    "### **Hierarchy of conditional statements**\n",
    "<p style='text-align: justify;'>\n",
    "The hierarchy of conditional statement is always the same. We start the statement with an <kbd>if</kbd> syntax (initiation). This is the only essential part to implement a conditional statement. Other parts include the <kbd>elif</kbd> and the <kbd>else</kbd> syntaxes. These are the non-essential part, and we implement these as and when needed. It is, however, important that we adhere to the correct order when we implement these:\n",
    "</p>\n",
    "\n",
    "* *Always* start with the initiation syntax <kbd>if</kbd>.\n",
    "* *Where needed,* implement as many alternative conditions as necessary <kbd>elif</kbd>.\n",
    "* *Where needed,* implement a default behaviour using <kbd>else</kbd>}.\n",
    "\n",
    "<p style='text-align: justify;'>\n",
    "In an ```if...elif...else``` hierarchy, once one condition in the hierarchy is ```True```, all *subsequent* conditions in that group are skipped and would no longer be checked. \n",
    "</p>\n",
    "\n",
    "<p style='text-align: justify;'>\n",
    "In the following example, the first condition is ```True```, therefore its corresponding block is executed and the rest of this conditional statement is skipped:\n",
    "</p>\n"
   ]
  },
  {
   "cell_type": "code",
   "execution_count": null,
   "id": "2bc28f7c",
   "metadata": {},
   "outputs": [],
   "source": [
    "TATA_BOX = 'TATA'\n",
    "\t\n",
    "promoter_region = 'GTAACTGTGGTATAATCGT'\n",
    "\t\n",
    "if TATA_BOX in promoter_region:  \n",
    "    # This condition is \"True\", so this\n",
    "    # and only this block is executed.\n",
    "    print('There is a \"TATA\" box in this promoter region.')\n",
    "else:\n",
    "    # The last condition was \"False\", so this \n",
    "    # block is skipped.\n",
    "    print('There is no \"TATA\" box in this promoter region.')"
   ]
  },
  {
   "cell_type": "markdown",
   "id": "ebd0cf66",
   "metadata": {},
   "source": [
    "```{.output}\n",
    "There is a \"TATA\" box in this promoter region.\n",
    "```"
   ]
  },
  {
   "cell_type": "markdown",
   "id": "c5cc2cc0",
   "metadata": {},
   "source": [
    "## Remember\n",
    "<p style='text-align: justify;'>\n",
    "We already know from subsection [Logical Operations](02-input_output.Rmd#subsec:logicalOperatons) that the value of a *boolean* (```bool```) variable is either ```False``` or ```True```.\n",
    "</p>\n",
    "\n",
    "<p style='text-align: justify;'>\n",
    "We have also learned that in conditional statements, we use *double* equals} or ```... == ...``` to test for equivalence. So naturally, one could test for the *truth value* of a ```bool``` variables as follows:\n",
    "</p>\n"
   ]
  },
  {
   "cell_type": "code",
   "execution_count": null,
   "id": "88396b1a",
   "metadata": {},
   "outputs": [],
   "source": [
    "variable = False \n",
    "\t\t\n",
    "if variable == False:\n",
    "    print('The variable is False.')"
   ]
  },
  {
   "cell_type": "markdown",
   "id": "991ab110",
   "metadata": {},
   "source": [
    "```{.output}\n",
    "The variable is False.\n",
    "```\n",
    "\n",
    "<p style='text-align: justify;'>\n",
    "This works, and it looks simple enough. However, this is the **wrong approach** for testing the value of ```bool``` variables and should *not* be used. Whilst the answer is correct in the above example, using *double equals* for testing *boolean* variables can sometimes produce incorrect results. \n",
    "</p>\t\n",
    "\n",
    "The correct way to test the *truth value* of a *boolean* variable is by using <kbd>is</kbd> as follows:\n",
    "\t"
   ]
  },
  {
   "cell_type": "code",
   "execution_count": null,
   "id": "859b3095",
   "metadata": {},
   "outputs": [],
   "source": [
    "variable = False \n",
    "\t\t\n",
    "if variable is False:\n",
    "    print('The variable is False.')"
   ]
  },
  {
   "cell_type": "markdown",
   "id": "306b20e5",
   "metadata": {},
   "source": [
    "```{.output}\n",
    "The variable is False.\n",
    "```\n",
    "\n",
    "and the negative test is:\n",
    "\t"
   ]
  },
  {
   "cell_type": "code",
   "execution_count": null,
   "id": "7ec10aea",
   "metadata": {},
   "outputs": [],
   "source": [
    "variable = True \n",
    "\n",
    "if variable is not False:\n",
    "\n",
    "    print('The variable is True.')"
   ]
  },
  {
   "cell_type": "markdown",
   "id": "96c52eb9",
   "metadata": {},
   "source": [
    "```{.output}\n",
    "The variable is True.\n",
    "```\n",
    "\n",
    "<p style='text-align: justify;'>\n",
    "In short; as far as *boolean* variables are concerned, we should always use <kbd>is</kbd> or <kbd>is not</kbd> to test for their *truth value* in a conditional statement. \n",
    "</p>"
   ]
  },
  {
   "cell_type": "markdown",
   "id": "f6448a5f",
   "metadata": {},
   "source": [
    "Consequently, we can now write the example [algorithm](#ex:roomAndLight) (room and light) as follows:\n"
   ]
  },
  {
   "cell_type": "code",
   "execution_count": null,
   "id": "c4b615ed",
   "metadata": {},
   "outputs": [],
   "source": [
    "light_status = False\n",
    "\t\n",
    "if light_status is True:\n",
    "\t\t\n",
    "    action = 'The light is on; you may want to turn off the desk light.'\n",
    "\t\n",
    "else:\n",
    "    action = 'The light is off... turn it on.'\n",
    "\t\n",
    "print(action)"
   ]
  },
  {
   "cell_type": "markdown",
   "id": "324726f5",
   "metadata": {},
   "source": [
    "```{.output}\n",
    "The light is off... turn it on.\n",
    "```\n",
    "\n",
    "<p style='text-align: justify;'>\n",
    "There are a few very popular shorthands in Python that you should be familiar with when writing or reading conditional statements:\n",
    "</p>\n",
    "\n",
    "<p style='text-align: justify;'>\n",
    "In an <kbd>if</kbd> statement, Python expects the result of the condition to be ```True```. As result of that, we can simplify the above example as follows:\n",
    "</p>\n"
   ]
  },
  {
   "cell_type": "code",
   "execution_count": null,
   "id": "b5f720da",
   "metadata": {},
   "outputs": [],
   "source": [
    "light_status = False\n",
    "\t\n",
    "if light_status:\n",
    "\t\n",
    "    action = 'The light is on; you may want to turn off the desk light.'\n",
    "\t\n",
    "else:\n",
    "\t\n",
    "    action = 'The light is off... turn it on.'\n",
    "\t\n",
    "print(action)"
   ]
  },
  {
   "cell_type": "markdown",
   "id": "0ee1dc7d",
   "metadata": {},
   "source": [
    "```{.output}\n",
    "The light is off... turn it on.\n",
    "```\n",
    "\n",
    "<p style='text-align: justify;'>\n",
    "Sometime, however, we might need to test for a ```False``` outcome. To do so, we can write a negated conditions as described in subsection [Negation](02-input_output.Rmd#sec:logicalStatements:Negation) instead:\n",
    "</p>\n"
   ]
  },
  {
   "cell_type": "code",
   "execution_count": null,
   "id": "90d5ee4e",
   "metadata": {},
   "outputs": [],
   "source": [
    "# Note that we have changed the order of the condition\n",
    "# and added a \"not\" before \"light_status\"\n",
    "if not light_status:\n",
    "\n",
    "    action = 'The light is off... turn it on.'\n",
    "\t\n",
    "else:\n",
    "\n",
    "    action = 'The light is on; you may want to turn off the desk light.'\n",
    "\t\n",
    "print(action)"
   ]
  },
  {
   "cell_type": "markdown",
   "id": "ec671824",
   "metadata": {},
   "source": [
    "```{.output}\n",
    "The light is off... turn it on.\n",
    "```"
   ]
  },
  {
   "cell_type": "markdown",
   "id": "7f7f7ce2",
   "metadata": {},
   "source": [
    "## EXAMPLE: A familiar scenario {#ex:scenario}\n",
    "\n",
    "Suppose we want to determine the classification of the final mark for a student. \n",
    "\t\n",
    "The classification protocol is as follows:\n",
    "\t\n",
    "* Above 70\\%: First class.\n",
    "* Between 60\\% and 70\\%: Second class (upper division).\n",
    "* Between 50\\% and 60\\%: Second class (lower division).\n",
    "* Between 40\\% and 50\\%: Pass.\n",
    "* Below 40\\%: Fail.\n"
   ]
  },
  {
   "cell_type": "code",
   "execution_count": null,
   "id": "2011aa46",
   "metadata": {},
   "outputs": [],
   "source": [
    "mark = 63\n",
    "\t\t\n",
    "# Thresholds \n",
    "first = 70\n",
    "second_upper = 60\n",
    "second_lower = 50 \n",
    "passed = 40  # \"pass\" is a syntax in Python.\n",
    "\t\t\n",
    "if mark >= first:\n",
    "    classification = 'First Class' \n",
    "elif mark > second_upper:\n",
    "    classification = 'Second Class (upper division)'\n",
    "elif mark > second_lower:\n",
    "    classification = 'Second Class (lower division)'\n",
    "elif mark > passed:\n",
    "    classification = 'Pass'\n",
    "else:\n",
    "    classification = 'Fail'\n",
    "\t\t\n",
    "print('The student obtained a', classification, 'in their studies.')"
   ]
  },
  {
   "cell_type": "markdown",
   "id": "49a4fc2d",
   "metadata": {},
   "source": [
    "```{.output}\n",
    "The student obtained a Second Class (upper division) in their studies.\n",
    "```"
   ]
  },
  {
   "cell_type": "markdown",
   "id": "d98e52c1",
   "metadata": {},
   "source": [
    "## Exercises\n",
    "\n",
    "#### End of chapter Exercises\n",
    "<p style='text-align: justify;'>\n",
    "1.  Protein Kinases have a phosphorylation site and a consensus sequence has been determined for these sites  ( [Rust and Thompson, 2012](https://www.ncbi.nlm.nih.gov/pmc/articles/PMC3176959/) ). All the proteins incorporate either a Serine or a Threonine residue that gets phosphorylated. Naturally, the consensus sequence for each protein varies slightly from that of other proteins.  \n",
    "</p>\n",
    "\n",
    "<p style='text-align: justify;'>\n",
    "When studying a polypeptide in the lab, a colleague realised that it has a phosphorylated Serine. So they tried to sequence the polypeptide, and managed to obtain a sequence for the protein:   \n",
    "</p>\n",
    "\n",
    "```\n",
    "kinase_peptide = (\n",
    "\t\"PVWNETFVFNLKPGDVERRLSVEVWDWDRTSRNDFMGAMSFGVSELLK\"\n",
    "\t\"APVDGWYKLLNQEEGEYYNVPVADADNCSLLQKFEACNYPLELYERVR\"\n",
    "\t\"MGPSSSPIPSPSPSPTDPKRCFFGASPGRLHISDFSFLMRRRKGSFGK\"\n",
    "\t\"VMLAERRGSDELYAIKILKKDVIVQDDDVDCTLVEKRVLALGGRGPGG\"\n",
    "\t\"RPHFLTQLHSTFQTPDRLYFVMEYVTGGDLMYHIQQLGKFKEPHAAFY\"\n",
    "\t\"AAEIAIGLFFLHNQGIIYRDLKLDNVMLDAEGHIKITDFGMCKENVF\"\n",
    "\t\t)\n",
    "```\n",
    "\n",
    "<p style='text-align: justify;'>\n",
    "Desperate to find a match, and knowing that we are good at doing ```computer stuff```, they asked us if we can help them identify what protein kinase does the sequence correspond to? \n",
    "</p>\n",
    "\n",
    "<p style='text-align: justify;'>\n",
    "So we extract the consensus sequence of 3 protein kinases from [the paper](https://www.ncbi.nlm.nih.gov/pmc/articles/PMC3176959/):\n",
    "</p>\t\n",
    "\n",
    "* PKC-$\\eta$: either ```RKGSFRR``` or ```RRRSFRR```\n",
    "* PKC-$\\gamma$: either ```RRRKGSF``` or ```RRRKKSF```\n",
    "* DMPK-E: one of ```KKRRRSL```, ```RKRRRSL```, ```KKRRRSV```, or ```RKRRRSV```. \n",
    "\n",
    "<p style='text-align: justify;'>\t\n",
    "Now all we need is to write a conditional statement in Python to identify which of the above protein kinases, if any, does our sequence correspond to. That is, which one of the consensus peptides exists in our mystery sequence? \n",
    "</p>\n",
    "\n",
    "<p style='text-align: justify;'>\n",
    "If there is a match, our programme should display the name of the corresponding protein kinase; otherwise, it should say ```No matches found``` for good measures.\n",
    "</p>"
   ]
  },
  {
   "cell_type": "markdown",
   "id": "aebcc858",
   "metadata": {},
   "source": [
    "## Please check these solutions only after submitting the assignments.\n"
   ]
  },
  {
   "cell_type": "code",
   "execution_count": null,
   "id": "e1b31de2",
   "metadata": {},
   "outputs": [],
   "source": [
    "peptide = (\n",
    " \t\"PVWNETFVFNLKPGDVERRLSVEVWDWDRTSRNDFMGAMSFGVSELLK\"\n",
    " \t\"APVDGWYKLLNQEEGEYYNVPVADADNCSLLQKFEACNYPLELYERVR\"\n",
    " \t\"MGPSSSPIPSPSPSPTDPKRCFFGASPGRLHISDFSFLMRRRKGSFGK\"\n",
    " \t\"VMLAERRGSDELYAIKILKKDVIVQDDDVDCTLVEKRVLALGGRGPGG\"\n",
    " \t\"RPHFLTQLHSTFQTPDRLYFVMEYVTGGDLMYHIQQLGKFKEPHAAFY\"\n",
    " \t\"AAEIAIGLFFLHNQGIIYRDLKLDNVMLDAEGHIKITDFGMCKENVF\"\n",
    " )\n",
    "\n",
    "if \"RKGSFRR\" in peptide or \"RRRSFRR\" in peptide:\n",
    "  print('PKC-eta')\n",
    "elif \"RRRKGSF\" in peptide or \"RRRKKSF\" in peptide:\n",
    "  print('PKC-gamma')\n",
    "elif (\"KKRRRSL\" in peptide or \"RKRRRSL\" in peptide or \n",
    "  \"KKRRRSV\" in peptide or \"RKRRRSV\" in peptide):\n",
    "  print('DMPK-E')\n",
    "else:\n",
    "  print('No matches found.')"
   ]
  },
  {
   "cell_type": "markdown",
   "id": "a261ac8f",
   "metadata": {},
   "source": [
    "```{.output}\n",
    "PKC-gamma\n",
    "```\n",
    "\n"
   ]
  },
  {
   "cell_type": "markdown",
   "id": "2d77ff37",
   "metadata": {},
   "source": [
    "- Python used ```if, elif and else``` as conditional statements.\n",
    "- In Python, there is an indentation rule of 4 spaces.\n",
    "- The hierarchy of conditional statement is always the same.\n",
    "\n",
    "\n"
   ]
  },
  {
   "cell_type": "markdown",
   "id": "0121df4c",
   "metadata": {},
   "source": [
    "[r-markdown]: https://rmarkdown.rstudio.com/"
   ]
  }
 ],
 "metadata": {
  "jupytext": {
   "cell_metadata_filter": "-all",
   "main_language": "python",
   "notebook_metadata_filter": "-all"
  }
 },
 "nbformat": 4,
 "nbformat_minor": 5
}
