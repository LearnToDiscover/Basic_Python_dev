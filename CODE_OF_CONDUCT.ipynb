{
 "cells": [
  {
   "cell_type": "raw",
   "id": "6bc82ab8",
   "metadata": {},
   "source": [
    "---\n",
    "title: \"Contributor Code of Conduct\"\n",
    "---"
   ]
  },
  {
   "cell_type": "markdown",
   "id": "2df1ed72",
   "metadata": {},
   "source": [
    "As contributors and maintainers of this project,\n",
    "we pledge to follow the [Carpentry Code of Conduct][coc].\n",
    "\n",
    "Instances of abusive, harassing, or otherwise unacceptable behavior\n",
    "may be reported by following our [reporting guidelines][coc-reporting]."
   ]
  },
  {
   "cell_type": "markdown",
   "id": "2816c376",
   "metadata": {},
   "source": [
    "[coc-reporting]: https://docs.carpentries.org/topic_folders/policies/incident-reporting.html\n",
    "[coc]: https://docs.carpentries.org/topic_folders/policies/code-of-conduct.html"
   ]
  }
 ],
 "metadata": {
  "jupytext": {
   "cell_metadata_filter": "-all",
   "main_language": "python",
   "notebook_metadata_filter": "-all"
  }
 },
 "nbformat": 4,
 "nbformat_minor": 5
}
