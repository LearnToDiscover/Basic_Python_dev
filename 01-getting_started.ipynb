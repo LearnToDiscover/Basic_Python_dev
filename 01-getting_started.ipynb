{
 "cells": [
  {
   "cell_type": "raw",
   "id": "67059d06",
   "metadata": {},
   "source": [
    "---\n",
    "title: \"Getting started\"\n",
    "teaching: 10\n",
    "exercises: 2\n",
    "---"
   ]
  },
  {
   "cell_type": "markdown",
   "id": "738b0764",
   "metadata": {},
   "source": [
    "[**Download Chapter pdf**](01-getting_started.md.pdf)\n",
    "\n",
    "[**Download Chapter notebook (ipynb)**](01-getting_started.ipynb)"
   ]
  },
  {
   "cell_type": "markdown",
   "id": "a9967396",
   "metadata": {},
   "source": [
    "- Programming - why bother?\n",
    "- Why Python?\n",
    "- How to learn it?\n"
   ]
  },
  {
   "cell_type": "markdown",
   "id": "058b519b",
   "metadata": {},
   "source": [
    "- Understand the concept of programming\n",
    "- Understand the basics of Python language\n",
    "\n",
    "## Programming --- why bother?\n",
    "<p style='text-align: justify;'> \n",
    "Data handling and analysis in bio-research and medicine is best done using coding. In October 2017,  the American technology magazine Wired published an [article](https://www.wired.com/2017/03/biologists-teaching-code-survive/) in which the author outlines reasons why several established bio-science researchers working in reputable institutions felt the need to learn coding --- specifically in Python: \"Want to Make It as a Biologist? Better Learn to Code\".\n",
    "</p>"
   ]
  },
  {
   "cell_type": "markdown",
   "id": "2efa8eb1",
   "metadata": {},
   "source": [
    "## This Course\n",
    "<p style='text-align: justify;'>\n",
    "We focus on the Python programming language throughout this course, but we discuss universal principles shared amongst many programming languages. Through a diverse range of examples, we will be training these principles by solving problems that we face in biological and medical research.\n",
    "</p>\n"
   ]
  },
  {
   "cell_type": "markdown",
   "id": "f374f8a5",
   "metadata": {},
   "source": [
    "## Why Python?\n",
    "<p style='text-align: justify;'>\n",
    "Python is a general-purpose programming language. This means that it can be exploited to design any type of software, from desktop and web, to robotics and automation, to data analysis. The 2020 survey conducted by the Python Software Foundation and JetBrains^&#174;^ found that approximately 85% of respondents used Python  as their first language [to conduct data analysis](https://www.jetbrains.com/research/python-developers-survey-2017/#types-of-development).\n",
    "</p>\n",
    "\n",
    "<p style='text-align: justify;'>\n",
    "In addition, the 2021 developer survey conducted by StackOverflow found that Python is the [third most popular](https://insights.stackoverflow.com/survey/2021#most-popular-technologies-language) general-purpose programming language after JavaScript and HTML/CSS. This means that it enjoys a vibrant community that support and maintain its development, and the development of the libraries associated with it. This is confirmed by the fact that the language is ranked as the [second most popular language on GitHub^&#174;^](https://madnight.github.io/githut/#/pull_requests/2018/1), which is the primary code-sharing platform amongst programmers.\n",
    "</p>"
   ]
  },
  {
   "cell_type": "markdown",
   "id": "e7badbe0",
   "metadata": {},
   "source": [
    "## How to learn?\t\n",
    "<p style='text-align: justify;'>\n",
    "Learning how to code as a beginner is akin to learning how to walk as a baby. You cannot learn programming by memorising directives; no matter how well you memorise them. To learn how to code, one must learn how think algorithmically; that is, how to break different tasks down into logical procedures. The only way to learn how to \"think code\" is to practice, make mistakes, and how to overcome those mistakes. It is common to make the same mistake more than once, especially in different contexts, and that can become frustrating at times. However, once you get it, you have it for life.\n",
    "</p>\n",
    "\n",
    "<p style='text-align: justify;'>\t\n",
    "There are lots materials on the web, both free and paid, to assist with your learning. Use them to your advantage! Great programmers are not the ones who know every technical detail by heart; rather, they are the ones who know what they are looking for, and where they can find the answer.\t\n",
    "</p>"
   ]
  },
  {
   "cell_type": "markdown",
   "id": "4287325e",
   "metadata": {},
   "source": [
    "## Known Quirk\n",
    "<p style='text-align: justify;'>\n",
    "Unlike popular belief, the name **Python** has nothing to do with the snake. It is in fact derived from the popular British sketch comedy series [Monty Python's Flying Circus](https://en.wikipedia.org/wiki/Monty_Python\\%27s_Flying_Circus), of which inventor Guido van Rossum was a self-confessed fan.\n",
    "</p>"
   ]
  },
  {
   "cell_type": "markdown",
   "id": "9e5f434f",
   "metadata": {},
   "source": [
    "## Python: The Programming Language\n",
    "<p style='text-align: justify;'>\n",
    "Python is a general-purpose, high-level programming language. It was invented by the Dutch computer programmer [Guido van Rossum](https://en.wikipedia.org/wiki/Guido_van_Rossum) and was released for the first time in 1990. \n",
    "</p>\n",
    "<p style='text-align: justify;'>\t\n",
    "A **high-level** programming language is a language that enjoys strong abstraction from computer details. This means that it is closer to the language that is spoken and understood by humans; put simply: it makes the language more enjoyable to work with.\n",
    "</p>\t\n",
    "\n",
    "## Categories\n",
    "<p style='text-align: justify;'>\n",
    "In terms of compilation (the conversion of code into the binary symbols understood by a computer), programming languages may be divided into two different categories:\n",
    "</p>\n",
    "\n",
    "<p style='text-align: justify;'>\n",
    "1 - **Compiled ** These are languages whose code is translated (compiled) into machine language en-masse, and in advance, using a designated compiler programme --- e.g.\\  C, Rust, Haskell.\n",
    "</p>\n",
    "<p style='text-align: justify;'>\n",
    "2- **Interpreted** These languages rely on and must *always* be accompanied by an interpreter, whose job is to translate the source code into machine language one line at a time --- e.g.\\  Python, R, MATLAB^&#174;^.\n",
    "</p>\n",
    "\n",
    "\n",
    "\n"
   ]
  },
  {
   "cell_type": "markdown",
   "id": "f96d0864",
   "metadata": {},
   "source": [
    "- Programming is an important skill which is highly applicable to bio-research and medicine.\n",
    "- Python is one of the most popular programming language for being general-purpose and high level language.\n",
    "- Python uses an interpreter for line by line code translation. "
   ]
  },
  {
   "cell_type": "markdown",
   "id": "1d1b82df",
   "metadata": {},
   "source": [
    "[r-markdown]: https://rmarkdown.rstudio.com/"
   ]
  }
 ],
 "metadata": {
  "jupytext": {
   "cell_metadata_filter": "-all",
   "main_language": "python",
   "notebook_metadata_filter": "-all"
  }
 },
 "nbformat": 4,
 "nbformat_minor": 5
}
