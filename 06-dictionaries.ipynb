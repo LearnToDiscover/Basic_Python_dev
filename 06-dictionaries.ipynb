{
 "cells": [
  {
   "cell_type": "raw",
   "id": "1af14b15",
   "metadata": {
    "lines_to_next_cell": 0
   },
   "source": [
    "---\n",
    "title: \"Dictionaries\"\n",
    "output: html_document\n",
    "date: '2022-05-11'\n",
    "---"
   ]
  },
  {
   "cell_type": "markdown",
   "id": "6f339d99",
   "metadata": {},
   "source": [
    "[**Download Chapter pdf**](06-dictionaries.md.pdf)\n",
    "\n",
    "[**Download Chapter notebook (ipynb)**](06-dictionaries.ipynb)\n",
    "\n",
    "[<span style=\"color: rgb(255, 0, 0);\">**Mandatory Lesson Feedback Survey**</span>](https://docs.google.com/forms/d/e/1FAIpQLSdr0capF7jloJhPH3Pki1B3LZoKOG16poOpuVJ7SL2LkwLHQA/viewform?pli=1)"
   ]
  },
  {
   "cell_type": "markdown",
   "id": "bd7f461b",
   "metadata": {},
   "source": [
    "- How is a dictionary defined in Python?\n",
    "- What are the ways to interact with a dictionary?\n",
    "- Can a dictionary be nested?\n",
    "\n",
    "\n"
   ]
  },
  {
   "cell_type": "markdown",
   "id": "86af66a8",
   "metadata": {},
   "source": [
    "- Understanding the structure of a dictionary.\n",
    "- Accessing data from a dictionary.\n",
    "- Practising nested dictionaries to deal with complex data."
   ]
  },
  {
   "cell_type": "markdown",
   "id": "ebd8c5f1",
   "metadata": {},
   "source": [
    "This chapter assumes that you are familiar with the following concepts in Python 3:\n",
    "\n",
    "- [Indentation Rule](03-conditional_statements.Rmd#subsubsec:indentationRule)\n",
    "- [Conditional Statements](03-conditional_statements.Rmd)\n",
    "- [Arrays](04-arrays.Rmd)\n",
    "- [Loops and Iterations](05-iterations.Rmd)"
   ]
  },
  {
   "cell_type": "markdown",
   "id": "394d64dd",
   "metadata": {},
   "source": [
    "## Dictionary {#sec:dict}\n",
    "\n",
    "[**Mapping Types -- ```dict```**](https://docs.python.org/3.6/library/stdtypes.html\\#mapping-types-dict)\n",
    "\n",
    "[**Google search**](https://www.google.co.uk/search?q=Dictionaries%20in%20Python%203)\n",
    "\n",
    "[**StackOverflow python-3.x dictionaries**](https://stackoverflow.com/search?q=python-3.x%20dictionaries&s=78ef2a31-bb79-485b-914d-02db1ab8e9ca)\n",
    "\n",
    "[**YouTube Tutorial Dictionaries**](https://www.youtube.com/results?search_query=Python+3+Programming+Tutorial+-+Dictionaries)"
   ]
  },
  {
   "cell_type": "markdown",
   "id": "5ead1aed",
   "metadata": {},
   "source": [
    "One of the most useful built-in tools in Python, dictionaries associate a set of *values* with a number of *keys*. \n",
    "\n",
    "Think of an old fashion, paperback dictionary where we have a range of words with their definitions. The words are the *keys*, and the definitions are the *values* that are associated with the keys. A Python dictionary works in the same way. "
   ]
  },
  {
   "cell_type": "markdown",
   "id": "9145595a",
   "metadata": {},
   "source": [
    "Consider the following scenario:"
   ]
  },
  {
   "cell_type": "markdown",
   "id": "dbb87471",
   "metadata": {},
   "source": [
    ">Suppose we have a number of protein kinases, and we would like to associate them with their descriptions for future reference."
   ]
  },
  {
   "cell_type": "markdown",
   "id": "4f6fc71c",
   "metadata": {},
   "source": [
    "This is an example of association in arrays. We may visualise this problem as displayed in [Figure](#assArr).\n",
    "\n",
    "![Illustrative diagram of associative arrays, showing the sets of *keys* and their association with some of the values.](fig/associative_arrays.png){#assArr}\n",
    "One way to associate the proteins with their definitions would be to use nested arrays. However, it would make it difficult to retrieve the values at a later time. This is because to retrieve the values, we would need to know the index at which a given protein is stored. \n",
    "\n",
    "Instead of using normal arrays, in such circumstances, we use *associative arrays*. The most popular method to create construct an associative array in Python is to create dictionaries or ```dict```.\n",
    "\n",
    "## Remember\t\n",
    "\n",
    "To implement a ```dict``` in Python, we place our entries in curly bracket, separated using a comma. We separate *keys* and *values* using a colon --- e.g.  {<span style=\"color: rgb(32, 121, 77);\">'key'</span>: <span style=\"color: rgb(32, 121, 77);\">'value'</span>}. The combination of dictionary *key* and its associating *value* is known as a dictionary *item*. "
   ]
  },
  {
   "cell_type": "markdown",
   "id": "c22d03aa",
   "metadata": {},
   "source": [
    "## Note\t\n",
    "When constructing a long ```dict``` with several *items* that span over several lines, it is not necessary to write one *item* per line or use indentations for each *item* or line. All we must is to write the \\emph{items} as {<span style=\"color: rgb(32, 121, 77);\">'key'</span>: <span style=\"color: rgb(32, 121, 77);\">'value'</span>} in curly brackets and separate each pair with a comma. However, it is good practice to write one *item* per line and use indentations as it makes it considerably easier to read the code and understand the hierarchy.\n",
    "\t"
   ]
  },
  {
   "cell_type": "markdown",
   "id": "d4903659",
   "metadata": {},
   "source": [
    "We can therefore implement the diagram displayed in [Figure](#assArr) in Python as follows:\n"
   ]
  },
  {
   "cell_type": "code",
   "execution_count": null,
   "id": "6a17a82c",
   "metadata": {},
   "outputs": [],
   "source": [
    "\n",
    "protein_kinases = {\n",
    "  'PKA': 'Involved in regulation of glycogen, sugar, and lipid metabolism.',\n",
    "  'PKC': 'Regulates signal transduction pathways such as the Wnt pathway.',\n",
    "  'CK1': 'Controls the function of other proteins through phosphorylation.'\n",
    "  }\n",
    "\t\n",
    "print(protein_kinases)\n",
    "\t"
   ]
  },
  {
   "cell_type": "markdown",
   "id": "db9e7abe",
   "metadata": {},
   "source": [
    "```{.output}\n",
    "{'PKA': 'Involved in regulation of glycogen, sugar, and lipid metabolism.', 'PKC': 'Regulates signal transduction pathways such as the Wnt pathway.', 'CK1': 'Controls the function of other proteins through phosphorylation.'}\n",
    "```"
   ]
  },
  {
   "cell_type": "code",
   "execution_count": null,
   "id": "bf051379",
   "metadata": {},
   "outputs": [],
   "source": [
    "print(type(protein_kinases))"
   ]
  },
  {
   "cell_type": "markdown",
   "id": "2ad0ed78",
   "metadata": {},
   "source": [
    "```{.output}\n",
    "<class 'dict'>\n",
    "```\n"
   ]
  },
  {
   "cell_type": "markdown",
   "id": "c0f29f34",
   "metadata": {},
   "source": [
    "## Do it Yourself\n",
    "Use [Universal Protein Resource](https://uniprot.org/) (UniProt) to find the following proteins for humans:\n",
    "  - Axin-1\n",
    "\t- Rhodopsin\n",
    "\t\n",
    "Construct a dictionary for these proteins and the number amino acids for each of them. The *keys* should represent the name of the protein. Display the result.\t"
   ]
  },
  {
   "cell_type": "markdown",
   "id": "b2f6bb2d",
   "metadata": {},
   "source": [
    "## DIY ANSWER {#diy:firstDictExample}\n"
   ]
  },
  {
   "cell_type": "code",
   "execution_count": null,
   "id": "22cdbcbd",
   "metadata": {},
   "outputs": [],
   "source": [
    "proteins = {\n",
    "  'Axin-1': 862,\n",
    "  'Rhodopsin': 348\n",
    "  }\n",
    "\t\t\n",
    "print(proteins)"
   ]
  },
  {
   "cell_type": "markdown",
   "id": "ab0919b5",
   "metadata": {},
   "source": [
    "```{.output}\n",
    "{'Axin-1': 862, 'Rhodopsin': 348}\n",
    "```\n"
   ]
  },
  {
   "cell_type": "markdown",
   "id": "fe48f469",
   "metadata": {},
   "source": [
    "Now that we have created a dictionary; we can test whether or not a specific *key* exists our dictionary:\n",
    "\n",
    "\n",
    "\n",
    "\n"
   ]
  },
  {
   "cell_type": "code",
   "execution_count": null,
   "id": "1aaad88f",
   "metadata": {},
   "outputs": [],
   "source": [
    "'CK1' in protein_kinases"
   ]
  },
  {
   "cell_type": "markdown",
   "id": "c22857c1",
   "metadata": {},
   "source": [
    "```{.output}\n",
    "True\n",
    "```\n",
    "\t"
   ]
  },
  {
   "cell_type": "code",
   "execution_count": null,
   "id": "a945a244",
   "metadata": {},
   "outputs": [],
   "source": [
    "'GSK3' in protein_kinases"
   ]
  },
  {
   "cell_type": "markdown",
   "id": "65e45fff",
   "metadata": {},
   "source": [
    "```{.output}\n",
    "False\n",
    "```"
   ]
  },
  {
   "cell_type": "markdown",
   "id": "e8f7dc22",
   "metadata": {},
   "source": [
    "## Do it Yourself\n",
    "\n",
    "Using the dictionary you created in [Do it Yourself](#diy:firstDictExample), test to see whether or not a protein called **ERK** exists as a *key* in your dictionary? Display the result as a Boolean value.\n",
    "\t"
   ]
  },
  {
   "cell_type": "markdown",
   "id": "457368f3",
   "metadata": {},
   "source": [
    "## DIY ANSWER"
   ]
  },
  {
   "cell_type": "code",
   "execution_count": null,
   "id": "7ef46966",
   "metadata": {},
   "outputs": [],
   "source": [
    "print('ERK' in proteins)"
   ]
  },
  {
   "cell_type": "markdown",
   "id": "2defc9a0",
   "metadata": {},
   "source": [
    "```{.output}\n",
    "False\n",
    "```\n"
   ]
  },
  {
   "cell_type": "markdown",
   "id": "579b15d8",
   "metadata": {},
   "source": [
    "### **Interacting with a dictionary** {#subsec:dict:InteractingWithDicts}\n",
    "We have already learnt that in programming, the more explicit our code, the better it is. Interacting with dictionaries in Python is very easy, coherent, and explicit. This makes them a powerful tool that we can exploit for different purposes.\n",
    "\n",
    "In arrays, specifically in ```list``` and ```tuple```, we routinely use [indexing](#sec:list:indexing) techniques to retrieve *values*. In dictionaries, however, we use *keys* to do that. Because we can define the *keys* of a dictionary ourselves, we no longer have to rely exclusively on numeric indices.  \n",
    "\n",
    "As a result, we can retrieve the *values* of a dictionary using their respective *keys* as follows:\n"
   ]
  },
  {
   "cell_type": "code",
   "execution_count": null,
   "id": "f4b97055",
   "metadata": {},
   "outputs": [],
   "source": [
    "print(protein_kinases['CK1'])"
   ]
  },
  {
   "cell_type": "markdown",
   "id": "0ac511fd",
   "metadata": {},
   "source": [
    "```{.output}\n",
    "Controls the function of other proteins through phosphorylation.\n",
    "```\n",
    "\n",
    "However, if we attempt to retrieve the *value* for a *key* that does not exist in our ```dict```, a ```KeyError``` will be raised: \n"
   ]
  },
  {
   "cell_type": "code",
   "execution_count": null,
   "id": "80dff5de",
   "metadata": {},
   "outputs": [],
   "source": [
    "'GSK3' in protein_kinases"
   ]
  },
  {
   "cell_type": "markdown",
   "id": "487e4053",
   "metadata": {},
   "source": [
    "```{.output}\n",
    "False\n",
    "```"
   ]
  },
  {
   "cell_type": "code",
   "execution_count": null,
   "id": "5f69e14c",
   "metadata": {},
   "outputs": [],
   "source": [
    "print(protein_kinases['GSK3'])"
   ]
  },
  {
   "cell_type": "markdown",
   "id": "748e5da5",
   "metadata": {},
   "source": [
    "```{.error}\n",
    "Error in py_call_impl(callable, dots$args, dots$keywords): KeyError: 'GSK3'\n",
    "\n",
    "Detailed traceback:\n",
    "  File \"<string>\", line 1, in <module>\n",
    "```"
   ]
  },
  {
   "cell_type": "markdown",
   "id": "7abb99fd",
   "metadata": {},
   "source": [
    "## Do it Yourself {#diy:dict:implement:fromTable}\n",
    "\n",
    "Implement a ```dict``` to represent the following set of information:\n",
    "\n",
    "**Cystic Fibrosis:**\n",
    "\n",
    "| **Full Name** | **Gene** | **Type**  |  \n",
    "|:---------------------------:|:---:|:---:|\n",
    "| Cystic fibrosis transmembrane conductance regulator | CFTR | Membrane Protein |\n",
    "\t\n",
    "Using the dictionary you implemented, retrieve and display the *gene* associated with cystic fibrosis.\t"
   ]
  },
  {
   "cell_type": "markdown",
   "id": "e54a1d4d",
   "metadata": {},
   "source": [
    "## DIY ANSWER"
   ]
  },
  {
   "cell_type": "code",
   "execution_count": null,
   "id": "e9a9a6ee",
   "metadata": {},
   "outputs": [],
   "source": [
    "cystic_fibrosis = {\n",
    "  'full name': 'Cystic fibrosis transmembrane conductance regulator',\n",
    "  'gene': 'CFTR',\n",
    "  'type': 'Membrane Protein'\n",
    "  }\n",
    "\t\t\n",
    "print(cystic_fibrosis['gene'])"
   ]
  },
  {
   "cell_type": "markdown",
   "id": "cf013262",
   "metadata": {},
   "source": [
    "```{.output}\n",
    "CFTR\n",
    "```"
   ]
  },
  {
   "cell_type": "markdown",
   "id": "ff643e42",
   "metadata": {},
   "source": [
    "## Remember\t\n",
    "Whilst the *values* in a ```dict``` can be of virtually any type supported in Python, the *keys* may only be defined using immutable types. \n",
    "\t\n",
    "To find out which types are immutable, see [Table](02-input_output.Rmd#fig:nativeTypes). Additionally, the *keys* in a dictionary must be unique."
   ]
  },
  {
   "cell_type": "markdown",
   "id": "6af8348e",
   "metadata": {},
   "source": [
    "If we attempt to construct a ```dict``` using a mutable value as *key*, a ```TypeError``` will be raised.\n",
    "\n",
    "For instance, ```list``` is a mutable type and therefore cannot be used as a *key*:\n"
   ]
  },
  {
   "cell_type": "code",
   "execution_count": null,
   "id": "e76fbba3",
   "metadata": {},
   "outputs": [],
   "source": [
    "test_dict = {\n",
    "  ['a', 'b']: 'some value'\n",
    "  }"
   ]
  },
  {
   "cell_type": "markdown",
   "id": "9d5449ea",
   "metadata": {},
   "source": [
    "```{.error}\n",
    "Error in py_call_impl(callable, dots$args, dots$keywords): TypeError: unhashable type: 'list'\n",
    "\n",
    "Detailed traceback:\n",
    "  File \"<string>\", line 1, in <module>\n",
    "```\n",
    "\n",
    "But we can use any immutable type as a *key*:\n"
   ]
  },
  {
   "cell_type": "code",
   "execution_count": null,
   "id": "dcee2f04",
   "metadata": {},
   "outputs": [],
   "source": [
    "test_dict = {\n",
    "  'ab': 'some value'\n",
    "  }\n",
    "  \n",
    "print(test_dict)"
   ]
  },
  {
   "cell_type": "markdown",
   "id": "f9fbd6ec",
   "metadata": {},
   "source": [
    "```{.output}\n",
    "{'ab': 'some value'}\n",
    "```\n",
    "\t"
   ]
  },
  {
   "cell_type": "code",
   "execution_count": null,
   "id": "b71bc897",
   "metadata": {},
   "outputs": [],
   "source": [
    "test_dict = {\n",
    "  ('a', 'b'): 'some value'\n",
    "  }\n",
    "  \n",
    "print(test_dict)  "
   ]
  },
  {
   "cell_type": "markdown",
   "id": "62467061",
   "metadata": {},
   "source": [
    "```{.output}\n",
    "{('a', 'b'): 'some value'}\n",
    "```\n",
    "\n",
    "If we define a *key* more than once, the Python interpreter constructs the entry in ```dict``` using the last instance. \n",
    "\n",
    "In the following example, we repeat the *key* <span style=\"color: rgb(32, 121, 77);\">'pathway'</span> twice; and as expected, the interpreter only uses the last instance, which in this case represents the value <span style=\"color: rgb(32, 121, 77);\">'Canonical'</span>:\n"
   ]
  },
  {
   "cell_type": "code",
   "execution_count": null,
   "id": "06f9f84d",
   "metadata": {},
   "outputs": [],
   "source": [
    "signal = {\n",
    "  'name': 'Wnt', \n",
    "  'pathway': 'Non-Canonical',  # first instance\n",
    "  'pathway': 'Canonical'  # second instance\n",
    "  }\n",
    "\n",
    "print(signal)\t"
   ]
  },
  {
   "cell_type": "markdown",
   "id": "5dffa1aa",
   "metadata": {},
   "source": [
    "```{.output}\n",
    "{'name': 'Wnt', 'pathway': 'Canonical'}\n",
    "```\n",
    "\n",
    "### **Mutability**\n",
    "Dictionaries are mutable. This means that we can alter their contents. We can make any alterations to a dictionary as long as we use *immutable* values for the *keys*. \n",
    "\n",
    "Suppose we have a dictionary stored in a variable called ```protein```, holding some information about a specific protein:\n"
   ]
  },
  {
   "cell_type": "code",
   "execution_count": null,
   "id": "b08d7e9c",
   "metadata": {},
   "outputs": [],
   "source": [
    "protein = {\n",
    "  'full name': 'Cystic fibrosis transmembrane conductance regulator', \n",
    "  'alias': 'CFTR',\n",
    "  'gene': 'CFTR',\n",
    "  'type': 'Membrane Protein',\n",
    "  'common mutations': ['Delta-F508', 'G542X', 'G551D', 'N1303K']\n",
    "  }"
   ]
  },
  {
   "cell_type": "markdown",
   "id": "0119c170",
   "metadata": {},
   "source": [
    "We can add new *items* to our dictionary or alter the existing ones:\n"
   ]
  },
  {
   "cell_type": "code",
   "execution_count": null,
   "id": "299c3a3c",
   "metadata": {},
   "outputs": [],
   "source": [
    "# Adding a new item:\n",
    "protein['chromosome'] = 7\n",
    "\t\n",
    "print(protein)"
   ]
  },
  {
   "cell_type": "markdown",
   "id": "f715d130",
   "metadata": {},
   "source": [
    "```{.output}\n",
    "{'full name': 'Cystic fibrosis transmembrane conductance regulator', 'alias': 'CFTR', 'gene': 'CFTR', 'type': 'Membrane Protein', 'common mutations': ['Delta-F508', 'G542X', 'G551D', 'N1303K'], 'chromosome': 7}\n",
    "```"
   ]
  },
  {
   "cell_type": "code",
   "execution_count": null,
   "id": "dcba9532",
   "metadata": {},
   "outputs": [],
   "source": [
    "print(protein['chromosome'])"
   ]
  },
  {
   "cell_type": "markdown",
   "id": "b77f2961",
   "metadata": {},
   "source": [
    "```{.output}\n",
    "7\n",
    "```"
   ]
  },
  {
   "cell_type": "markdown",
   "id": "9b5e4ce4",
   "metadata": {},
   "source": [
    "We can also alter an existing *value* in a dictionary using its *key*. To do so, we simply access the *value* using its *key*, and treat it as a normal variable; i.e. the same way we do with members of a ```list```:\n"
   ]
  },
  {
   "cell_type": "code",
   "execution_count": null,
   "id": "38336b81",
   "metadata": {},
   "outputs": [],
   "source": [
    "print(protein['common mutations'])"
   ]
  },
  {
   "cell_type": "markdown",
   "id": "1cd1d118",
   "metadata": {},
   "source": [
    "```{.output}\n",
    "['Delta-F508', 'G542X', 'G551D', 'N1303K']\n",
    "```\n"
   ]
  },
  {
   "cell_type": "code",
   "execution_count": null,
   "id": "da65851f",
   "metadata": {},
   "outputs": [],
   "source": [
    "protein['common mutations'].append('W1282X')\n",
    "print(protein)"
   ]
  },
  {
   "cell_type": "markdown",
   "id": "6d15cf25",
   "metadata": {},
   "source": [
    "```{.output}\n",
    "{'full name': 'Cystic fibrosis transmembrane conductance regulator', 'alias': 'CFTR', 'gene': 'CFTR', 'type': 'Membrane Protein', 'common mutations': ['Delta-F508', 'G542X', 'G551D', 'N1303K', 'W1282X'], 'chromosome': 7}\n",
    "```"
   ]
  },
  {
   "cell_type": "markdown",
   "id": "0cceb28e",
   "metadata": {},
   "source": [
    "## Do it Yourself\n",
    "\n",
    "Implement the following dictionary:\n",
    "\n",
    "```\n",
    "signal = {'name': 'Wnt', 'pathway': 'Non-Canonical'}}\n",
    "\t\n",
    "```\n",
    "\n",
    "with respect to <span style=\"color: rgb(32, 121, 77);\">signal</span>:\n",
    "\n",
    "   - Correct the *value* of <span style=\"color: rgb(32, 121, 77);\">pathway</span> to \"Canonical\";\n",
    "   - Add a new *item* to the dictionary to represent the *receptors* for the canonical pathway as  \"Frizzled\" and \"LRP\".  \n",
    "   \n",
    "Display the altered dictionary as the final result."
   ]
  },
  {
   "cell_type": "markdown",
   "id": "7f814de5",
   "metadata": {},
   "source": [
    "## DIY ANSWER"
   ]
  },
  {
   "cell_type": "code",
   "execution_count": null,
   "id": "37b0965f",
   "metadata": {},
   "outputs": [],
   "source": [
    "signal = {'name': 'Wnt', 'pathway': 'Non-Canonical'}\n",
    "\t\n",
    "signal['pathway'] = 'Canonical'\n",
    "signal['receptors'] = ('Frizzled', 'LRP')\n",
    "\t\n",
    "print(signal)"
   ]
  },
  {
   "cell_type": "markdown",
   "id": "6a64f654",
   "metadata": {},
   "source": [
    "```{.output}\n",
    "{'name': 'Wnt', 'pathway': 'Canonical', 'receptors': ('Frizzled', 'LRP')}\n",
    "```"
   ]
  },
  {
   "cell_type": "markdown",
   "id": "8f3bf239",
   "metadata": {},
   "source": [
    "## Advanced Topic\t\n",
    "Displaying an entire dictionary using the <kbd>print()</kbd> function can look a little messy because it is not properly structured. There is, however, an external library called ```pprint``` (Pretty-Print) that behaves in very similar way to the default <kbd>print()</kbd> function, but structures dictionaries and other arrays in a more presentable way before displaying them. We do not discuss ``Pretty-Print'' in this course, but it is a part of Python's default library and is therefore installed with Python automatically. To learn more it, have a read through the [official documentations](https://docs.python.org/3/library/pprint.html\\#module-pprint) for the library and review the [examples](https://docs.python.org/3/library/pprint.html\\#example)."
   ]
  },
  {
   "cell_type": "markdown",
   "id": "8c7a3f53",
   "metadata": {},
   "source": [
    "Because the *keys* are immutable, they cannot be altered. However, we can get around this limitation by introducing a new *key* and assigning the *values* of the old *key* to the new one. Once we do that, we can go ahead and *remove* the old *item*. The easiest way to remove an *item* from a dictionary is to use the syntax <kbd>del</kbd>:\n"
   ]
  },
  {
   "cell_type": "code",
   "execution_count": null,
   "id": "1ddb5456",
   "metadata": {},
   "outputs": [],
   "source": [
    "# Creating a new key and assigning to it the \n",
    "# values of the old key:\n",
    "protein['human chromosome'] = protein['chromosome']\n",
    "\n",
    "print(protein)"
   ]
  },
  {
   "cell_type": "markdown",
   "id": "a8759223",
   "metadata": {},
   "source": [
    "```{.output}\n",
    "{'full name': 'Cystic fibrosis transmembrane conductance regulator', 'alias': 'CFTR', 'gene': 'CFTR', 'type': 'Membrane Protein', 'common mutations': ['Delta-F508', 'G542X', 'G551D', 'N1303K', 'W1282X'], 'chromosome': 7, 'human chromosome': 7}\n",
    "```\n"
   ]
  },
  {
   "cell_type": "code",
   "execution_count": null,
   "id": "02825c60",
   "metadata": {},
   "outputs": [],
   "source": [
    "# Now we remove the old item from the dictionary:\n",
    "del protein['chromosome']\n",
    "\n",
    "print(protein)"
   ]
  },
  {
   "cell_type": "markdown",
   "id": "35b0724d",
   "metadata": {},
   "source": [
    "```{.output}\n",
    "{'full name': 'Cystic fibrosis transmembrane conductance regulator', 'alias': 'CFTR', 'gene': 'CFTR', 'type': 'Membrane Protein', 'common mutations': ['Delta-F508', 'G542X', 'G551D', 'N1303K', 'W1282X'], 'human chromosome': 7}\n",
    "```"
   ]
  },
  {
   "cell_type": "markdown",
   "id": "75222fac",
   "metadata": {},
   "source": [
    "We can simplify the above operation using the <kbd>.pop()</kbd> method, which removes the specified *key* from a dictionary and returns any *values* associated with it:\n"
   ]
  },
  {
   "cell_type": "code",
   "execution_count": null,
   "id": "0e38e626",
   "metadata": {},
   "outputs": [],
   "source": [
    "protein['common mutations in caucasians'] = protein.pop('common mutations')\n",
    "\n",
    "print(protein)"
   ]
  },
  {
   "cell_type": "markdown",
   "id": "547e8e7b",
   "metadata": {},
   "source": [
    "```{.output}\n",
    "{'full name': 'Cystic fibrosis transmembrane conductance regulator', 'alias': 'CFTR', 'gene': 'CFTR', 'type': 'Membrane Protein', 'human chromosome': 7, 'common mutations in caucasians': ['Delta-F508', 'G542X', 'G551D', 'N1303K', 'W1282X']}\n",
    "```"
   ]
  },
  {
   "cell_type": "markdown",
   "id": "8d882c7c",
   "metadata": {},
   "source": [
    "## Do it Yourself\n",
    "\n",
    "Implement a dictionary as:\n"
   ]
  },
  {
   "cell_type": "code",
   "execution_count": null,
   "id": "f11f3e99",
   "metadata": {},
   "outputs": [],
   "source": [
    "signal = {'name': 'Beta-Galactosidase', 'pdb': '4V40'}"
   ]
  },
  {
   "cell_type": "markdown",
   "id": "9e6984f4",
   "metadata": {},
   "source": [
    "with respect to <span style=\"color: rgb(32, 121, 77);\">signal</span>:\n",
    "\n",
    "   - Change the *key* name from <span style=\"color: rgb(32, 121, 77);\">'pdb'</span> to <span style=\"color: rgb(32, 121, 77);\">'pdb id '</span> using the <kbd>.pop()</kbd> method. \n",
    "   - Write a code to find out whether the dictionary:\n",
    "\n",
    "        - contains the new *key* (i.e. <span style=\"color: rgb(32, 121, 77);\">'pdb id '</span>). \n",
    "        - confirm that it no longer contains the old *key* (i.e. <span style=\"color: rgb(32, 121, 77);\">'pdb'</span>) \n",
    "\n",
    "If both conditions are met, display:\n",
    "```\n",
    "Contains the new key, but not the old one.\n",
    "```\n",
    "Otherwise:\n",
    "```\n",
    "Failed to alter the dictionary.\n",
    "```"
   ]
  },
  {
   "cell_type": "markdown",
   "id": "144ec068",
   "metadata": {},
   "source": [
    "## DIY ANSWER"
   ]
  },
  {
   "cell_type": "code",
   "execution_count": null,
   "id": "c3ee88b5",
   "metadata": {},
   "outputs": [],
   "source": [
    "signal = {\n",
    "\t\t    'name': 'Beta-Galactosidase', \n",
    "\t\t    'pdb': '4V40'\n",
    "\t}\n",
    "\t\n",
    "signal['pdb id'] = signal.pop('pdb')\n",
    "\t\n",
    "if 'pdb id' in signal and 'pdb' not in signal:\n",
    "    print('Contains the new key, but not the old one.')\n",
    "else:\n",
    "    print('Failed to alter the dictionary.')\n",
    "    "
   ]
  },
  {
   "cell_type": "markdown",
   "id": "7684c33e",
   "metadata": {},
   "source": [
    "```{.output}\n",
    "Contains the new key, but not the old one.\n",
    "```\n"
   ]
  },
  {
   "cell_type": "markdown",
   "id": "f1571250",
   "metadata": {},
   "source": [
    "### **Nested dictionaries**\n",
    "As explained earlier the section, dictionaries are amongst the most powerful built-in tools in Python. It is possible to construct nested dictionaries to organise data in a hierarchical fashion. This useful technique is outlined extensively in [example](#ex:dict:dictExample). \n",
    "\n",
    "It is very easy to implement nested dictionaries: \n"
   ]
  },
  {
   "cell_type": "code",
   "execution_count": null,
   "id": "247ea63b",
   "metadata": {},
   "outputs": [],
   "source": [
    "# Parent dictionary\n",
    "pkc_family = {\n",
    "    # Child dictionary A:\n",
    "    'conventional': {\n",
    "      'note': 'Require DAG, Ca2+, and phospholipid for activation.',\n",
    "      'types': ['alpha', 'beta-1', 'beta-2', 'gamma']\n",
    "    },\n",
    "    # Child dictionary B:\n",
    "    'atypical': {\n",
    "        'note': (\n",
    "            'Require neither Ca2+ nor DAG for' \n",
    "            'activation (require phosphatidyl serine).'\n",
    "        ),\n",
    "        'types': ['iota', 'zeta']\n",
    "    }\n",
    "}"
   ]
  },
  {
   "cell_type": "markdown",
   "id": "ff33ff8b",
   "metadata": {},
   "source": [
    "and we follow similar principles to access, alter, or remove the *values* stored in nested dictionaries:\n"
   ]
  },
  {
   "cell_type": "code",
   "execution_count": null,
   "id": "7ddb60e2",
   "metadata": {},
   "outputs": [],
   "source": [
    "print(pkc_family)"
   ]
  },
  {
   "cell_type": "markdown",
   "id": "9c77c1d5",
   "metadata": {},
   "source": [
    "```{.output}\n",
    "{'conventional': {'note': 'Require DAG, Ca2+, and phospholipid for activation.', 'types': ['alpha', 'beta-1', 'beta-2', 'gamma']}, 'atypical': {'note': 'Require neither Ca2+ nor DAG foractivation (require phosphatidyl serine).', 'types': ['iota', 'zeta']}}\n",
    "```\n"
   ]
  },
  {
   "cell_type": "code",
   "execution_count": null,
   "id": "8cd730ee",
   "metadata": {},
   "outputs": [],
   "source": [
    "print(pkc_family['atypical'])"
   ]
  },
  {
   "cell_type": "markdown",
   "id": "4a463bb2",
   "metadata": {},
   "source": [
    "```{.output}\n",
    "{'note': 'Require neither Ca2+ nor DAG foractivation (require phosphatidyl serine).', 'types': ['iota', 'zeta']}\n",
    "```\n"
   ]
  },
  {
   "cell_type": "code",
   "execution_count": null,
   "id": "2fc7c3b9",
   "metadata": {},
   "outputs": [],
   "source": [
    "print(pkc_family['conventional']['note'])"
   ]
  },
  {
   "cell_type": "markdown",
   "id": "12918b4b",
   "metadata": {},
   "source": [
    "```{.output}\n",
    "Require DAG, Ca2+, and phospholipid for activation.\n",
    "```\n"
   ]
  },
  {
   "cell_type": "code",
   "execution_count": null,
   "id": "4930029c",
   "metadata": {},
   "outputs": [],
   "source": [
    "print(pkc_family['conventional']['types'])"
   ]
  },
  {
   "cell_type": "markdown",
   "id": "f49bebb9",
   "metadata": {},
   "source": [
    "```{.output}\n",
    "['alpha', 'beta-1', 'beta-2', 'gamma']\n",
    "```\n"
   ]
  },
  {
   "cell_type": "code",
   "execution_count": null,
   "id": "f9803988",
   "metadata": {},
   "outputs": [],
   "source": [
    "print(pkc_family['conventional']['types'][2])"
   ]
  },
  {
   "cell_type": "markdown",
   "id": "a2720785",
   "metadata": {},
   "source": [
    "```{.output}\n",
    "beta-2\n",
    "```\n"
   ]
  },
  {
   "cell_type": "code",
   "execution_count": null,
   "id": "33890f98",
   "metadata": {},
   "outputs": [],
   "source": [
    "apkc_types = pkc_family['conventional']['types']\n",
    "print(apkc_types[1])"
   ]
  },
  {
   "cell_type": "markdown",
   "id": "83a3d63e",
   "metadata": {},
   "source": [
    "```{.output}\n",
    "beta-1\n",
    "```\n"
   ]
  },
  {
   "cell_type": "markdown",
   "id": "4c3fdc1b",
   "metadata": {},
   "source": [
    "## Do it Yourself\n",
    "\n",
    "Implement the following table of genetic disorders as a nested dictionary:\n",
    "\n",
    "|   | Full Name | Gene | Type  |  \n",
    "|:---------------------------:|:---:|:---:|:---:|\n",
    "| **Cystic fibrosis** | Cystic fibrosis transmembrane conductance regulator | CFTR | Membrane Protein |\t\n",
    "| **Xeroderma pigmentosum A** | DNA repair protein complementing XP-A cells | XPA | Nucleotide excision repair |\n",
    "| **Haemophilia A** | Haemophilia A | F8 | Factor VIII Blood-clotting protein |\t\n",
    "\n",
    "Using the dictionary, display the *gene* for *Haemophilia A*. "
   ]
  },
  {
   "cell_type": "markdown",
   "id": "042e8818",
   "metadata": {},
   "source": [
    "## DIY ANSWER\n"
   ]
  },
  {
   "cell_type": "code",
   "execution_count": null,
   "id": "38cd2edd",
   "metadata": {},
   "outputs": [],
   "source": [
    "genetic_diseases = {\n",
    "    'Cystic fibrosis': {\n",
    "        'name': 'Cystic fibrosis transmembrane conductance regulator',\n",
    "        'gene': 'CFTR',\n",
    "        'type': 'Membrane Protein'\n",
    "    }, \n",
    "    'Xeroderma pigmentosum A': {\n",
    "        'name': 'DNA repair protein complementing XP-A cells',\n",
    "        'gene': 'XPA',\n",
    "        'type': 'Nucleotide excision repair'\n",
    "    },\n",
    "    'Haemophilia A': {\n",
    "        'name': 'Haemophilia A',\n",
    "        'gene': 'F8',\n",
    "        'type': 'Factor VIII Blood-clotting protein'\n",
    "    }\n",
    "}\n",
    "\t\n",
    "print(genetic_diseases['Haemophilia A']['gene'])"
   ]
  },
  {
   "cell_type": "markdown",
   "id": "6d5f3d9a",
   "metadata": {},
   "source": [
    "```{.output}\n",
    "F8\n",
    "```"
   ]
  },
  {
   "cell_type": "markdown",
   "id": "3b335eea",
   "metadata": {},
   "source": [
    "### EXAMPLE: Nested dictionaries in practice {#ex:dict:dictExample}\n",
    "We would like to store and analyse the structure of several proteins involved in the *Lac operon*. To do so, we create a Python ```dict``` to help us organise our data.\n",
    "\n",
    "We start off by creating an empty dictionary that will store our structures:\n"
   ]
  },
  {
   "cell_type": "code",
   "execution_count": null,
   "id": "7762771c",
   "metadata": {},
   "outputs": [],
   "source": [
    "structures = dict()  "
   ]
  },
  {
   "cell_type": "markdown",
   "id": "97830088",
   "metadata": {},
   "source": [
    "We then move onto depositing our individual entries to <span style=\"color: rgb(32, 121, 77);\">structure</span> by adding new *items* to it. \n",
    "\n",
    "Each *item* has a *key* that represents the name of the protein we are depositing, and a *value* that is itself a dictionary consisting of information regarding the structure of that protein:\n"
   ]
  },
  {
   "cell_type": "code",
   "execution_count": null,
   "id": "95d4abde",
   "metadata": {
    "lines_to_next_cell": 2
   },
   "outputs": [],
   "source": [
    "structures['Beta-Galactosidase'] = {\n",
    "    'pdb id': '4V40',\n",
    "    'deposit date': '1994-07-18',\n",
    "    'organism': 'Escherichia coli',\n",
    "    'method': 'x-ray',\n",
    "    'resolution': 2.5,\n",
    "    'authors': (\n",
    "        'Jacobson, R.H.', 'Zhang, X.', \n",
    "        'Dubose, R.F.', 'Matthews, B.W.'\n",
    "    )\n",
    "}"
   ]
  },
  {
   "cell_type": "code",
   "execution_count": null,
   "id": "475d0d83",
   "metadata": {
    "lines_to_next_cell": 2
   },
   "outputs": [],
   "source": [
    "structures['Lactose Permease'] = {\n",
    "    'pdb id': '1PV6',\n",
    "    'deposit data': '2003-06-23',\n",
    "    'organism': 'Escherichia coli',\n",
    "    'method': 'x-ray',\n",
    "    'resolution': 3.5,\n",
    "    'authors': (\n",
    "        'Abramson, J.', 'Smirnova, I.', 'Kasho, V.', \n",
    "        'Verner, G.', 'Kaback, H.R.', 'Iwata, S.'\n",
    "    )\n",
    "}"
   ]
  },
  {
   "cell_type": "markdown",
   "id": "6d3a0f3a",
   "metadata": {},
   "source": [
    "Dictionaries don't have to be homogeneous. In other words, there can be different *items* in each entry. \n",
    "\n",
    "For instance, the <span style=\"color: rgb(32, 121, 77);\">'LacY'</span> protein contains an additional *key* entitled <span style=\"color: rgb(32, 121, 77);\">'note'</span>:\n"
   ]
  },
  {
   "cell_type": "code",
   "execution_count": null,
   "id": "92d02c06",
   "metadata": {},
   "outputs": [],
   "source": [
    "structures['LacY'] = {\n",
    "    'pdb id': '2Y5Y',\n",
    "    'deposit data': '2011-01-19',\n",
    "    'organism': 'Escherichia coli',\n",
    "    'method': 'x-ray',\n",
    "    'resolution': 3.38,\n",
    "    'note': 'in complex with an affinity inactivator',\n",
    "    'authors': (\n",
    "        'Chaptal, V.', 'Kwon, S.', 'Sawaya, M.R.', \n",
    "        'Guan, L.', 'Kaback, H.R.', 'Abramson, J.'\n",
    "    )\n",
    "}"
   ]
  },
  {
   "cell_type": "markdown",
   "id": "abded208",
   "metadata": {},
   "source": [
    "The variable <span style=\"color: rgb(32, 121, 77);\">structure</span> which is an instance of type ```dict```, is now a nested dictionary:\n"
   ]
  },
  {
   "cell_type": "code",
   "execution_count": null,
   "id": "6fa11c18",
   "metadata": {},
   "outputs": [],
   "source": [
    "print(structures)"
   ]
  },
  {
   "cell_type": "markdown",
   "id": "5d6c596d",
   "metadata": {},
   "source": [
    "```{.output}\n",
    "{'Beta-Galactosidase': {'pdb id': '4V40', 'deposit date': '1994-07-18', 'organism': 'Escherichia coli', 'method': 'x-ray', 'resolution': 2.5, 'authors': ('Jacobson, R.H.', 'Zhang, X.', 'Dubose, R.F.', 'Matthews, B.W.')}, 'Lactose Permease': {'pdb id': '1PV6', 'deposit data': '2003-06-23', 'organism': 'Escherichia coli', 'method': 'x-ray', 'resolution': 3.5, 'authors': ('Abramson, J.', 'Smirnova, I.', 'Kasho, V.', 'Verner, G.', 'Kaback, H.R.', 'Iwata, S.')}, 'LacY': {'pdb id': '2Y5Y', 'deposit data': '2011-01-19', 'organism': 'Escherichia coli', 'method': 'x-ray', 'resolution': 3.38, 'note': 'in complex with an affinity inactivator', 'authors': ('Chaptal, V.', 'Kwon, S.', 'Sawaya, M.R.', 'Guan, L.', 'Kaback, H.R.', 'Abramson, J.')}}\n",
    "```\n",
    "\n",
    "We know that we can extract information from our nested ```dict``` just like we would with any other ```dict```:\n"
   ]
  },
  {
   "cell_type": "code",
   "execution_count": null,
   "id": "4589ec80",
   "metadata": {},
   "outputs": [],
   "source": [
    "print(structures['Beta-Galactosidase'])"
   ]
  },
  {
   "cell_type": "markdown",
   "id": "2fce59b4",
   "metadata": {},
   "source": [
    "```{.output}\n",
    "{'pdb id': '4V40', 'deposit date': '1994-07-18', 'organism': 'Escherichia coli', 'method': 'x-ray', 'resolution': 2.5, 'authors': ('Jacobson, R.H.', 'Zhang, X.', 'Dubose, R.F.', 'Matthews, B.W.')}\n",
    "```\n"
   ]
  },
  {
   "cell_type": "code",
   "execution_count": null,
   "id": "cd3ecf60",
   "metadata": {},
   "outputs": [],
   "source": [
    "print(structures['Beta-Galactosidase']['method'])"
   ]
  },
  {
   "cell_type": "markdown",
   "id": "a1c9eefa",
   "metadata": {},
   "source": [
    "```{.output}\n",
    "x-ray\n",
    "```\n"
   ]
  },
  {
   "cell_type": "code",
   "execution_count": null,
   "id": "d6f3180c",
   "metadata": {},
   "outputs": [],
   "source": [
    "print(structures['Beta-Galactosidase']['authors'])"
   ]
  },
  {
   "cell_type": "markdown",
   "id": "0d85b8d7",
   "metadata": {},
   "source": [
    "```{.output}\n",
    "('Jacobson, R.H.', 'Zhang, X.', 'Dubose, R.F.', 'Matthews, B.W.')\n",
    "```\n"
   ]
  },
  {
   "cell_type": "code",
   "execution_count": null,
   "id": "ea8a218f",
   "metadata": {},
   "outputs": [],
   "source": [
    "print(structures['Beta-Galactosidase']['authors'][0])"
   ]
  },
  {
   "cell_type": "markdown",
   "id": "9da413ff",
   "metadata": {},
   "source": [
    "```{.output}\n",
    "Jacobson, R.H.\n",
    "```\n",
    "\n",
    "Sometimes, especially when creating longer dictionaries, it might be easier to store individual entries in a variable beforehand and add them to the parent dictionary later on. \n",
    "\n",
    "Note that our parent dictionary in this case is represented by the variable <span style=\"color: rgb(32, 121, 77);\">structure</span>.\n"
   ]
  },
  {
   "cell_type": "code",
   "execution_count": null,
   "id": "dc0bae5c",
   "metadata": {},
   "outputs": [],
   "source": [
    "entry = {\n",
    "    'Lac Repressor': {\n",
    "        'pdb id': '1LBI',\n",
    "        'deposit data': '1996-02-17',\n",
    "        'organism': 'Escherichia coli',\n",
    "        'method': 'x-ray',\n",
    "        'resolution': 2.7,\n",
    "        'authors': (\n",
    "            'Lewis, M.', 'Chang, G.', 'Horton, N.C.', \n",
    "            'Kercher, M.A.', 'Pace, H.C.', 'Lu, P.'\n",
    "        )\n",
    "    }\n",
    "}"
   ]
  },
  {
   "cell_type": "markdown",
   "id": "efe1f65f",
   "metadata": {},
   "source": [
    "We can then use the <kbd>.update()</kbd> method to update our <span style=\"color: rgb(32, 121, 77);\">structures</span> dictionary:\n"
   ]
  },
  {
   "cell_type": "code",
   "execution_count": null,
   "id": "c0cdba62",
   "metadata": {},
   "outputs": [],
   "source": [
    "structures.update(entry)\n",
    "\t\n",
    "print(structures['Lac Repressor'])"
   ]
  },
  {
   "cell_type": "markdown",
   "id": "25a84f00",
   "metadata": {},
   "source": [
    "```{.output}\n",
    "{'pdb id': '1LBI', 'deposit data': '1996-02-17', 'organism': 'Escherichia coli', 'method': 'x-ray', 'resolution': 2.7, 'authors': ('Lewis, M.', 'Chang, G.', 'Horton, N.C.', 'Kercher, M.A.', 'Pace, H.C.', 'Lu, P.')}\n",
    "```\n",
    "\n",
    "We sometimes need to see what *keys* our dictionary contains. To obtain an array of *keys*, we use the method <kbd>.keys()</kbd> as follows:\n"
   ]
  },
  {
   "cell_type": "code",
   "execution_count": null,
   "id": "cd0ac5d7",
   "metadata": {},
   "outputs": [],
   "source": [
    "print(structures.keys())"
   ]
  },
  {
   "cell_type": "markdown",
   "id": "fa73d656",
   "metadata": {},
   "source": [
    "```{.output}\n",
    "dict_keys(['Beta-Galactosidase', 'Lactose Permease', 'LacY', 'Lac Repressor'])\n",
    "```\n",
    "\n",
    "Likewise, we can also obtain an array of *values* in a dictionary using the <kbd>.values()</kbd> method:\n"
   ]
  },
  {
   "cell_type": "code",
   "execution_count": null,
   "id": "71c8c5c0",
   "metadata": {},
   "outputs": [],
   "source": [
    "print(structures['LacY'].values())"
   ]
  },
  {
   "cell_type": "markdown",
   "id": "b5225060",
   "metadata": {},
   "source": [
    "```{.output}\n",
    "dict_values(['2Y5Y', '2011-01-19', 'Escherichia coli', 'x-ray', 3.38, 'in complex with an affinity inactivator', ('Chaptal, V.', 'Kwon, S.', 'Sawaya, M.R.', 'Guan, L.', 'Kaback, H.R.', 'Abramson, J.')])\n",
    "```\n",
    "\n",
    "We can then extract specific information to conduct an analysis. Note that the <kbd>len()</kbd> function in this context returns the number of *keys* in the parent dictionary only.\n"
   ]
  },
  {
   "cell_type": "code",
   "execution_count": null,
   "id": "b42b462f",
   "metadata": {},
   "outputs": [],
   "source": [
    "sum_resolutions = 0\n",
    "res = 'resolution'\n",
    "\t\n",
    "sum_resolutions += structures['Beta-Galactosidase'][res]\n",
    "sum_resolutions += structures['Lactose Permease'][res]\n",
    "sum_resolutions += structures['Lac Repressor'][res]\n",
    "sum_resolutions += structures['LacY'][res]\n",
    "\t\n",
    "total_entries = len(structures)\n",
    "\t\n",
    "average_resolution = sum_resolutions / total_entries\n",
    "\t\n",
    "print(average_resolution)"
   ]
  },
  {
   "cell_type": "markdown",
   "id": "b2fb79d6",
   "metadata": {},
   "source": [
    "```{.output}\n",
    "3.0199999999999996\n",
    "```"
   ]
  },
  {
   "cell_type": "markdown",
   "id": "d7479b57",
   "metadata": {},
   "source": [
    "### **Useful methods for dictionary** {#subsec:dict:usefulMethods}\n",
    "Now we use some snippets to demonstrate some of the useful *methods* associated with ```dict``` in Python.\n",
    "\n",
    "Given a dictionary as:\n"
   ]
  },
  {
   "cell_type": "code",
   "execution_count": null,
   "id": "ee01c8d8",
   "metadata": {},
   "outputs": [],
   "source": [
    "lac_repressor = {\n",
    "\t    'pdb id': '1LBI',\n",
    "\t    'deposit data': '1996-02-17',\n",
    "\t    'organism': 'Escherichia coli',\n",
    "\t    'method': 'x-ray',\n",
    "\t    'resolution': 2.7,\n",
    "}"
   ]
  },
  {
   "cell_type": "markdown",
   "id": "ffbfa711",
   "metadata": {},
   "source": [
    "We can create an array of all *items* in the dictionary using the <kbd>.items()</kbd> method:\n"
   ]
  },
  {
   "cell_type": "code",
   "execution_count": null,
   "id": "a9c5165b",
   "metadata": {},
   "outputs": [],
   "source": [
    "print(lac_repressor.items())"
   ]
  },
  {
   "cell_type": "markdown",
   "id": "de89e06c",
   "metadata": {},
   "source": [
    "```{.output}\n",
    "dict_items([('pdb id', '1LBI'), ('deposit data', '1996-02-17'), ('organism', 'Escherichia coli'), ('method', 'x-ray'), ('resolution', 2.7)])\n",
    "```"
   ]
  },
  {
   "cell_type": "markdown",
   "id": "4f7f7b4d",
   "metadata": {},
   "source": [
    "Similar to the <kbd>enumerate()</kbd> function (discussed in [subsection DIY](#diy:loops:for:enumerate) ), the <kbd>.items()</kbd> method also returns an array of ```tuple``` members. Each ```tuple``` itself consists of 2 members, and is structured as (<span style=\"color: rgb(32, 121, 77);\">'key'</span>: <span style=\"color: rgb(32, 121, 77);\">'value'</span>). On that account, we can use its output in the context of a ```for```--loop as follows: \n"
   ]
  },
  {
   "cell_type": "code",
   "execution_count": null,
   "id": "b1f2433c",
   "metadata": {},
   "outputs": [],
   "source": [
    "for key, value in lac_repressor.items():\n",
    "    print(key, value, sep=': ')"
   ]
  },
  {
   "cell_type": "markdown",
   "id": "737d44ca",
   "metadata": {},
   "source": [
    "```{.output}\n",
    "pdb id: 1LBI\n",
    "deposit data: 1996-02-17\n",
    "organism: Escherichia coli\n",
    "method: x-ray\n",
    "resolution: 2.7\n",
    "```\n"
   ]
  },
  {
   "cell_type": "markdown",
   "id": "f8f42d18",
   "metadata": {},
   "source": [
    "## Do it Yourself\n",
    "\n",
    "Try <kbd>.items()</kbd> on a nested ```dict``` and see how it works. \n",
    "\t"
   ]
  },
  {
   "cell_type": "markdown",
   "id": "569cdd24",
   "metadata": {},
   "source": [
    "## DIY ANSWER\n"
   ]
  },
  {
   "cell_type": "code",
   "execution_count": null,
   "id": "1dfa324a",
   "metadata": {},
   "outputs": [],
   "source": [
    "nested_dict = {\n",
    "    'L1-a': {\n",
    "        'L2-Ka': 'L2_Va',\n",
    "        'L2-Kb': 'L2_Vb',\n",
    "    },\n",
    "    'L1-b': {\n",
    "        'L2-Kc': 'L2_Vc',\n",
    "        'L2-Kd': 'L3_Vd'\n",
    "    },\n",
    "    'L3-c': 'L3_V'\n",
    "}\n",
    "\t\n",
    "print(nested_dict.items())"
   ]
  },
  {
   "cell_type": "markdown",
   "id": "4a3c58fa",
   "metadata": {},
   "source": [
    "```{.output}\n",
    "dict_items([('L1-a', {'L2-Ka': 'L2_Va', 'L2-Kb': 'L2_Vb'}), ('L1-b', {'L2-Kc': 'L2_Vc', 'L2-Kd': 'L3_Vd'}), ('L3-c', 'L3_V')])\n",
    "```"
   ]
  },
  {
   "cell_type": "markdown",
   "id": "39a1dc38",
   "metadata": {},
   "source": [
    "We learned earlier that if we ask for a *key* that is not in the ```dict```, a ```KeyError``` will be raised. If we anticipate this, we can handle it using the <kbd>.get()</kbd> method. The method takes in the *key* and searches the dictionary to find it. If found, the associating *value* is returned. Otherwise, the method returns ```None``` by default. We can also pass a second value to <kbd>.get()</kbd> to replace ```None``` in cases that the requested *key* does not exist:\n"
   ]
  },
  {
   "cell_type": "code",
   "execution_count": null,
   "id": "457da1f1",
   "metadata": {},
   "outputs": [],
   "source": [
    "print(lac_repressor['gene'])"
   ]
  },
  {
   "cell_type": "markdown",
   "id": "1539a3ee",
   "metadata": {},
   "source": [
    "```{.error}\n",
    "Error in py_call_impl(callable, dots$args, dots$keywords): KeyError: 'gene'\n",
    "\n",
    "Detailed traceback:\n",
    "  File \"<string>\", line 1, in <module>\n",
    "```\n"
   ]
  },
  {
   "cell_type": "code",
   "execution_count": null,
   "id": "776eb4de",
   "metadata": {},
   "outputs": [],
   "source": [
    "print(lac_repressor.get('gene'))"
   ]
  },
  {
   "cell_type": "markdown",
   "id": "81403f05",
   "metadata": {},
   "source": [
    "```{.output}\n",
    "None\n",
    "```\n"
   ]
  },
  {
   "cell_type": "code",
   "execution_count": null,
   "id": "080712ba",
   "metadata": {},
   "outputs": [],
   "source": [
    "print(lac_repressor.get('gene', 'Not found...'))"
   ]
  },
  {
   "cell_type": "markdown",
   "id": "3f828c43",
   "metadata": {},
   "source": [
    "```{.output}\n",
    "Not found...\n",
    "```"
   ]
  },
  {
   "cell_type": "markdown",
   "id": "68cc99d6",
   "metadata": {},
   "source": [
    "## Do it Yourself\n",
    "\n",
    "Implement the <span style=\"color: rgb(32, 121, 77);\">lac_repressor</span> dictionary and try to extract the *values* associated with the following *keys*:\n",
    "\n",
    "- <span style=\"color: rgb(32, 121, 77);\">organism</span>\n",
    "- <span style=\"color: rgb(32, 121, 77);\">authors</span>\n",
    "- <span style=\"color: rgb(32, 121, 77);\">subunits</span>\n",
    "- <span style=\"color: rgb(32, 121, 77);\">method</span>\n",
    "\n",
    "If a *key* does not exist in the dictionary, display <span style=\"color: rgb(32, 121, 77);\">No entry</span> instead.\n",
    "\n",
    "Display the results in the following format:\n",
    "```\n",
    "organism: XXX\n",
    "authors: XXX\t\n",
    "```"
   ]
  },
  {
   "cell_type": "markdown",
   "id": "e3f15166",
   "metadata": {},
   "source": [
    "## DIY ANSWER"
   ]
  },
  {
   "cell_type": "code",
   "execution_count": null,
   "id": "8889e288",
   "metadata": {},
   "outputs": [],
   "source": [
    "lac_repressor = {\n",
    "    'pdb id': '1LBI',\n",
    "    'deposit data': '1996-02-17',\n",
    "    'organism': 'Escherichia coli',\n",
    "    'method': 'x-ray',\n",
    "    'resolution': 2.7,\n",
    "}\n",
    "\t\n",
    "requested_keys = ['organism', 'authors', 'subunits', 'method']\n",
    "\t\n",
    "for key in requested_keys:\n",
    "    lac_repressor.get(key, 'No entry')"
   ]
  },
  {
   "cell_type": "markdown",
   "id": "919ac0ce",
   "metadata": {},
   "source": [
    "```{.output}\n",
    "'Escherichia coli'\n",
    "'No entry'\n",
    "'No entry'\n",
    "'x-ray'\n",
    "```"
   ]
  },
  {
   "cell_type": "markdown",
   "id": "441c8a83",
   "metadata": {},
   "source": [
    "### ```for```-loop and dictionary\n",
    "Dictionaries and ```for```-loops create a powerful combination. We can leverage the accessibility of dictionary *values* through specific *keys* that we define ourselves in a loop to extract data iteratively and repeatedly. \n",
    "\n",
    "One of the most useful tools that we can create using nothing more than a ```for```-loop and a dictionary, in only a few lines of code, is a sequence converter.\n",
    "\n",
    "Here, we are essentially iterating through a sequence of DNA nucleotides (<span style=\"color: rgb(32, 121, 77);\">sequence</span>), extracting one character per loop cycle from our string (<span style=\"color: rgb(32, 121, 77);\">nucleotide</span>). We then use that character as a *key* to retrieve its corresponding *value* from our a dictionary (<span style=\"color: rgb(32, 121, 77);\">dna2rna</span>). Once we get the *value*, we add it to the variable that we initialised using an empty string outside the scope of our ```for```-loop (<span style=\"color: rgb(32, 121, 77);\">rna_sequence</span>) as discussed in [subsection](#subsubsec:mathematicalOperations:nonNumerics). At the end of the process, the variable <span style=\"color: rgb(32, 121, 77);\">rna_sequence</span> will contain a converted version of our sequence. \n"
   ]
  },
  {
   "cell_type": "code",
   "execution_count": null,
   "id": "8c615b7a",
   "metadata": {},
   "outputs": [],
   "source": [
    "sequence = 'CCCATCTTAAGACTTCACAAGACTTGTGAAATCAGACCACTGCTCAATGCGGAACGCCCG'\n",
    "\t\n",
    "dna2rna = {\"A\": \"U\", \"T\": \"A\", \"C\": \"G\", \"G\": \"C\"}\n",
    "\t\n",
    "rna_sequence = str()  # Creating an empty string.\n",
    "\t\n",
    "for nucleotide in sequence:\n",
    "    rna_sequence += dna2rna[nucleotide]\n",
    "\t\n",
    "print('DNA:', sequence)"
   ]
  },
  {
   "cell_type": "markdown",
   "id": "30c26b56",
   "metadata": {},
   "source": [
    "```{.output}\n",
    "DNA: CCCATCTTAAGACTTCACAAGACTTGTGAAATCAGACCACTGCTCAATGCGGAACGCCCG\n",
    "```"
   ]
  },
  {
   "cell_type": "code",
   "execution_count": null,
   "id": "1c0b8429",
   "metadata": {},
   "outputs": [],
   "source": [
    "print('RNA:', rna_sequence)"
   ]
  },
  {
   "cell_type": "markdown",
   "id": "00653bd4",
   "metadata": {},
   "source": [
    "```{.output}\n",
    "RNA: GGGUAGAAUUCUGAAGUGUUCUGAACACUUUAGUCUGGUGACGAGUUACGCCUUGCGGGC\n",
    "```"
   ]
  },
  {
   "cell_type": "markdown",
   "id": "cce9ef6e",
   "metadata": {},
   "source": [
    "## Do it Yourself\n",
    "\n",
    "We know that in reverse transcription, RNA nucleotides are converted to their complementary DNA as shown:\n",
    "\t\n",
    "| Type | Direction | Nucleotides  |  \n",
    "|:---------------------------:|:---:|:---:|\n",
    "| RNA | 5'...' | U A G C |\n",
    "| cDNA | 5'...' | A T C G |\n",
    "\n",
    "with that in mind:\n",
    "\n",
    "1. Use the table to construct a dictionary for reverse transcription, and another dictionary for the conversion of cDNA to DNA. \n",
    "\n",
    "2. Using the appropriate dictionary, convert the following mRNA (exon) sequence for human G protein-coupled receptor to its cDNA.\n"
   ]
  },
  {
   "cell_type": "code",
   "execution_count": null,
   "id": "4a20c342",
   "metadata": {
    "lines_to_next_cell": 0
   },
   "outputs": [],
   "source": [
    "human_gpcr = (\n",
    "    'AUGGAUGUGACUUCCCAAGCCCGGGGCGUGGGCCUGGAGAUGUACCCAGGCACCGCGCAGCCUGCGGCCCCCAACACCACCUC'\n",
    "    'CCCCGAGCUCAACCUGUCCCACCCGCUCCUGGGCACCGCCCUGGCCAAUGGGACAGGUGAGCUCUCGGAGCACCAGCAGUACG'\n",
    "    'UGAUCGGCCUGUUCCUCUCGUGCCUCUACACCAUCUUCCUCUUCCCCAUCGGCUUUGUGGGCAACAUCCUGAUCCUGGUGGUG'\n",
    "    'AACAUCAGCUUCCGCGAGAAGAUGACCAUCCCCGACCUGUACUUCAUCAACCUGGCGGUGGCGGACCUCAUCCUGGUGGCCGA'\n",
    "    'CUCCCUCAUUGAGGUGUUCAACCUGCACGAGCGGUACUACGACAUCGCCGUCCUGUGCACCUUCAUGUCGCUCUUCCUGCAGG'\n",
    "    'UCAACAUGUACAGCAGCGUCUUCUUCCUCACCUGGAUGAGCUUCGACCGCUACAUCGCCCUGGCCAGGGCCAUGCGCUGCAGC'\n",
    "    'CUGUUCCGCACCAAGCACCACGCCCGGCUGAGCUGUGGCCUCAUCUGGAUGGCAUCCGUGUCAGCCACGCUGGUGCCCUUCAC'\n",
    "    'CGCCGUGCACCUGCAGCACACCGACGAGGCCUGCUUCUGUUUCGCGGAUGUCCGGGAGGUGCAGUGGCUCGAGGUCACGCUGG'\n",
    "    'GCUUCAUCGUGCCCUUCGCCAUCAUCGGCCUGUGCUACUCCCUCAUUGUCCGGGUGCUGGUCAGGGCGCACCGGCACCGUGGG'\n",
    "    'CUGCGGCCCCGGCGGCAGAAGGCGCUCCGCAUGAUCCUCGCGGUGGUGCUGGUCUUCUUCGUCUGCUGGCUGCCGGAGAACGU'\n",
    "    'CUUCAUCAGCGUGCACCUCCUGCAGCGGACGCAGCCUGGGGCCGCUCCCUGCAAGCAGUCUUUCCGCCAUGCCCACCCCCUCA'\n",
    "    'CGGGCCACAUUGUCAACCUCACCGCCUUCUCCAACAGCUGCCUAAACCCCCUCAUCUACAGCUUUCUCGGGGAGACCUUCAGG'\n",
    "    'GACAAGCUGAGGCUGUACAUUGAGCAGAAAACAAAUUUGCCGGCCCUGAACCGCUUCUGUCACGCUGCCCUGAAGGCCGUCAU'\n",
    "    'UCCAGACAGCACCGAGCAGUCGGAUGUGAGGUUCAGCAGUGCCGUG'\n",
    ")"
   ]
  },
  {
   "cell_type": "markdown",
   "id": "9072d469",
   "metadata": {},
   "source": []
  },
  {
   "cell_type": "markdown",
   "id": "5a3297d6",
   "metadata": {},
   "source": [
    "## Q1\n"
   ]
  },
  {
   "cell_type": "code",
   "execution_count": null,
   "id": "f1ef4897",
   "metadata": {},
   "outputs": [],
   "source": [
    "mrna2cdna = {\n",
    "    'U': 'A',\n",
    "    'A': 'T',\n",
    "    'G': 'C',\n",
    "    'C': 'G'\n",
    "}\n",
    "\t\t\n",
    "cdna2dna = {\n",
    "    'A': 'T',\n",
    "    'T': 'A',\n",
    "    'C': 'G',\n",
    "    'G': 'C'\n",
    "}"
   ]
  },
  {
   "cell_type": "markdown",
   "id": "d075f8a3",
   "metadata": {},
   "source": [
    "## Q2\n"
   ]
  },
  {
   "cell_type": "code",
   "execution_count": null,
   "id": "0c8ba8cc",
   "metadata": {},
   "outputs": [],
   "source": [
    "cdna = str()\n",
    "for nucleotide in human_gpcr:\n",
    "    cdna += mrna2cdna[nucleotide]\n",
    "\t\t\n",
    "print(cdna)"
   ]
  },
  {
   "cell_type": "markdown",
   "id": "7155dc85",
   "metadata": {},
   "source": [
    "```{.output}\n",
    "TACCTACACTGAAGGGTTCGGGCCCCGCACCCGGACCTCTACATGGGTCCGTGGCGCGTCGGACGCCGGGGGTTGTGGTGGAGGGGGCTCGAGTTGGACAGGGTGGGCGAGGACCCGTGGCGGGACCGGTTACCCTGTCCACTCGAGAGCCTCGTGGTCGTCATGCACTAGCCGGACAAGGAGAGCACGGAGATGTGGTAGAAGGAGAAGGGGTAGCCGAAACACCCGTTGTAGGACTAGGACCACCACTTGTAGTCGAAGGCGCTCTTCTACTGGTAGGGGCTGGACATGAAGTAGTTGGACCGCCACCGCCTGGAGTAGGACCACCGGCTGAGGGAGTAACTCCACAAGTTGGACGTGCTCGCCATGATGCTGTAGCGGCAGGACACGTGGAAGTACAGCGAGAAGGACGTCCAGTTGTACATGTCGTCGCAGAAGAAGGAGTGGACCTACTCGAAGCTGGCGATGTAGCGGGACCGGTCCCGGTACGCGACGTCGGACAAGGCGTGGTTCGTGGTGCGGGCCGACTCGACACCGGAGTAGACCTACCGTAGGCACAGTCGGTGCGACCACGGGAAGTGGCGGCACGTGGACGTCGTGTGGCTGCTCCGGACGAAGACAAAGCGCCTACAGGCCCTCCACGTCACCGAGCTCCAGTGCGACCCGAAGTAGCACGGGAAGCGGTAGTAGCCGGACACGATGAGGGAGTAACAGGCCCACGACCAGTCCCGCGTGGCCGTGGCACCCGACGCCGGGGCCGCCGTCTTCCGCGAGGCGTACTAGGAGCGCCACCACGACCAGAAGAAGCAGACGACCGACGGCCTCTTGCAGAAGTAGTCGCACGTGGAGGACGTCGCCTGCGTCGGACCCCGGCGAGGGACGTTCGTCAGAAAGGCGGTACGGGTGGGGGAGTGCCCGGTGTAACAGTTGGAGTGGCGGAAGAGGTTGTCGACGGATTTGGGGGAGTAGATGTCGAAAGAGCCCCTCTGGAAGTCCCTGTTCGACTCCGACATGTAACTCGTCTTTTGTTTAAACGGCCGGGACTTGGCGAAGACAGTGCGACGGGACTTCCGGCAGTAAGGTCTGTCGTGGCTCGTCAGCCTACACTCCAAGTCGTCACGGCAC\n",
    "```"
   ]
  },
  {
   "cell_type": "markdown",
   "id": "dd11026f",
   "metadata": {},
   "source": [
    "## Summary\n",
    "In this section we talked about dictionaries, which are one the most powerful built-in types in Python. We learned:\n",
    "\n",
    "- how to create dictionaries in Python,\n",
    "- methods to alter or manipulate normal and nested dictionaries,\n",
    "- two different techniques for changing an existing *key*,\n",
    "- examples on how dictionaries help us organise our data and retrieve them when needed,"
   ]
  },
  {
   "cell_type": "markdown",
   "id": "2649308e",
   "metadata": {},
   "source": [
    "Finally, we also learned that we can create an *iterable* (discussed in [section](#for-loop)) from dictionary *keys* or *values* using the <kbd>.key()</kbd>, the <kbd>.values()</kbd>, or the <kbd>.items()</kbd> methods.\n",
    "\n",
    "## Exercises\n",
    "\n",
    "### End of chapter Exercises\n",
    "\n",
    "We know that the process of protein translation starts by transcribing a gene from DNA to RNA *nucleotides*, followed by translating the RNA *codons* to protein. \n",
    "\t\n",
    "Conventionally, we write a DNA sequence from the <span style=\"color: rgb(32, 121, 77);\">5'</span>-end to the <span style=\"color: rgb(32, 121, 77);\">3'</span>-end. The transcription process, however, starts from the <span style=\"color: rgb(32, 121, 77);\">3'</span>-end of a gene to the <span style=\"color: rgb(32, 121, 77);\">5'</span>-end (anti-sense strand), resulting in a sense mRNA sequence complementing the sense DNA strand. This is because RNA polymerase can only add nucleotides to the <span style=\"color: rgb(32, 121, 77);\">3'</span>-end of the growing mRNA chain, which eliminates the need for the [Okazaki fragments](https://en.wikipedia.org/wiki/Okazaki_fragments) as seen in DNA replication.\n",
    "\t\n",
    "**Example:** The DNA sequence <span style=\"color: rgb(32, 121, 77);\">ATGTCTAAA</span> is transcribed into <span style=\"color: rgb(32, 121, 77);\">AUGUCUAAA</span>. \n",
    "\t\n",
    "Given a conversion table: \n",
    "\t\n",
    "![](fig/conversion_table.png)\t\n",
    "\n",
    "and this <span style=\"color: rgb(32, 121, 77);\">5'</span>- to <span style=\"color: rgb(32, 121, 77);\">3'</span>-end DNA sequence of 717 nucleotides for the [Green Fluorescent Protein (GFP)](https://en.wikipedia.org/wiki/Green_fluorescent_protein) mutant 3 extracted from [Aequorea victoria](https://en.wikipedia.org/wiki/Aequorea_victoria): \n",
    "\t"
   ]
  },
  {
   "cell_type": "code",
   "execution_count": null,
   "id": "89a8b75c",
   "metadata": {},
   "outputs": [],
   "source": [
    "dna_sequence = (\n",
    "    'ATGTCTAAAGGTGAAGAATTATTCACTGGTGTTGTCCCAATTTTGGTTGAATTAGATGGTGATGTTAATGGT'\n",
    "    'CACAAATTTTCTGTCTCCGGTGAAGGTGAAGGTGATGCTACTTACGGTAAATTGACCTTAAAATTTATTTGT'\n",
    "    'ACTACTGGTAAATTGCCAGTTCCATGGCCAACCTTAGTCACTACTTTCGGTTATGGTGTTCAATGTTTTGCT'\n",
    "    'AGATACCCAGATCATATGAAACAACATGACTTTTTCAAGTCTGCCATGCCAGAAGGTTATGTTCAAGAAAGA'\n",
    "    'ACTATTTTTTTCAAAGATGACGGTAACTACAAGACCAGAGCTGAAGTCAAGTTTGAAGGTGATACCTTAGTT'\n",
    "    'AATAGAATCGAATTAAAAGGTATTGATTTTAAAGAAGATGGTAACATTTTAGGTCACAAATTGGAATACAAC'\n",
    "    'TATAACTCTCACAATGTTTACATCATGGCTGACAAACAAAAGAATGGTATCAAAGTTAACTTCAAAATTAGA'\n",
    "    'CACAACATTGAAGATGGTTCTGTTCAATTAGCTGACCATTATCAACAAAATACTCCAATTGGTGATGGTCCA'\n",
    "    'GTCTTGTTACCAGACAACCATTACTTATCCACTCAATCTGCCTTATCCAAAGATCCAAACGAAAAGAGAGAC'\n",
    "    'CACATGGTCTTGTTAGAATTTGTTACTGCTGCTGGTATTACCCATGGTATGGATGAATTGTACAAATAA'\n",
    ")"
   ]
  },
  {
   "cell_type": "markdown",
   "id": "4f5b1590",
   "metadata": {},
   "source": [
    "Use the DNA sequence and the conversion table to:\n",
    "\n",
    "1. Write a Python script to *transcribe* this sequence to mRNA as it occurs in a biological organism. That is, determine the complimentary DNA first, and use that to work out the mRNA.\n",
    "\t\t\n",
    "2. Use the following dictionary in a Python script to obtain the translation (protein sequence) of the Green Fluorescent Protein using the mRNA sequence you obtained. \n",
    "\t\t"
   ]
  },
  {
   "cell_type": "code",
   "execution_count": null,
   "id": "6f9f1438",
   "metadata": {
    "lines_to_next_cell": 2
   },
   "outputs": [],
   "source": [
    "codon2aa = {\n",
    "    \"UUU\": \"F\", \"UUC\": \"F\", \"UUA\": \"L\", \"UUG\": \"L\", \"CUU\": \"L\",  \n",
    "    \"CUC\": \"L\", \"CUA\": \"L\", \"CUG\": \"L\", \"AUU\": \"I\", \"AUC\": \"I\",\n",
    "    \"AUA\": \"I\", \"GUU\": \"V\", \"GUC\": \"V\", \"GUA\": \"V\", \"GUG\": \"V\",\n",
    "    \"UCU\": \"S\", \"UCC\": \"S\", \"UCA\": \"S\", \"UCG\": \"S\", \"AGU\": \"S\", \n",
    "    \"AGC\": \"S\", \"CCU\": \"P\", \"CCC\": \"P\", \"CCA\": \"P\", \"CCG\": \"P\",\n",
    "    \"ACU\": \"T\", \"ACC\": \"T\", \"ACA\": \"T\", \"ACG\": \"T\", \"GCU\": \"A\", \n",
    "    \"GCC\": \"A\", \"GCA\": \"A\", \"GCG\": \"A\", \"UAU\": \"Y\", \"UAC\": \"Y\",  \n",
    "    \"CAU\": \"H\", \"CAC\": \"H\", \"CAA\": \"Q\", \"CAG\": \"Q\", \"AAU\": \"N\",\n",
    "    \"AAC\": \"N\", \"AAA\": \"K\", \"AAG\": \"K\", \"GAU\": \"D\", \"GAC\": \"D\",\n",
    "    \"GAA\": \"E\", \"GAG\": \"E\", \"UGU\": \"C\", \"UGC\": \"C\", \"UGG\": \"W\", \n",
    "    \"CGU\": \"R\", \"CGC\": \"R\", \"CGA\": \"R\", \"CGG\": \"R\", \"AGA\": \"R\", \n",
    "    \"AGG\": \"R\", \"GGU\": \"G\", \"GGC\": \"G\", \"GGA\": \"G\", \"GGG\": \"G\", \n",
    "    \"AUG\": \"<Met>\", \"UAA\": \"<STOP>\", \"UAG\": \"<STOP>\", \"UGA\": \"<STOP>\"\n",
    "}"
   ]
  },
  {
   "cell_type": "markdown",
   "id": "b20e476a",
   "metadata": {},
   "source": [
    "## Please check these solutions only after submitting the assignments.\n",
    "\n",
    "### Q1"
   ]
  },
  {
   "cell_type": "code",
   "execution_count": null,
   "id": "46bf3e6a",
   "metadata": {},
   "outputs": [],
   "source": [
    "dna_sequence = (\n",
    "    'ATGTCTAAAGGTGAAGAATTATTCACTGGTGTTGTCCCAATTTTGGTTGAATTAGATGGTGATGTTAATGGT' \n",
    "    'CACAAATTTTCTGTCTCCGGTGAAGGTGAAGGTGATGCTACTTACGGTAAATTGACCTTAAAATTTATTTGT' \n",
    "    'ACTACTGGTAAATTGCCAGTTCCATGGCCAACCTTAGTCACTACTTTCGGTTATGGTGTTCAATGTTTTGCT' \n",
    "    'AGATACCCAGATCATATGAAACAACATGACTTTTTCAAGTCTGCCATGCCAGAAGGTTATGTTCAAGAAAGA' \n",
    "    'ACTATTTTTTTCAAAGATGACGGTAACTACAAGACCAGAGCTGAAGTCAAGTTTGAAGGTGATACCTTAGTT' \n",
    "    'AATAGAATCGAATTAAAAGGTATTGATTTTAAAGAAGATGGTAACATTTTAGGTCACAAATTGGAATACAAC' \n",
    "    'TATAACTCTCACAATGTTTACATCATGGCTGACAAACAAAAGAATGGTATCAAAGTTAACTTCAAAATTAGA' \n",
    "    'CACAACATTGAAGATGGTTCTGTTCAATTAGCTGACCATTATCAACAAAATACTCCAATTGGTGATGGTCCA' \n",
    "    'GTCTTGTTACCAGACAACCATTACTTATCCACTCAATCTGCCTTATCCAAAGATCCAAACGAAAAGAGAGAC' \n",
    "    'CACATGGTCTTGTTAGAATTTGTTACTGCTGCTGGTATTACCCATGGTATGGATGAATTGTACAAATAA'\n",
    ")\n",
    "\n",
    "\n",
    "codon2aa = {\n",
    "    \"UUU\": \"F\", \"UUC\": \"F\", \"UUA\": \"L\", \"UUG\": \"L\", \"CUU\": \"L\",\n",
    "    \"CUC\": \"L\", \"CUA\": \"L\", \"CUG\": \"L\", \"AUU\": \"I\", \"AUC\": \"I\",\n",
    "    \"AUA\": \"I\", \"GUU\": \"V\", \"GUC\": \"V\", \"GUA\": \"V\", \"GUG\": \"V\",\n",
    "    \"UCU\": \"S\", \"UCC\": \"S\", \"UCA\": \"S\", \"UCG\": \"S\", \"AGU\": \"S\",\n",
    "    \"AGC\": \"S\", \"CCU\": \"P\", \"CCC\": \"P\", \"CCA\": \"P\", \"CCG\": \"P\",\n",
    "    \"ACU\": \"T\", \"ACC\": \"T\", \"ACA\": \"T\", \"ACG\": \"T\", \"GCU\": \"A\",\n",
    "    \"GCC\": \"A\", \"GCA\": \"A\", \"GCG\": \"A\", \"UAU\": \"Y\", \"UAC\": \"Y\",\n",
    "    \"CAU\": \"H\", \"CAC\": \"H\", \"CAA\": \"Q\", \"CAG\": \"Q\", \"AAU\": \"N\",\n",
    "    \"AAC\": \"N\", \"AAA\": \"K\", \"AAG\": \"K\", \"GAU\": \"D\", \"GAC\": \"D\",\n",
    "    \"GAA\": \"E\", \"GAG\": \"E\", \"UGU\": \"C\", \"UGC\": \"C\", \"UGG\": \"W\",\n",
    "    \"CGU\": \"R\", \"CGC\": \"R\", \"CGA\": \"R\", \"CGG\": \"R\", \"AGA\": \"R\",\n",
    "    \"AGG\": \"R\", \"GGU\": \"G\", \"GGC\": \"G\", \"GGA\": \"G\", \"GGG\": \"G\",\n",
    "    \"AUG\": \"<Met>\", \"UAA\": \"<STOP>\", \"UAG\": \"<STOP>\", \"UGA\": \"<STOP>\"\n",
    "}\n",
    "\n",
    "dna2cdna = {\n",
    "    'A': 'T',\n",
    "    'C': 'G',\n",
    "    'G': 'C',\n",
    "    'T': 'A'\n",
    "}\n",
    "\n",
    "\n",
    "dna2mrna = {\n",
    "    'A': 'U',\n",
    "    'T': 'A',\n",
    "    'G': 'C',\n",
    "    'C': 'G'\n",
    "}\n",
    "\n",
    "\n",
    "# Transcription\n",
    "# -----------------------------------------------------------------\n",
    "m_rna = str()\n",
    "\n",
    "for nucleotide in dna_sequence:\n",
    "    # DNA to cDNA\n",
    "    c_dna = dna2cdna[nucleotide]\n",
    "\n",
    "    # cDNA to mRNA\n",
    "    m_rna += dna2mrna[c_dna]\n",
    "\n",
    "\n",
    "print('mRNA:', m_rna)\n",
    "\n",
    "\n",
    "# Translation:\n",
    "# -----------------------------------------------------------------"
   ]
  },
  {
   "cell_type": "markdown",
   "id": "bdd1d41e",
   "metadata": {},
   "source": [
    "```{.output}\n",
    "mRNA: AUGUCUAAAGGUGAAGAAUUAUUCACUGGUGUUGUCCCAAUUUUGGUUGAAUUAGAUGGUGAUGUUAAUGGUCACAAAUUUUCUGUCUCCGGUGAAGGUGAAGGUGAUGCUACUUACGGUAAAUUGACCUUAAAAUUUAUUUGUACUACUGGUAAAUUGCCAGUUCCAUGGCCAACCUUAGUCACUACUUUCGGUUAUGGUGUUCAAUGUUUUGCUAGAUACCCAGAUCAUAUGAAACAACAUGACUUUUUCAAGUCUGCCAUGCCAGAAGGUUAUGUUCAAGAAAGAACUAUUUUUUUCAAAGAUGACGGUAACUACAAGACCAGAGCUGAAGUCAAGUUUGAAGGUGAUACCUUAGUUAAUAGAAUCGAAUUAAAAGGUAUUGAUUUUAAAGAAGAUGGUAACAUUUUAGGUCACAAAUUGGAAUACAACUAUAACUCUCACAAUGUUUACAUCAUGGCUGACAAACAAAAGAAUGGUAUCAAAGUUAACUUCAAAAUUAGACACAACAUUGAAGAUGGUUCUGUUCAAUUAGCUGACCAUUAUCAACAAAAUACUCCAAUUGGUGAUGGUCCAGUCUUGUUACCAGACAACCAUUACUUAUCCACUCAAUCUGCCUUAUCCAAAGAUCCAAACGAAAAGAGAGACCACAUGGUCUUGUUAGAAUUUGUUACUGCUGCUGGUAUUACCCAUGGUAUGGAUGAAUUGUACAAAUAA\n",
    "```"
   ]
  },
  {
   "cell_type": "code",
   "execution_count": null,
   "id": "170b94aa",
   "metadata": {},
   "outputs": [],
   "source": [
    "mrna_len = len(m_rna)\n",
    "codon_len = 3\n",
    "\n",
    "protein = str()\n",
    "\n",
    "for index in range(0, mrna_len, codon_len):\n",
    "    codon = m_rna[index: index + codon_len]\n",
    "    protein += codon2aa[codon]\n",
    "\n",
    "print('Protein:', protein)\n",
    "\n",
    "# -----------------------------------------------------------------\n",
    "# INTERMEDIATE-LEVEL TWIST (Alternative answer):\n",
    "# One can also combine the two processes.\n",
    "#\n",
    "# Advantages:\n",
    "#   - One for-loop.\n",
    "#   - No use of `range()`.\n",
    "#   - Almost twice as fast (half as many iterations).\n",
    "# -----------------------------------------------------------------"
   ]
  },
  {
   "cell_type": "markdown",
   "id": "ca2489be",
   "metadata": {},
   "source": [
    "```{.output}\n",
    "Protein: <Met>SKGEELFTGVVPILVELDGDVNGHKFSVSGEGEGDATYGKLTLKFICTTGKLPVPWPTLVTTFGYGVQCFARYPDH<Met>KQHDFFKSA<Met>PEGYVQERTIFFKDDGNYKTRAEVKFEGDTLVNRIELKGIDFKEDGNILGHKLEYNYNSHNVYI<Met>ADKQKNGIKVNFKIRHNIEDGSVQLADHYQQNTPIGDGPVLLPDNHYLSTQSALSKDPNEKRDH<Met>VLLEFVTAAGITHG<Met>DELYK<STOP>\n",
    "```"
   ]
  },
  {
   "cell_type": "code",
   "execution_count": null,
   "id": "65216428",
   "metadata": {},
   "outputs": [],
   "source": [
    "m_rna = str()\n",
    "protein = str()\n",
    "codon = str()\n",
    "\n",
    "for nucleotide in dna_sequence:\n",
    "    # DNA to cDNA\n",
    "    c_dna = dna2cdna[nucleotide]\n",
    "\n",
    "    # Transcription:\n",
    "    transcribed_nucleotide = dna2mrna[c_dna]\n",
    "    m_rna += transcribed_nucleotide\n",
    "\n",
    "    # Translation process:\n",
    "    # Retaining the residue to construct triplets.\n",
    "    codon += transcribed_nucleotide\n",
    "\n",
    "    # Check if this is a triplet (a codon):\n",
    "    if len(codon) == 3:\n",
    "        # Convert to amino acid and store:\n",
    "        protein += codon2aa[codon]\n",
    "\n",
    "        # Reset the codon to an empty string:\n",
    "        codon = str()\n",
    "print('mRNA:', m_rna)"
   ]
  },
  {
   "cell_type": "markdown",
   "id": "2404269e",
   "metadata": {},
   "source": [
    "```{.output}\n",
    "mRNA: AUGUCUAAAGGUGAAGAAUUAUUCACUGGUGUUGUCCCAAUUUUGGUUGAAUUAGAUGGUGAUGUUAAUGGUCACAAAUUUUCUGUCUCCGGUGAAGGUGAAGGUGAUGCUACUUACGGUAAAUUGACCUUAAAAUUUAUUUGUACUACUGGUAAAUUGCCAGUUCCAUGGCCAACCUUAGUCACUACUUUCGGUUAUGGUGUUCAAUGUUUUGCUAGAUACCCAGAUCAUAUGAAACAACAUGACUUUUUCAAGUCUGCCAUGCCAGAAGGUUAUGUUCAAGAAAGAACUAUUUUUUUCAAAGAUGACGGUAACUACAAGACCAGAGCUGAAGUCAAGUUUGAAGGUGAUACCUUAGUUAAUAGAAUCGAAUUAAAAGGUAUUGAUUUUAAAGAAGAUGGUAACAUUUUAGGUCACAAAUUGGAAUACAACUAUAACUCUCACAAUGUUUACAUCAUGGCUGACAAACAAAAGAAUGGUAUCAAAGUUAACUUCAAAAUUAGACACAACAUUGAAGAUGGUUCUGUUCAAUUAGCUGACCAUUAUCAACAAAAUACUCCAAUUGGUGAUGGUCCAGUCUUGUUACCAGACAACCAUUACUUAUCCACUCAAUCUGCCUUAUCCAAAGAUCCAAACGAAAAGAGAGACCACAUGGUCUUGUUAGAAUUUGUUACUGCUGCUGGUAUUACCCAUGGUAUGGAUGAAUUGUACAAAUAA\n",
    "```"
   ]
  },
  {
   "cell_type": "code",
   "execution_count": null,
   "id": "32b04def",
   "metadata": {},
   "outputs": [],
   "source": [
    "print('Protein:', protein)  "
   ]
  },
  {
   "cell_type": "markdown",
   "id": "be2fb11d",
   "metadata": {},
   "source": [
    "```{.output}\n",
    "Protein: <Met>SKGEELFTGVVPILVELDGDVNGHKFSVSGEGEGDATYGKLTLKFICTTGKLPVPWPTLVTTFGYGVQCFARYPDH<Met>KQHDFFKSA<Met>PEGYVQERTIFFKDDGNYKTRAEVKFEGDTLVNRIELKGIDFKEDGNILGHKLEYNYNSHNVYI<Met>ADKQKNGIKVNFKIRHNIEDGSVQLADHYQQNTPIGDGPVLLPDNHYLSTQSALSKDPNEKRDH<Met>VLLEFVTAAGITHG<Met>DELYK<STOP>\n",
    "```\n"
   ]
  },
  {
   "cell_type": "markdown",
   "id": "a92f998c",
   "metadata": {},
   "source": [
    "- Dictionaries associate a set of *values* with a number of *keys*.\n",
    "- *keys* are used to access the values of a dictionary.\n",
    "- Dictionaries are mutable.\n",
    "- Nested dictionaries are constructed to organise data in a hierarchical fashion.\n",
    "- Some of the useful methods to work with dictionaries are: <kbd>.items()</kbd>, <kbd>.get()</kbd>\n",
    "\n",
    "\n"
   ]
  },
  {
   "cell_type": "markdown",
   "id": "aa2b515a",
   "metadata": {},
   "source": [
    "[r-markdown]: https://rmarkdown.rstudio.com/"
   ]
  }
 ],
 "metadata": {
  "jupytext": {
   "cell_metadata_filter": "-all",
   "main_language": "python",
   "notebook_metadata_filter": "-all"
  }
 },
 "nbformat": 4,
 "nbformat_minor": 5
}
