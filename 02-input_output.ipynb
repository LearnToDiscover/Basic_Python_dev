{
 "cells": [
  {
   "cell_type": "raw",
   "id": "83535e77",
   "metadata": {},
   "source": [
    "---\n",
    "title: \"Variables, Types, and Operations\"\n",
    "teaching: 10\n",
    "exercises: 2\n",
    "output: \n",
    "  bookdown::html_document2: \n",
    "    keep_md: true\n",
    "---"
   ]
  },
  {
   "cell_type": "markdown",
   "id": "7ebdff05",
   "metadata": {},
   "source": [
    "[**Download Chapter pdf**](02-input_output.md.pdf)\n",
    "\n",
    "[**Download Chapter notebook (ipynb)**](02-input_output.ipynb)\n",
    "\n",
    "[<span style=\"color: rgb(255, 0, 0);\">**Mandatory Lesson Feedback Survey**</span>](https://docs.google.com/forms/d/e/1FAIpQLSdr0capF7jloJhPH3Pki1B3LZoKOG16poOpuVJ7SL2LkwLHQA/viewform?pli=1)"
   ]
  },
  {
   "cell_type": "markdown",
   "id": "7d0cd56a",
   "metadata": {},
   "source": [
    "- What are I/O operations?\n",
    "- What do variables do?\n",
    "- Why types and scopes of variables are important?\n",
    "- What types of operations are used?\n"
   ]
  },
  {
   "cell_type": "markdown",
   "id": "6a55731c",
   "metadata": {},
   "source": [
    "- Understanding the output and input operations\n",
    "- Build concepts of different types of variables\n",
    "- Learning about type conversions and scope\n",
    "- Understanding mathematical and logical operations\n"
   ]
  },
  {
   "cell_type": "markdown",
   "id": "fa91c85d",
   "metadata": {},
   "source": [
    "<p align = \"center\">\n",
    "<iframe width=\"560\" height=\"315\" src=\"https://www.youtube.com/embed/Qr-UBp_AeDA\" title=\"YouTube video player\" frameborder=\"0\" allow=\"accelerometer; autoplay; clipboard-write; encrypted-media; gyroscope; picture-in-picture\" allowfullscreen></iframe>\n",
    "</p>\n",
    "<br>\n",
    "\n",
    "<p align = \"center\">\n",
    "<iframe width=\"560\" height=\"315\" src=\"https://www.youtube.com/embed/rCwBVf4_XjM\" title=\"YouTube video player\" frameborder=\"0\" allow=\"accelerometer; autoplay; clipboard-write; encrypted-media; gyroscope; picture-in-picture\" allowfullscreen></iframe>\n",
    "</p>\n",
    "<br>\n",
    "\n",
    "<p align = \"center\">\n",
    "<iframe width=\"560\" height=\"315\" src=\"https://www.youtube.com/embed/ht6MSOg0JeA\" title=\"YouTube video player\" frameborder=\"0\" allow=\"accelerometer; autoplay; clipboard-write; encrypted-media; gyroscope; picture-in-picture\" allowfullscreen></iframe>\n",
    "</p>\n",
    "<br>\n",
    "\n",
    "<p style='text-align: justify;'> \n",
    "In programming, we process data and produce outputs. When data is being processed, it is stored in a memory, so that it is readily available, and can therefore be subject to the processes we want to apply.\n",
    "</p>"
   ]
  },
  {
   "cell_type": "markdown",
   "id": "ff0d6305",
   "metadata": {},
   "source": [
    "<p style='text-align: justify;'> \n",
    "Throughout this section, we will discuss how to handle data in Python. We start by displaying data on the screen, and see how to receive input from a user. We then use these techniques to perform different mathematical and logical operations. This chapter introduces the fundamental principles that we employ every time we code in Python. On that account, make sure you understand everything before moving on. \n",
    "</p>"
   ]
  },
  {
   "cell_type": "markdown",
   "id": "9cc043e7",
   "metadata": {},
   "source": [
    "## I/O Operations {#operations}\n",
    "<p style='text-align: justify;'> \n",
    "In computer science, input or output operations refer to the communication between an information processing system such as a computer, and the outside world, which may be a user or another computer. Such communications are more commonly known as *I/O operations*. In general, the outside world --- especially in the context of this course, may be loosely defined as anything that falls outside of the coding environment. \n",
    "</p>\n",
    "\n",
    "## REMEMBER\n",
    "<p style='text-align: justify;'>\n",
    "Only what we define within the environment and what we store in the memory is directly controlled by our application. We may access or take control over other environments through certain mediums; however, such interactions are classified as I/O operations. An example of this is interacting with a file on our computer, which we discuss in the topic of [Strings](07-strings.Rmd). Whilst we have complete control over a file while working on it (e.g. reading from it or writing to it), the access to the file and the transmission of data is in fact controlled and managed not by the programming environment but by the operating system of the computer.\n",
    "</p>\n"
   ]
  },
  {
   "cell_type": "markdown",
   "id": "9bdf7e73",
   "metadata": {},
   "source": [
    "In programming, I/O operations include, but are not limited to:\n",
    "\n",
    "* displaying the results of a calculation\n",
    "\n",
    "* require the user to enter a value\n",
    "\n",
    "* writing or reading data to and from a file or a database\n",
    "\n",
    "* downloading data from the Internet\n",
    "\n",
    "* operating a hardware (e.g. a robot)\n"
   ]
  },
  {
   "cell_type": "markdown",
   "id": "62c042fc",
   "metadata": {},
   "source": [
    "## Advanced Topic\n",
    "<p style='text-align: justify;'>\n",
    "If you are interested in learning more about I/O systems and how they are handled at operating system level, you might benefit from chapter 13 of [*Operating Systems Concepts, 10^th^ ed.*](https://os.ecci.ucr.ac.cr/slides/Abraham-Silberschatz-Operating-System-Concepts-10th-2018.pdf) by Abraham Silberschatz, Greg Gagne, and Peter Galvin.\n",
    "</p>"
   ]
  },
  {
   "cell_type": "markdown",
   "id": "9bb04e8d",
   "metadata": {},
   "source": [
    "### **I/O Operations in Python**\n",
    "[**Input and Output**](https://docs.python.org/3/tutorial/inputoutput.html)\n",
    "\n",
    "<p style='text-align: justify;'>\n",
    "In this section, we learn about two fundamental methods of I/O operations in Python. We will be using these methods throughout the course, so it is essential that you feel comfortable with them and the way they work before moving on.\n",
    "</p>"
   ]
  },
  {
   "cell_type": "markdown",
   "id": "14d76e1a",
   "metadata": {},
   "source": [
    "### Producing an output {#sub:ProducingAnOutput}\n",
    "[**Print**](https://docs.python.org/3/library/functions.html\\#print)\n",
    "\n",
    "<p style='text-align: justify;'>\n",
    "The term ```output``` in reference to an application typically refers to data that has either been generated or manipulated by that application.\n",
    "</p>\n",
    "\n",
    "<p style='text-align: justify;'>\n",
    "For example; we have two number and we would like to calculate their sum. The action of calculating the sum is itself a [*mathematical operation*](#math_ops) (discussed in the coming section). The result of our calculation is called an ```output```. Once we obtain the result, we might want to save it in a file or display it on the screen, in which case we will be performing an *I/O operation*.\n",
    "</p>\n",
    "\n",
    "<p style='text-align: justify;'>\n",
    "The simplest and most frequently used method for generating an output in almost every modern programming language is to display something on the screen. We recommend using JupyterLab notebooks to run our scripts and the typical method to produce an output is to display it in cell below the code.To do this, we will call a dedicated built-in function named <kbd>print()</kbd>.\n",
    "</p>"
   ]
  },
  {
   "cell_type": "markdown",
   "id": "f966337e",
   "metadata": {},
   "source": [
    "## REMEMBER\n",
    "\n",
    "<p style='text-align: justify;'>\n",
    "In programming, a ```function``` is essentially an isolated piece of code. It usually to takes some inputs, *does *something to or with them, and produces an ```output```. The pair of (typically round) parenthesis that follow a function are there to provide the function with the *input arguments* it needs when we *call* it, so that it can do what it is supposed to do using our data. We will explore functions in more details in Lesson 4 [Functions](06-functions.Rmd).\n",
    "</p>"
   ]
  },
  {
   "cell_type": "markdown",
   "id": "67dcea3b",
   "metadata": {},
   "source": [
    "<p style='text-align: justify;'>\n",
    "The <kbd>print()</kbd> function can take several inputs and performs different tasks. Its primary objective, however, is to take some values as input and display them on the screen. Here is how it works:\n",
    "</p>\n",
    "\n",
    "Suppose we want to display some text in the terminal. To do so, we write:\n",
    "\n",
    "```\n",
    "print('Hello world!')\n",
    "```\n",
    "<p style='text-align: justify;'>\n",
    "in a cell of our notebook (or, if not using a notebook, an editor or IDE) and save the notebook in a file. This is now a fully functioning Python programme that we can run using the Python interpreter.\n",
    "</p>\n",
    "\n",
    "<p style='text-align: justify;'>\n",
    "If you are using an Integrated Development Environment (IDE) --- e.g.\\ Visual Studio Code, you have to save the code in a file with extension ```.py``` and may then execute your code using the internal tools provided by that IDE. The specifics of how you do so depend on the IDE that you are using.\n",
    "</p>\n",
    "\n",
    "<p style='text-align: justify;'>\n",
    "```.py``` Python scripts can also be executed manually. To do so, we open the terminal in MacOS or Linux or the command prompt (CMD) in Windows and navigate to the directory where we saved the script. \n",
    "</p>\n",
    "\n",
    "\n",
    "## NOTE\n",
    "<p style='text-align: justify;'>\n",
    "If you don't know how to navigate in the terminal, see the example in section [How to use terminal environment?](#terminal) at the end of this chapter.\n",
    "</p>\n",
    "\n",
    "\n",
    "Once in the correct directory, we run a script called ```script_a.py``` by typing ```python3 script_a.py``` in our terminal as follows:\n",
    "\n",
    "\n",
    "```bash\n",
    "python3 script_a.py\n",
    "```\n",
    "\n",
    "```{.output}\n",
    "Hello world!\n",
    "```\n",
    "\n",
    "<p style='text-align: justify;'>\n",
    "This will call the Python 3 interpreter to execute the code we wrote in ```script_a.py```. Once executed, which in this case should be instantaneously, we should see the output.\n",
    "</p>\n",
    "\n",
    "<p style='text-align: justify;'>\n",
    "In a JupyterLab notebook we can press the keyboard shortcut 'shift-enter' to execute the code in a cell. The output will be displayed below the code cell.\n",
    "</p>\n",
    "\n",
    "<p style='text-align: justify;'>\n",
    "**Congratulations** you have now successfully written and executed your first programme in Python.\n",
    "</p>"
   ]
  },
  {
   "cell_type": "markdown",
   "id": "6389a198",
   "metadata": {},
   "source": [
    "## REMEMBER\n",
    "\n",
    "<p style='text-align: justify;'>\n",
    "We know <kbd>print()</kbd> is a *function* because it ends with a pair of parenthesis, and it is written entirely in lowercase characters [PEP-8: Function Names](https://www.python.org/dev/peps/pep-0008/#function-names). Some IDEs change color when they encounter built-in functions in the code so that we won't accidentally overwrite them. We shall discuss *functions* in more details in Lesson 4 [Functions](06-functions.Rmd).\n",
    "</p>\n"
   ]
  },
  {
   "cell_type": "markdown",
   "id": "e3e2d045",
   "metadata": {},
   "source": [
    "<p style='text-align: justify;'>\n",
    "We can pass more than a single value to the <kbd>print()</kbd> function, provided that they are separated with a comma. For instance, if we write the code below and run the script, the results would be as shown in *output*.\n",
    "</p>\n"
   ]
  },
  {
   "cell_type": "code",
   "execution_count": null,
   "id": "ed93f03d",
   "metadata": {},
   "outputs": [],
   "source": [
    "print('Hello', 'John')"
   ]
  },
  {
   "cell_type": "markdown",
   "id": "1f82ef17",
   "metadata": {},
   "source": [
    "```{.output}\n",
    "Hello John\n",
    "```\n",
    "\n",
    "<p style='text-align: justify;'>\n",
    "Notice that there is a space between <span style=\"color: rgb(32, 121, 77);\">'Hello'</span> and <span style=\"color: rgb(32, 121, 77);\">'John'</span> even though we did not include a space in our text. This is the default behaviour of the <kbd>print()</kbd> function when it receives more than a single value (argument).\n",
    "</p>\n",
    "\n",
    "This default behaviour may be changed:\n"
   ]
  },
  {
   "cell_type": "code",
   "execution_count": null,
   "id": "ab6a0a86",
   "metadata": {},
   "outputs": [],
   "source": [
    "print('Hello', 'John', sep='')"
   ]
  },
  {
   "cell_type": "markdown",
   "id": "446929e1",
   "metadata": {},
   "source": [
    "```{.output}\n",
    "HelloJohn\n",
    "```\n"
   ]
  },
  {
   "cell_type": "code",
   "execution_count": null,
   "id": "5fe594f5",
   "metadata": {},
   "outputs": [],
   "source": [
    "print('Hello', 'John', sep='--')"
   ]
  },
  {
   "cell_type": "markdown",
   "id": "7d0d01b5",
   "metadata": {},
   "source": [
    "```{.output}\n",
    "Hello--John\n",
    "```\n"
   ]
  },
  {
   "cell_type": "code",
   "execution_count": null,
   "id": "ff09cc8a",
   "metadata": {},
   "outputs": [],
   "source": [
    "print('Jane', 21, 'London', sep='.')"
   ]
  },
  {
   "cell_type": "markdown",
   "id": "9ef0f193",
   "metadata": {},
   "source": [
    "```{.output}\n",
    "Jane.21.London\n",
    "```\n"
   ]
  },
  {
   "cell_type": "markdown",
   "id": "3c2b9d38",
   "metadata": {},
   "source": [
    "![Explanation of a function call](fig/functionCall.png)"
   ]
  },
  {
   "cell_type": "markdown",
   "id": "19be4d9a",
   "metadata": {},
   "source": [
    "## Do it Yourself\n",
    "\n",
    "Write code that displays the following output:\n",
    "\n",
    ">**Protein Kinase C (Alpha subunit)**\n",
    "\t"
   ]
  },
  {
   "cell_type": "markdown",
   "id": "c7ec550d",
   "metadata": {},
   "source": [
    "## DIY ANSWER\n"
   ]
  },
  {
   "cell_type": "code",
   "execution_count": null,
   "id": "36325f2e",
   "metadata": {},
   "outputs": [],
   "source": [
    "print('Protein Kinase C (Alpha subunit)')"
   ]
  },
  {
   "cell_type": "markdown",
   "id": "1cc794e2",
   "metadata": {},
   "source": [
    "```{.output}\n",
    "Protein Kinase C (Alpha subunit)\n",
    "```\n"
   ]
  },
  {
   "cell_type": "markdown",
   "id": "9165ecfc",
   "metadata": {},
   "source": [
    "![Terminal window on a Linux computer](fig/prompt.png){#fig:terLinux}\n",
    "\n",
    "![Terminal window on a Mac](fig/MacPrompt.png){#fig:terMac}\n",
    "\n",
    "### Receiving an input\n",
    "[**Input**](https://docs.python.org/3/library/functions.html\\#input)\n",
    "\n",
    "<p style='text-align: justify;'>\n",
    "Inputs are I/O operations that involve receiving some data from the outside world. This might include reading the contents of a file, downloading something from the Internet, or asking the user to enter a value.\n",
    "</p>\n",
    "\n",
    "<p style='text-align: justify;'>\n",
    "The simplest way to acquire an input is to ask the user to enter a value in the terminal. To do so, we use a dedicated built-in function called <kbd>input()</kbd>. \n",
    "</p>\n",
    "\n",
    "## Note \n",
    "In a Unix system (Mac OS or Linux), a tilde (~) is an alias for a user's home directory.\n",
    "\n",
    "<p style='text-align: justify;'>\n",
    "The function takes a single *argument* called ```prompt```. Prompt is the text displayed in the terminal to ask the user for an input. Figure [Terminal window on a Linux computer](#fig:terLinux) and [Terminal window on a Mac](#fig:terMac), illustrates a screen shot of my personal computer's prompt, where it displays my user name (i.e. ```pouria```) followed by a tilde (~). A terminal prompt may be different in each computer and operating system.\n",
    "</p>\n",
    "\n",
    "Here is how we implement the <kbd>input()</kbd> function:\n",
    "\n",
    "```\n",
    "input('Please enter your name: ')\n",
    "```\n",
    "\n",
    "which is exactly the same as:\n",
    "\n",
    "```\n",
    "input(prompt='Please enter your name: ')\n",
    "```\n",
    "\n",
    "If we save one of the above in a notebook and execute it, we will see:"
   ]
  },
  {
   "cell_type": "markdown",
   "id": "9e812615",
   "metadata": {},
   "source": [
    "```\n",
    "python3 script_b.py\n",
    "\n",
    "Please enter your name: _\n",
    "```\n",
    "\n",
    "<p style='text-align: justify;'>\n",
    "The terminal cursor, displayed as an underscore in our example, will be in front of the prompt (i.e. ```'Please enter your name: '```) waiting for a response. Once it receives a response, it will proceed to run the rest of the code (if any), or terminate the execution.\n",
    "</p>\n",
    "\n",
    "<p style='text-align: justify;'>\n",
    "We may store the user's response in a variable. Variables are the topic of the next section, where we shall also review more examples on <kbd>input()</kbd> and how we can use it to produce results based on the responses we receive from the user.\n",
    "</p>\n",
    "\n"
   ]
  },
  {
   "cell_type": "markdown",
   "id": "c19f218d",
   "metadata": {},
   "source": [
    "## Remember\n",
    "<p style='text-align: justify;'>\n",
    "Python is an interpreted language; that is, the code we write is executed by the Python interpreter one line at a time. The <kbd>input()</kbd> function performs a *blocking* process. This means that the execution of the code by the Python interpreter is halted upon encountering an <kbd>input()</kbd> function until the user enters a value. Once a value is entered, the interpreter then proceeds to execute the next line.\n",
    "</p>"
   ]
  },
  {
   "cell_type": "markdown",
   "id": "682246b0",
   "metadata": {},
   "source": [
    "## Do it Yourself \n",
    "\t\n",
    "Write a script that asks the user to enter the name of a protein in the terminal.\n",
    "\n",
    "## DIY ANSWER\n",
    "\n",
    "```\n",
    "input('Please enter the name of a protein: ')\n",
    "```"
   ]
  },
  {
   "cell_type": "markdown",
   "id": "a094617a",
   "metadata": {},
   "source": [
    "## Variables And Types {#varTypes}\n",
    "\n",
    "<p style='text-align: justify;'>\n",
    "We use variables to store data in the memory. Each variable has 3 characteristics: *scope*, *name*, and *type*. *Scope* and *name* must be mutually unique. Starting with *name*, we will discuss each of these characteristics in more details throughout this chapter. \n",
    "</p>\n",
    "\n",
    "### **Variable names** {#subsec:variableNames}\n",
    "[**PEP--8 Naming Conventions**](https://www.python.org/dev/peps/pep-0008/\\#naming-conventions)\n",
    "\n",
    "<p style='text-align: justify;'>\n",
    "Name of a variable is in fact an alias for a location in the memory. You can think of it as a postbox, which is used as a substitute for an address. Similarly, we use variable names so we wouldn't have to use the actual address to the location we want in the memory because it would look something like ```0x106fb8348```.\n",
    "</p>\n",
    "\n",
    "There are some relatively simple rules to follow when defining variable names, which ultimately boil down to:\n",
    "\n",
    "![](fig/variable_table.png)"
   ]
  },
  {
   "cell_type": "markdown",
   "id": "7fbf3fd8",
   "metadata": {},
   "source": [
    "## Remember\n",
    "<p style='text-align: justify;'>\n",
    "We should never overwrite an existing, built-in definition or identifier (e.g. ```int``` or  ```print```). We will be learning many such definitions and identifiers as we progress through this course. Nonetheless, the Jupyterlab notebook as well as any good IDE highlights syntaxes and built-in identifiers in different colours. In JupyterLab the default for built-in definitions is green. The exact colouring scheme depends on the IDE and the theme.\n",
    "</p>"
   ]
  },
  {
   "cell_type": "markdown",
   "id": "eadff2d3",
   "metadata": {},
   "source": [
    "Once a variable is defined, its value may be altered or reset:\n"
   ]
  },
  {
   "cell_type": "code",
   "execution_count": null,
   "id": "cb9232e8",
   "metadata": {},
   "outputs": [],
   "source": [
    "total_items = 2\n",
    "print(total_items)"
   ]
  },
  {
   "cell_type": "markdown",
   "id": "361c6bee",
   "metadata": {},
   "source": [
    "```{.output}\n",
    "2\n",
    "```\n",
    "\n",
    "Variables containing integer numbers are known as ```int```, and those containing decimal numbers are known as ```float``` in Python. \n"
   ]
  },
  {
   "cell_type": "code",
   "execution_count": null,
   "id": "a4e68847",
   "metadata": {},
   "outputs": [],
   "source": [
    "total_items = 3\n",
    "print(total_items)"
   ]
  },
  {
   "cell_type": "markdown",
   "id": "9a9bf77a",
   "metadata": {},
   "source": [
    "```{.output}\n",
    "3\n",
    "```\n"
   ]
  },
  {
   "cell_type": "code",
   "execution_count": null,
   "id": "4ad7243d",
   "metadata": {},
   "outputs": [],
   "source": [
    "total_values = 3.2\n",
    "print(total_values)"
   ]
  },
  {
   "cell_type": "markdown",
   "id": "255ab4bc",
   "metadata": {},
   "source": [
    "```{.output}\n",
    "3.2\n",
    "```\n"
   ]
  },
  {
   "cell_type": "code",
   "execution_count": null,
   "id": "f265a6fb",
   "metadata": {},
   "outputs": [],
   "source": [
    "temperature = 16.\n",
    "print(temperature)"
   ]
  },
  {
   "cell_type": "markdown",
   "id": "b9aecc63",
   "metadata": {},
   "source": [
    "```{.output}\n",
    "16.0\n",
    "```\n",
    "\n",
    "<p style='text-align: justify;'>\n",
    "Variables can contain characters as well; but to prevent Python from confusing them with meaningful commands, we use  quotation marks. So long as we remain consistent, it doesn't matter whether we use single or double quotations. These variables are known as ```string``` or  ```str```:\n",
    "</p>\n"
   ]
  },
  {
   "cell_type": "code",
   "execution_count": null,
   "id": "b357c388",
   "metadata": {},
   "outputs": [],
   "source": [
    "forename = 'John'\n",
    "surname = \"Doe\"\n",
    "\n",
    "\n",
    "print('Hi,', forename, surname)"
   ]
  },
  {
   "cell_type": "markdown",
   "id": "9e02d46b",
   "metadata": {},
   "source": [
    "```{.output}\n",
    "Hi, John Doe\n",
    "```\n"
   ]
  },
  {
   "cell_type": "markdown",
   "id": "71eaf7e7",
   "metadata": {},
   "source": [
    "## Do it Yourself {#diy:enzyme}\n",
    "<p style='text-align: justify;'>\n",
    "Oxidised low-density lipoprotein (LDL) receptor 1 mediates the recognition, internalisation and degradation of oxidatively modified low density lipoprotein by vascular endothelial cells. Using the [Universal Protein Resource](https://beta.uniprot.org) (UniProt) website, find this protein for humans, and identify:\n",
    "</p>\n",
    "\n",
    "* UniProt entry number.\n",
    "* Length of the protein (right at the top).\n",
    "* Gene name (right at the top). \n",
    "\n",
    "Store the information you retrieved, including the protein name, in 4 separate variables. \n",
    "\t\n",
    "Display the values of these 4 variables in *one* line, and separate the items with 3 spaces, as follows:\n",
    "\t\n",
    "> ```Name   EntryNo   GeneName   Length```"
   ]
  },
  {
   "cell_type": "markdown",
   "id": "814b0c0b",
   "metadata": {},
   "source": [
    "## DIY ANSWER \n",
    "\t"
   ]
  },
  {
   "cell_type": "code",
   "execution_count": null,
   "id": "8e6f684e",
   "metadata": {},
   "outputs": [],
   "source": [
    "name = 'Oxidised low-density lipoprotein (LDL) receptor 1'\n",
    "\n",
    "uniprot_entry = 'P78380'\n",
    "\t\t\n",
    "gene_name = 'OLR1'\n",
    "\t\t\n",
    "length = 273\n",
    "\t\t\n",
    "print(name, uniprot_entry, gene_name, length, sep='   ')"
   ]
  },
  {
   "cell_type": "markdown",
   "id": "8b22b05a",
   "metadata": {},
   "source": [
    "```{.output}\n",
    "Oxidised low-density lipoprotein (LDL) receptor 1   P78380   OLR1   273\n",
    "```\n",
    "\n"
   ]
  },
  {
   "cell_type": "markdown",
   "id": "807459ef",
   "metadata": {},
   "source": [
    "## Do it Yourself \n",
    "1. Write a script that upon execution, asks the user to enter the name of an enzyme and then retains the response in an appropriately named variable.\n",
    "\t\t\n",
    "2. Use the variable to display an output similar to the following:\n",
    "\n",
    "```ENZYME_NAME is an enzyme.```\n",
    "\t\t\n",
    "where ```ENZYME_NAME``` is the name of the enzyme entered in the prompt.\n",
    "\t\t\n",
    "3. Now alter your script to ask the user to enter the number of amino acids in that enzyme. Retain the value in another appropriately named variable. \n",
    "\t\t\n",
    "4. Alter the output of your script to display a report in the following format:\n",
    "\n",
    "```ENZYME_NAME is an enzyme containing a total number of AMINO_ACIDS} amino acids.```\n",
    "\n",
    "where ```AMINO_ACIDS``` is the number of amino acids.\n",
    "\n",
    "\n",
    "## DIY ANSWER\n",
    "\n",
    "```\t\n",
    "enzyme = input('Please enter the name of an enzyme: ')\n",
    "\t\t\n",
    "print(enzyme, 'is an enzyme.')\n",
    "\t\t\n",
    "length = input('How many amino acids does the enzyme contain? ')\n",
    "\t\t\n",
    "print(enzyme, 'is an enzyme containing a total number of', length, 'amino acids.')\n",
    "\n",
    "```\n",
    "\n",
    "\n",
    "\n",
    "\n",
    "### **Variable Types** {#sec:varTyp}\n",
    "[**Built-in Types**](https://docs.python.org/3/library/stdtypes.html)\n",
    "\n",
    "When it comes to types, programming languages may be divided into two distinct categories:\n",
    "\n",
    "## Types\n",
    "\n",
    "- [x] **Statically typed**        language that require the programmer to define the type for every variable (statically typed).\n",
    "\n",
    "- [x] **Dynamically typed**       languages that define and maintain the types on the fly.\n",
    "\n",
    "<p style='text-align: justify;'>\n",
    "Python is a dynamically typed language. This means that, unlike statically typed languages, we rarely need to worry about the *type* definitions because in the majority of cases, Python takes care of them for us. \n",
    "</p>\n",
    "\n",
    "\n",
    "\n",
    "## Remember\n",
    "<p style='text-align: justify;'>\n",
    "In a dynamically typed language, it is the value of a variable that determines the type. This is because the types are determined on the fly by the Python interpreter as and when it encounters different variables and values.\n",
    "</p>\n",
    "\n",
    "\n",
    "## Advanced Topic\n",
    "<p style='text-align: justify;'>\n",
    "In computer programming, type systems are syntactic methods to enforce and / or identify levels of abstraction. An entire field in computer science has been dedicated to the study of programming languages from a type--theoretic approach. This is primarily due to the implication of types and their underlying principles in such areas in software engineering as optimisation and security. To learn more about the study of type systems, refer to: Pierce B. Types and programming languages. Cambridge, Mass.: MIT Press; 2002.\n",
    "</p>\n",
    "\n",
    "\n",
    "## Note\n",
    "<p style='text-align: justify;'>\n",
    "The values determine the type of a variable in dynamically typed languages. This is in contrast with statically typed languages where a variable must be initialised using a specific type before a value --- whose type is consistent with the initialised variable, can be assigned to it.\n",
    "</p>\n",
    "\n",
    "\n",
    "\t\n",
    "\n",
    "#### **Why learn about *types* in a dynamically typed programming language?**\n",
    "<p style='text-align: justify;'>\n",
    "</p>\n",
    "\n",
    "<p style='text-align: justify;'>\n",
    "Python enjoys a powerful type system out of the box. Table [Built-in types in Python](#tb:types:nativeTypes) provides a comprehensive reference for the built-in types in Python. Built-in types are the types that exist in the language and do not require any third party libraries to implement or use. \n",
    "</p>\n",
    "\n",
    "![A comprehensive (but non-exhaustive) reference of built-in (native) types in Python 3.<br> ^\\*^ Not discussed in this course --- included for reference only. <br> ^$^ ```dict``` is not an iterable by default, however, it is possible to iterate through its keys. <br> <br>**Mutability** is an important [concept in programming](https://en.wikipedia.org/wiki/Immutable_object). A mutable object is an object whose value(s) may be altered. This will become clearer once we study ```list``` and ```tuple```. Find out more about mutability in Python from the [documentations}](https://docs.python.org/3.6/reference/datamodel.html). <br> <br>**Complex numbers** refer to a [set of numbers](http://thinkzone.wlonk.com/Numbers/NumberSets.htm) that have a real part, and an imaginary part; where the imaginary part is defined as $\\sqrt{-1}$. These numbers are very useful in the study of oscillatory behaviours and flow (e.g. heat, fluid, electricity). To learn more about complex numbers, watch this [Khan Academy video tutorial](https://www.khanacademy.org/math/algebra2/introduction-to-complex-numbers-algebra-2/the-complex-numbers-algebra-2/v/complex-number-intro). ](fig/python_built-in_types.png){#tb:types:nativeTypes}\n",
    "\n",
    " \n",
    "Sometimes we might need want to know what is the type of a variable. To do so, we use the build-in function <kbd>type()</kbd> as follows:\n",
    "\n",
    "\n",
    "```python\n",
    "total_items = 2\n",
    "\t\t\n",
    "print(type(total_items))\n",
    "```\n",
    "\n",
    "```{.output}\n",
    "<class 'int'>\n",
    "```\n"
   ]
  },
  {
   "cell_type": "code",
   "execution_count": null,
   "id": "8dbb182f",
   "metadata": {},
   "outputs": [],
   "source": [
    "total_values = 3.2\n",
    "\t\t\n",
    "print(type(total_values))"
   ]
  },
  {
   "cell_type": "markdown",
   "id": "5a50629d",
   "metadata": {},
   "source": [
    "```{.output}\n",
    "<class 'float'>\n",
    "```\n"
   ]
  },
  {
   "cell_type": "code",
   "execution_count": null,
   "id": "25bf1d8c",
   "metadata": {},
   "outputs": [],
   "source": [
    "temperature = 16.\n",
    "\t\t\n",
    "print(type(temperature))"
   ]
  },
  {
   "cell_type": "markdown",
   "id": "573e856e",
   "metadata": {},
   "source": [
    "```{.output}\n",
    "<class 'float'>\n",
    "```\n"
   ]
  },
  {
   "cell_type": "code",
   "execution_count": null,
   "id": "9360d54e",
   "metadata": {},
   "outputs": [],
   "source": [
    "phase = 12.5+1.5j\n",
    "\t\t\n",
    "print(type(phase))"
   ]
  },
  {
   "cell_type": "markdown",
   "id": "ad4c1a70",
   "metadata": {},
   "source": [
    "```{.output}\n",
    "<class 'complex'>\n",
    "```\n"
   ]
  },
  {
   "cell_type": "code",
   "execution_count": null,
   "id": "79935ac4",
   "metadata": {},
   "outputs": [],
   "source": [
    "full_name = 'John Doe'\n",
    "\n",
    "print(type(full_name))"
   ]
  },
  {
   "cell_type": "markdown",
   "id": "9ae573fa",
   "metadata": {},
   "source": [
    "```{.output}\n",
    "<class 'str'>\n",
    "```\n",
    "\t\n",
    "## Remember\n",
    "<p style='text-align: justify;'>\n",
    "In Python, a variable / value of a certain type may be referred to as an *instance* of that type. For instance, an integer value whose type in Python is defined as *int* is said to be an **instance of type** ```int```.\n",
    "</p>\n"
   ]
  },
  {
   "cell_type": "markdown",
   "id": "d6ddb219",
   "metadata": {},
   "source": [
    "## Do it Yourself \n",
    "Determine and display the type for each of these values:\n",
    "\n",
    "* 32\n",
    "* 24.3454\n",
    "* 2.5 + 1.5\n",
    "* \"RNA Polymerase III\"\n",
    "* 0\n",
    "* .5 - 1\n",
    "* 1.3e-5\n",
    "* 3e5\n",
    "\n",
    "The result for each value should be represented in the following format:\n",
    "\n",
    "```Value X is an instance of <class 'Y'>```\n",
    "\n",
    "\n",
    "## DIY ANSWER \n",
    "\n",
    "\n",
    "```python\n",
    "value = 32\n",
    "\n",
    "value_type = type(value)\n",
    "\n",
    "print('Value', value, 'is an instance of', value_type)\n",
    "```\n",
    "\n",
    "```{.output}\n",
    "Value 32 is an instance of <class 'int'>\n",
    "```\n"
   ]
  },
  {
   "cell_type": "code",
   "execution_count": null,
   "id": "db40c768",
   "metadata": {},
   "outputs": [],
   "source": [
    "value = 24.3454\n",
    "\n",
    "value_type = type(value)\n",
    "\n",
    "print('Value', value, 'is an instance of', value_type)"
   ]
  },
  {
   "cell_type": "markdown",
   "id": "88f3e725",
   "metadata": {},
   "source": [
    "```{.output}\n",
    "Value 24.3454 is an instance of <class 'float'>\n",
    "```\n"
   ]
  },
  {
   "cell_type": "code",
   "execution_count": null,
   "id": "17654bd3",
   "metadata": {},
   "outputs": [],
   "source": [
    "value = 2.5 + 1.5\n",
    "\n",
    "value_type = type(value)\n",
    "\n",
    "print('Value', value, 'is an instance of', value_type)"
   ]
  },
  {
   "cell_type": "markdown",
   "id": "9cce20d0",
   "metadata": {},
   "source": [
    "```{.output}\n",
    "Value 4.0 is an instance of <class 'float'>\n",
    "```\n"
   ]
  },
  {
   "cell_type": "code",
   "execution_count": null,
   "id": "2b1b3341",
   "metadata": {},
   "outputs": [],
   "source": [
    "value = \"RNA Polymerase III\"\n",
    "\n",
    "value_type = type(value)\n",
    "\n",
    "print('Value', value, 'is an instance of', value_type)"
   ]
  },
  {
   "cell_type": "markdown",
   "id": "4fa58288",
   "metadata": {},
   "source": [
    "```{.output}\n",
    "Value RNA Polymerase III is an instance of <class 'str'>\n",
    "```\n"
   ]
  },
  {
   "cell_type": "code",
   "execution_count": null,
   "id": "f10dd873",
   "metadata": {},
   "outputs": [],
   "source": [
    "value = 0\n",
    "\n",
    "value_type = type(value)\n",
    "\n",
    "print('Value', value, 'is an instance of', value_type)"
   ]
  },
  {
   "cell_type": "markdown",
   "id": "683920ba",
   "metadata": {},
   "source": [
    "```{.output}\n",
    "Value 0 is an instance of <class 'int'>\n",
    "```\n",
    "\n"
   ]
  },
  {
   "cell_type": "code",
   "execution_count": null,
   "id": "7a5ecd52",
   "metadata": {},
   "outputs": [],
   "source": [
    "value = .5 - 1\n",
    "\n",
    "value_type = type(value)\n",
    "\n",
    "print('Value', value, 'is an instance of', value_type)\n",
    "\t\t\t"
   ]
  },
  {
   "cell_type": "markdown",
   "id": "5eb6a1ae",
   "metadata": {},
   "source": [
    "```{.output}\n",
    "Value -0.5 is an instance of <class 'float'>\n",
    "```\n"
   ]
  },
  {
   "cell_type": "code",
   "execution_count": null,
   "id": "644acfa0",
   "metadata": {},
   "outputs": [],
   "source": [
    "value = 1.3e-5\n",
    "\n",
    "value_type = type(value)\n",
    "\n",
    "print('Value', value, 'is an instance of', value_type)"
   ]
  },
  {
   "cell_type": "markdown",
   "id": "d55e53ca",
   "metadata": {},
   "source": [
    "```{.output}\n",
    "Value 1.3e-05 is an instance of <class 'float'>\n",
    "```\n"
   ]
  },
  {
   "cell_type": "code",
   "execution_count": null,
   "id": "9b7bfe78",
   "metadata": {},
   "outputs": [],
   "source": [
    "value = 3e5\n",
    "\n",
    "value_type = type(value)\n",
    "\n",
    "print('Value', value, 'is an instance of', value_type)"
   ]
  },
  {
   "cell_type": "markdown",
   "id": "b124cee3",
   "metadata": {},
   "source": [
    "```{.output}\n",
    "Value 300000.0 is an instance of <class 'float'>\n",
    "```\n",
    "\n"
   ]
  },
  {
   "cell_type": "markdown",
   "id": "c2ba7b0a",
   "metadata": {},
   "source": [
    "### **Conversion of types** {#sec:conversionType}"
   ]
  },
  {
   "cell_type": "markdown",
   "id": "a0652d9b",
   "metadata": {},
   "source": [
    "## Why convert types?\n",
    "<p style='text-align: justify;'>\n",
    "It is sometimes necessary to have the values returned by the <kbd>input()</kbd> function --- *i.e*. the user's response, in other types. Imagine the following scenario:\n",
    "</p>\n",
    "\n",
    "<p style='text-align: justify;'>\n",
    "<span style=\"color: rgb(32, 121, 77);\">\t\n",
    "\"We ask our user to enter the total volume of their purified protein, so that we can work out the amount of assay they need to conduct a specific experiment. To calculate this assay volume using the volume of the purified protein, we need to perform mathematical calculations based on the response we receive from our user. It is not possible to perform mathematical operations on non-numeric values. Therefore, we ought to somehow convert the type from ```str``` to a numeric type.\" \n",
    "</span>\n",
    "</p>\n",
    "\n",
    "<p style='text-align: justify;'>\n",
    "The possibility of converting from one type to another depends entirely on the *value*, the *source type*, and the *target type*. For instance; we can convert an instance of type ```str``` (source type) to one of type ```int``` (target type) if and only if the source value consists entirely of numbers and there are *no* other characters.\n",
    "</p>\n"
   ]
  },
  {
   "cell_type": "markdown",
   "id": "102cc6d4",
   "metadata": {},
   "source": [
    "## Remember\n",
    "<p style='text-align: justify;'>\n",
    "To convert a variable from one type to another, we use the *Type Name* of the target type (as described in Table [Built-in types in Python](#tb:types:nativeTypes) and treat it as a function. \n",
    "</p>\n",
    "\n",
    "For instance, to convert a variable to integer, we:\n",
    "\n",
    "* look up the *Type Name* for integer from Table [Built-in types in Python](#tb:types:nativeTypes)\n",
    "* then treat the *Type Name* as a function: ```int()```\n",
    "* use the function to convert our variable: new_var = ```int```(old_var)"
   ]
  },
  {
   "cell_type": "markdown",
   "id": "d921d204",
   "metadata": {},
   "source": [
    "Here is an example of how we convert types in Python:\n"
   ]
  },
  {
   "cell_type": "code",
   "execution_count": null,
   "id": "120530ad",
   "metadata": {},
   "outputs": [],
   "source": [
    "value_a = '12'\n",
    "\t\t\n",
    "print(value_a, type(value_a))"
   ]
  },
  {
   "cell_type": "markdown",
   "id": "9e973dac",
   "metadata": {},
   "source": [
    "```{.output}\n",
    "12 <class 'str'>\n",
    "```\n"
   ]
  },
  {
   "cell_type": "code",
   "execution_count": null,
   "id": "789bce40",
   "metadata": {},
   "outputs": [],
   "source": [
    "value_b = int(value_a)\n",
    "\t\t\n",
    "print(value_b, type(value_b))\t"
   ]
  },
  {
   "cell_type": "markdown",
   "id": "aec4d293",
   "metadata": {},
   "source": [
    "```{.output}\n",
    "12 <class 'int'>\n",
    "```\n",
    "\n",
    "If we attempt to convert a variable that contains non-numeric values, a ```ValueError``` is raised:\n",
    "\t"
   ]
  },
  {
   "cell_type": "code",
   "execution_count": null,
   "id": "a116eca3",
   "metadata": {},
   "outputs": [],
   "source": [
    "value_a = '12y'\n",
    "\t\t\n",
    "print(value_a, type(value_a))"
   ]
  },
  {
   "cell_type": "markdown",
   "id": "a7c0051a",
   "metadata": {},
   "source": [
    "```{.output}\n",
    "12y <class 'str'>\n",
    "```\n",
    "\t"
   ]
  },
  {
   "cell_type": "code",
   "execution_count": null,
   "id": "af84e357",
   "metadata": {},
   "outputs": [],
   "source": [
    "value_b = int(value_a)"
   ]
  },
  {
   "cell_type": "markdown",
   "id": "be0077f4",
   "metadata": {},
   "source": [
    "```{.error}\n",
    "Error in py_call_impl(callable, dots$args, dots$keywords): ValueError: invalid literal for int() with base 10: '12y'\n",
    "\n",
    "Detailed traceback:\n",
    "  File \"<string>\", line 1, in <module>\n",
    "```"
   ]
  },
  {
   "cell_type": "markdown",
   "id": "1e600562",
   "metadata": {},
   "source": [
    "## Do it Yourself \t\t\t\n",
    "<p style='text-align: justify;'>\n",
    "In programming, we routinely face errors resulting from different mistakes. The process of finding and correcting such mistakes in the code is referred to as *debugging*.\n",
    "</p>\n",
    "\n",
    "We have been given the following snippet written in Python 3: \n",
    "```\n",
    "value_a = 3\n",
    "value_b = '2'\n",
    "\t\t\t\n",
    "result = value_a + value_b\n",
    "print(value_a, '+', value_b, '=', result)\n",
    "```\n",
    "but when the code is executed, we encounter an error message as follows:\n",
    "\n",
    "```\n",
    "Traceback (most recent call last):\n",
    "File \"<stdin>\", line 1, in <module>\n",
    "TypeError: unsupported operand type(s) for +: 'int' and 'str'\n",
    "```\n",
    "\n",
    "Debug the snippet so that the correct result is displayed:"
   ]
  },
  {
   "cell_type": "markdown",
   "id": "03ba2e6c",
   "metadata": {},
   "source": [
    "> ```3 + 2 = 5```\n",
    "\n"
   ]
  },
  {
   "cell_type": "markdown",
   "id": "d42eadfd",
   "metadata": {},
   "source": [
    "## DIY ANSWER \n"
   ]
  },
  {
   "cell_type": "code",
   "execution_count": null,
   "id": "2f57b2dd",
   "metadata": {},
   "outputs": [],
   "source": [
    "value_a = 3\n",
    "\n",
    "value_b = '2'\n",
    "\n",
    "result = value_a + int(value_b)\n",
    "\t\t\t\n",
    "print(value_a, '+', value_b, '=', result)"
   ]
  },
  {
   "cell_type": "markdown",
   "id": "ef07308b",
   "metadata": {},
   "source": [
    "```{.output}\n",
    "3 + 2 = 5\n",
    "```"
   ]
  },
  {
   "cell_type": "markdown",
   "id": "cba48aff",
   "metadata": {},
   "source": [
    "### **Handling input variables**\n",
    "<p style='text-align: justify;'>\n",
    "When we use <kbd>input()</kbd> to obtain a value from the user, the results are by default an instance of type ```str```. An <kbd>input()</kbd> function always stores the response as a ```str``` value, no matter what the user enters. However, it is possible to convert the type afterwards.\n",
    "\n"
   ]
  },
  {
   "cell_type": "markdown",
   "id": "ce6ce4aa",
   "metadata": {},
   "source": [
    "## Remember\n",
    "<p style='text-align: justify;'>\n",
    "The <kbd>input()</kbd> function *always* returns a value of type ```str``` regardless of the user's response. In other words, if a user's response to an <kbd>input()</kbd> request is numeric, Python will *not* automatically recognise it as a numeric type. \n",
    "</p>"
   ]
  },
  {
   "cell_type": "markdown",
   "id": "1c2e1bd4",
   "metadata": {},
   "source": [
    "We may use *type conversion* in conjunction with the values returned by the <kbd>input()</kbd> function:\t\n",
    "\n",
    "```\n",
    "response = input('Please enter a numeric value: ')\n",
    "\t\t\n",
    "response_numeric = float(response)\n",
    "\t\t\n",
    "print('response:', response)\n",
    "print('response type:', type(response))\n",
    "print('response_numeric:', response_numeric)\n",
    "print('response_numeric type:', type(response_numeric))\n",
    "```\n",
    "\t\n",
    "<p style='text-align: justify;'>\n",
    "The output shows the results when we enter numeric values as directed. \n",
    "</p>\t"
   ]
  },
  {
   "cell_type": "markdown",
   "id": "a95f54c8",
   "metadata": {},
   "source": [
    "## Do it Yourself \n",
    "<p style='text-align: justify;'>\n",
    "We know that each amino acid in a protein is encoded by a triplet of mRNA nucleotides.\n",
    "</p>\n",
    "\n",
    "<p style='text-align: justify;'>\n",
    "With that in mind, alter the script you wrote for [Do it Yourself](#diy:enzyme) and use the number of amino acids entered by the user to calculate the number of mRNA nucleotides.\n",
    "</p>\n",
    "\n",
    "Display the results in the following format:\n",
    "\n",
    "> ```ENZYME_NAME is an enzyme with AMINO_ACIDS amino acids and NUCLEOTIDES nucleotides.```\n",
    "\n",
    "where ```NUCLEOTIDES``` is the total number of mRNA nucleotides that you calculated.\n",
    "\t\t\n",
    "**Note:** Multiplication is represented using the asterisk (```*```) sign."
   ]
  },
  {
   "cell_type": "markdown",
   "id": "c609022e",
   "metadata": {},
   "source": [
    "## DIY ANSWER \n",
    "\n",
    "```\n",
    "enzyme = input('Please enter the name of an enzyme: ')\n",
    "\n",
    "length = input('How many amino acids does the enzyme contain? ')\n",
    "\n",
    "nucleotides = 3 * int(length)\n",
    "\t\t\t\n",
    "print(enzyme, 'is an enzyme with', length, 'amino acids and',  nucleotides, 'nucleotides.')\n",
    "\n",
    "```\n"
   ]
  },
  {
   "cell_type": "markdown",
   "id": "8bf98f71",
   "metadata": {},
   "source": [
    "### **Variable scopes**\n",
    "[**Resolution of names**](https://docs.python.org/3.6/reference/executionmodel.html\\#resolution-of-names)\n",
    "<p style='text-align: justify;'>\n",
    "When defining a variable, we should always consider where in our programme we intent to use it. The more localised our variables, the better. This is because local variables are easier to distinguish, and thus reduce the chance of making mistakes --- e.g. unintentionally redefine or alter the value of an existing variable. \n",
    "</p>\n",
    "\n",
    "<p style='text-align: justify;'>\n",
    "To that end, the scope of a variable defines the ability to reference a variable from different *points* in our programmes. The concept of local variables becomes clearer once we explore functions in programming in chapter [Functions](06-functions.Rmd).\n",
    "</p>\n",
    "\n",
    "<p style='text-align: justify;'>\n",
    "As displayed in Figure [Variable scopes](#fig:opts:scopes), the point *at* or *from* which a variable can be referenced depends on the location where the variable is defined.\n",
    "</p>\n",
    "\n",
    "In essence, there are three general rules to remember in relation variable scopes in Python:\n",
    "\n",
    "<p style='text-align: justify;'>\n",
    "I. A variable that is defined in the outer scope, can be *accessed* or *called* in the inner scopes, but it cannot be *altered* implicitly. Not that such variables may still be altered using special techniques (not discussed). \n",
    "</p>\n",
    "\n",
    "<p style='text-align: justify;'>\n",
    "II. A variable that is defined in the innermost scopes (local), can only be *accessed*, *called*, or *altered* within the boundaries of the scope it is defined in.\n",
    "</p>\n",
    "\n",
    "<p style='text-align: justify;'>\n",
    "III. The inner scopes *from* which a variable is referenced must themselves have be contained within the defining scope --- e.g. in ```FuncB``` of Figure [Variable scopes](#fig:opts:scopes), we can reference ```a```, ```b```, and ```x```; but not ```f1```. This is because the scope of ```f1``` is ```Script``` <kbd>→</kbd> ```FuncA```, so it can only be referenced from ```Script```  <kbd>→</kbd> ```FuncA``` <kbd>→ ...</kbd>, but not  ````Script```<kbd>→  ...</kbd> or ```Script``` <kbd>→</kbd>  ```FuncB``` <kbd>→ ...</kbd>.\n",
    "</p>\n",
    "\n",
    "![Variable scopes in Python with respect to scripts and functions.](fig/variable_scopes.png){#fig:opts:scopes}\n",
    "<p style='text-align: justify;'>\n",
    "Python is an interpreted language. This means that the Python interpreter goes through the codes that we write line by line, interpreting it to machine language. It is only then that the commands are processed and executed by the computer. On that account, a variable (or a function) can be referenced only *after* its initial definition. That is why, for instance, in ```Script (part 2)``` of Figure [Variable scopes](#fig:opts:scopes), we can reference every variable and function except for ```FuncC```, which is declared further down the code hierarchy. \n",
    "</p>\n",
    "\n",
    "<p style='text-align: justify;'>\n",
    "Although scope and hierarchy appear at first glance as theoretical concepts in programming, their implications are entirely practical. The definition of these principles vary from one programming language to another. As such, it is essential to understand these principles and their implications in relation to any programming language we are trying to learn.\n",
    "</p>\n",
    "\n",
    "### **Optional: How to use terminal environment?** {#terminal}\n",
    "![](fig/commandprompt_1.png)\n",
    "![](fig/commandprompt_2.png)\n",
    "![](fig/commandprompt_3.png)\n",
    "\n",
    "## Operations {#sec:operations}\n",
    "<p style='text-align: justify;'>\n",
    "Through our experimentations with [variable types](#sec:varTyp), we already know that variables may be subject to different operations. \n",
    "</p>\n",
    "\n",
    "<p style='text-align: justify;'>\n",
    "When assessing [type conversions](#sec:conversionType)  we also established that the operations we can apply to each variable depend on the *type* of that variable. To that end, we learned that although it is sometimes possible to mix variables from different types to perform an operation --- e.g. multiplying a floating point number with an integer, there are some logical restrictions in place.\n",
    "</p>\n",
    "\n",
    "<p style='text-align: justify;'>\n",
    "Throughout this section, we will take a closer look into different types of operations in Python. This will allow us to gain a deeper insight into the concept and familiarise ourselves with the underlying logic.\n",
    "</p>\n",
    "\n",
    "<p style='text-align: justify;'>\n",
    "To recapitulate on what we have done so far, we start off by reviewing *additions* --- the most basic of all operations.\n",
    "</p>\n",
    "\n",
    "Give the variable ```total_items```:"
   ]
  },
  {
   "cell_type": "code",
   "execution_count": null,
   "id": "1bd74bdf",
   "metadata": {},
   "outputs": [],
   "source": [
    "total_items = 2\n",
    "\n",
    "print(total_items) "
   ]
  },
  {
   "cell_type": "markdown",
   "id": "af17c971",
   "metadata": {},
   "source": [
    "```{.output}\n",
    "2\n",
    "```"
   ]
  },
  {
   "cell_type": "markdown",
   "id": "c061c8e9",
   "metadata": {},
   "source": [
    "We can increment the value of an *existing* variable by ```1``` as follows:\n"
   ]
  },
  {
   "cell_type": "code",
   "execution_count": null,
   "id": "69095879",
   "metadata": {},
   "outputs": [],
   "source": [
    "total_items = total_items + 1\n",
    "\n",
    "print(total_items)"
   ]
  },
  {
   "cell_type": "markdown",
   "id": "4bbf5a29",
   "metadata": {},
   "source": [
    "```{.output}\n",
    "3\n",
    "```\n",
    "\n",
    "<p style='text-align: justify;'>\n",
    "Given 2 different variables, each containing a different value; we can perform an operation on these values and store the result in *another* variable without altering the original variables in any way:\n",
    "</p>\n"
   ]
  },
  {
   "cell_type": "code",
   "execution_count": null,
   "id": "e34b0c51",
   "metadata": {},
   "outputs": [],
   "source": [
    "old_items = 4\n",
    "new_items = 3\n",
    "\n",
    "total_items = old_items + new_items\n",
    "\n",
    "print(total_items)"
   ]
  },
  {
   "cell_type": "markdown",
   "id": "9e28caf7",
   "metadata": {},
   "source": [
    "```{.output}\n",
    "7\n",
    "```\n",
    "\n",
    "<p style='text-align: justify;'>\t\n",
    "We can change the value of an *existing* variable using the value stored in *another* variable:\n",
    "</p>\n"
   ]
  },
  {
   "cell_type": "code",
   "execution_count": null,
   "id": "84fd3a2e",
   "metadata": {},
   "outputs": [],
   "source": [
    "new_items = 5\n",
    "total_items = total_items + new_items\n",
    "\n",
    "print(total_items)"
   ]
  },
  {
   "cell_type": "markdown",
   "id": "1b515d71",
   "metadata": {},
   "source": [
    "```{.output}\n",
    "12\n",
    "```\n",
    "\t\n",
    "There is also a shorthand method for applying the operation on an *existing* variable: \t\n",
    "\t"
   ]
  },
  {
   "cell_type": "code",
   "execution_count": null,
   "id": "ecca349e",
   "metadata": {},
   "outputs": [],
   "source": [
    "total_items = 2\n",
    "\n",
    "print(total_items)"
   ]
  },
  {
   "cell_type": "markdown",
   "id": "83655027",
   "metadata": {},
   "source": [
    "```{.output}\n",
    "2\n",
    "```\n",
    "\t"
   ]
  },
  {
   "cell_type": "code",
   "execution_count": null,
   "id": "072e641f",
   "metadata": {},
   "outputs": [],
   "source": [
    "total_items += 1\n",
    "\t\n",
    "print(total_items)"
   ]
  },
  {
   "cell_type": "markdown",
   "id": "e8f6ab8e",
   "metadata": {},
   "source": [
    "```{.output}\n",
    "3\n",
    "```\n",
    "\n"
   ]
  },
  {
   "cell_type": "code",
   "execution_count": null,
   "id": "1a26e417",
   "metadata": {},
   "outputs": [],
   "source": [
    "new_items = 5\n",
    "total_items += new_items\n",
    "\n",
    "print(total_items)"
   ]
  },
  {
   "cell_type": "markdown",
   "id": "5bc78b6e",
   "metadata": {},
   "source": [
    "```{.output}\n",
    "8\n",
    "```\n",
    "\n",
    "<p style='text-align: justify;'>\t\n",
    "As highlighted in the [introduction](#sec:operations), different operations may be applied to any variable or value. Throughout the rest of this section, we will explore the most fundamental operations in programming, and learn about their implementation in Python.\n",
    "</p>\n",
    "\n",
    "## Remember\n",
    "<p style='text-align: justify;'>\n",
    "There are 2 very general categories of operations in programming: *mathematical*, and *logical*. Naturally, we use mathematical operations to perform calculations, and logical operations to perform tests. \n",
    "</p>"
   ]
  },
  {
   "cell_type": "markdown",
   "id": "c9c1bd4c",
   "metadata": {},
   "source": [
    "### **Mathematical Operations** {#math_ops}\n",
    "\n",
    "Suppose ```a``` and ```b``` are 2 variables representing integer numbers as follows:\n",
    "\n",
    "```\n",
    "a = 17\n",
    "b = 5\n",
    "```\n",
    "\n",
    "Using ```a``` and ```b``` we can itemise built-in mathematical operations in Python as follows:\t\n",
    "\n",
    "![Routine mathematical operations in Python](fig/routine_operations.png){#fig:nativeTypes}"
   ]
  },
  {
   "cell_type": "markdown",
   "id": "20903437",
   "metadata": {},
   "source": [
    "## Remember\n",
    "<p style='text-align: justify;'>\n",
    "As far as mathematical operations are concerned, variables ```a``` and ```b``` may be an instance of any *numeric* type. See Table [Routine mathematical operations in Python](#fig:nativeTypes) to find out more about numeric types in Python.\n",
    "</p>\n",
    "\n",
    "Values of type ```int``` have been chosen in our examples to facilitate the understanding of the results. \n",
    "\n"
   ]
  },
  {
   "cell_type": "markdown",
   "id": "064f17e7",
   "metadata": {},
   "source": [
    "## Do it Yourself {#diy:mathsI}\n",
    "\n",
    "1. Calculate the following and store the results in appropriately named variables:\n",
    "\n",
    "  a. $5.8 \\times 3.3$\n",
    "  b. $\\frac{180}{6}$\n",
    "  c. $35 - 3.0$\n",
    "  d. $35 - 3$\n",
    "  e. $2^{1000}$\n",
    "\n",
    "Display the result of each calculation -- including the type, in the following format:\n",
    "\n",
    "> ```Result: X is an instance of <class 'Y'>```"
   ]
  },
  {
   "cell_type": "markdown",
   "id": "098348ef",
   "metadata": {},
   "source": [
    "2. Now using the results you obtained:\n",
    "<p style='text-align: justify;'>\n",
    "  **I.** Can you explain why is the result of $35 - 3.0$ is an instance of type ```float```, whilst that of $35 - 3$ is of type ```int```?\n",
    "</p>\n",
    "\n",
    "<p style='text-align: justify;'>\n",
    "  **II.** Unlike the numeric types, string values have a length. To obtain the length of a string value, we use <kbd>len()</kbd>. Convert the result for $2^{1000}$ from ```int``` to ```str```, then use the aforementioned function to work out the length of the number --- i.e. how many digits is it made of?\n",
    "</p>\n",
    "\n",
    "<p style='text-align: justify;'>\n",
    "If you feel adventurous, you can try this for $2^{10000}$ or higher; but beware that you might overwhelm your computer and need a restart it if you go too far (i.e. above $2^{1000000}$). Just make sure you save everything beforehand, so you don't accidentally step on your own foot.}\n",
    "</p>\n",
    "\n",
    "<p style='text-align: justify;'>\t\n",
    "**Hint:** We discuss <kbd>len()</kbd> in [subsection of arrays](04-arrays.Rmd). However, at this point, you should be able to use the official documentations and StackOverflow to work out how it works.\n",
    "</p>"
   ]
  },
  {
   "cell_type": "markdown",
   "id": "200cb24c",
   "metadata": {},
   "source": [
    "## Q1"
   ]
  },
  {
   "cell_type": "code",
   "execution_count": null,
   "id": "ddf6ea21",
   "metadata": {},
   "outputs": [],
   "source": [
    "q1_a = 5.8 * 3.3\n",
    "print('Result:', q1_a, 'is an instance of', type(q1_a))\n",
    "\t"
   ]
  },
  {
   "cell_type": "markdown",
   "id": "a840e12c",
   "metadata": {},
   "source": [
    "```{.output}\n",
    "Result: 19.139999999999997 is an instance of <class 'float'>\n",
    "```"
   ]
  },
  {
   "cell_type": "code",
   "execution_count": null,
   "id": "22e28fe6",
   "metadata": {},
   "outputs": [],
   "source": [
    "q1_b = 180 / 6\n",
    "print('Result:', q1_b, 'is an instance of', type(q1_b))\n",
    "\t"
   ]
  },
  {
   "cell_type": "markdown",
   "id": "0656ca8f",
   "metadata": {},
   "source": [
    "```{.output}\n",
    "Result: 30.0 is an instance of <class 'float'>\n",
    "```"
   ]
  },
  {
   "cell_type": "code",
   "execution_count": null,
   "id": "d697a709",
   "metadata": {},
   "outputs": [],
   "source": [
    "q1_c = 35 - 3.0\n",
    "print('Result:', q1_c, 'is an instance of', type(q1_c))\n",
    "\t"
   ]
  },
  {
   "cell_type": "markdown",
   "id": "628af574",
   "metadata": {},
   "source": [
    "```{.output}\n",
    "Result: 32.0 is an instance of <class 'float'>\n",
    "```"
   ]
  },
  {
   "cell_type": "code",
   "execution_count": null,
   "id": "1b093a5e",
   "metadata": {},
   "outputs": [],
   "source": [
    "q1_d = 35 - 3\n",
    "print('Result:', q1_d, 'is an instance of', type(q1_d))\n",
    "\t"
   ]
  },
  {
   "cell_type": "markdown",
   "id": "a4bf688b",
   "metadata": {},
   "source": [
    "```{.output}\n",
    "Result: 32 is an instance of <class 'int'>\n",
    "```"
   ]
  },
  {
   "cell_type": "code",
   "execution_count": null,
   "id": "2ae59ac8",
   "metadata": {},
   "outputs": [],
   "source": [
    "q1_e = 2 ** 1000\n",
    "print('Result:', q1_e, 'is an instance of', type(q1_e))"
   ]
  },
  {
   "cell_type": "markdown",
   "id": "d2ce3ab9",
   "metadata": {},
   "source": [
    "```{.output}\n",
    "Result: 10715086071862673209484250490600018105614048117055336074437503883703510511249361224931983788156958581275946729175531468251871452856923140435984577574698574803934567774824230985421074605062371141877954182153046474983581941267398767559165543946077062914571196477686542167660429831652624386837205668069376 is an instance of <class 'int'>\n",
    "```\n",
    "    "
   ]
  },
  {
   "cell_type": "markdown",
   "id": "97bc9258",
   "metadata": {},
   "source": [
    "## Q2-I\n",
    "<p style='text-align: justify;'>\n",
    "In the case of $35 - 3.0$ vs $35 - 3$, the former includes a floating point number. Operations involving multiple numeric types always produce the results as an instance of the type that covers all of the operands -- i.e. ```float``` covers ```int```, but not vice-versa.  \n",
    "</p>\n"
   ]
  },
  {
   "cell_type": "markdown",
   "id": "d566e0f2",
   "metadata": {},
   "source": [
    "## Q2-II\n"
   ]
  },
  {
   "cell_type": "code",
   "execution_count": null,
   "id": "d4cd5b15",
   "metadata": {},
   "outputs": [],
   "source": [
    "big_num = 2 ** 1000\n",
    "big_num_str = str(big_num)\n",
    "big_num_len = len(big_num_str)\n",
    "\t\n",
    "print('Length of 2**1000:', big_num_len)"
   ]
  },
  {
   "cell_type": "markdown",
   "id": "ee658084",
   "metadata": {},
   "source": [
    "```{.output}\n",
    "Length of 2**1000: 302\n",
    "```\n",
    "\n"
   ]
  },
  {
   "cell_type": "markdown",
   "id": "761ea89b",
   "metadata": {},
   "source": [
    "## Interesting Fact\n",
    "<p style='text-align: justify;'>\n",
    "As of Python 3.6, you can use an underscores (``` _ ```) *within* large numbers as a separator to make them easier to read in your code. For instance, instead of ```x = 1000000```, you can write ```x = 1_000_000```.\n",
    "</p>\n"
   ]
  },
  {
   "cell_type": "markdown",
   "id": "f70c7853",
   "metadata": {},
   "source": [
    "#### **Shorthands**\n",
    "<p style='text-align: justify;'>\n",
    "When it comes to mathematical operations in Python, there is a frequently used shorthand method that every Python programmer should be familiar with.\n",
    "</p>\n",
    "\n",
    "<p style='text-align: justify;'>\n",
    "Suppose we have a variable defined as ```total_residues = 52``` and want to perform a mathematical operation on it. However, we would like to store the result of that operation in ```total_residues``` instead of a new variable. In such cases, we can do as follows:\n",
    "</p>\n"
   ]
  },
  {
   "cell_type": "code",
   "execution_count": null,
   "id": "b822643b",
   "metadata": {},
   "outputs": [],
   "source": [
    "total_residues = 52\n",
    "\n",
    "# Addition:\n",
    "total_residues += 8\n",
    "\n",
    "print(total_residues)"
   ]
  },
  {
   "cell_type": "markdown",
   "id": "fd156c5e",
   "metadata": {},
   "source": [
    "```{.output}\n",
    "60\n",
    "```\n",
    "\n"
   ]
  },
  {
   "cell_type": "code",
   "execution_count": null,
   "id": "02abfb14",
   "metadata": {},
   "outputs": [],
   "source": [
    "# Subtraction:\n",
    "total_residues -= 10\n",
    "\n",
    "print(total_residues)"
   ]
  },
  {
   "cell_type": "markdown",
   "id": "e943d98d",
   "metadata": {},
   "source": [
    "```{.output}\n",
    "50\n",
    "```\n",
    "\n"
   ]
  },
  {
   "cell_type": "code",
   "execution_count": null,
   "id": "376a678d",
   "metadata": {},
   "outputs": [],
   "source": [
    "# Multiplication:\n",
    "total_residues *= 2\n",
    "\n",
    "print(total_residues)"
   ]
  },
  {
   "cell_type": "markdown",
   "id": "8806d145",
   "metadata": {},
   "source": [
    "```{.output}\n",
    "100\n",
    "```\n"
   ]
  },
  {
   "cell_type": "code",
   "execution_count": null,
   "id": "ad637759",
   "metadata": {},
   "outputs": [],
   "source": [
    "# Division:\n",
    "total_residues /= 4\n",
    "\n",
    "print(total_residues)"
   ]
  },
  {
   "cell_type": "markdown",
   "id": "6c3efa0d",
   "metadata": {},
   "source": [
    "```{.output}\n",
    "25.0\n",
    "```\n"
   ]
  },
  {
   "cell_type": "code",
   "execution_count": null,
   "id": "b512b5a0",
   "metadata": {},
   "outputs": [],
   "source": [
    "# Floor quotient:\n",
    "total_residues //= 2\n",
    "\n",
    "print(total_residues)"
   ]
  },
  {
   "cell_type": "markdown",
   "id": "5f054455",
   "metadata": {},
   "source": [
    "```{.output}\n",
    "12.0\n",
    "```\n"
   ]
  },
  {
   "cell_type": "code",
   "execution_count": null,
   "id": "70bf300d",
   "metadata": {},
   "outputs": [],
   "source": [
    "# Remainder:\n",
    "total_residues %= 5\n",
    "\n",
    "print(total_residues)"
   ]
  },
  {
   "cell_type": "markdown",
   "id": "8b293bc1",
   "metadata": {},
   "source": [
    "```{.output}\n",
    "2.0\n",
    "```\n"
   ]
  },
  {
   "cell_type": "code",
   "execution_count": null,
   "id": "4db5af90",
   "metadata": {},
   "outputs": [],
   "source": [
    "# Power:\n",
    "total_residues **= 3\n",
    "\n",
    "print(total_residues)"
   ]
  },
  {
   "cell_type": "markdown",
   "id": "02e4cbd2",
   "metadata": {},
   "source": [
    "```{.output}\n",
    "8.0\n",
    "```\n",
    "\n",
    "We can also perform such operations using multiple variables:\n"
   ]
  },
  {
   "cell_type": "code",
   "execution_count": null,
   "id": "8678fcca",
   "metadata": {},
   "outputs": [],
   "source": [
    "total_residues = 52\n",
    "new_residues = 8\n",
    "number_of_proteins = 3\n",
    "\n",
    "total_residues += new_residues\n",
    "\n",
    "print(total_residues)"
   ]
  },
  {
   "cell_type": "markdown",
   "id": "7e294c97",
   "metadata": {},
   "source": [
    "```{.output}\n",
    "60\n",
    "```\n",
    "  "
   ]
  },
  {
   "cell_type": "code",
   "execution_count": null,
   "id": "c9801773",
   "metadata": {},
   "outputs": [],
   "source": [
    "total_residues += (number_of_proteins * new_residues)\n",
    "\n",
    "print(total_residues)"
   ]
  },
  {
   "cell_type": "markdown",
   "id": "4d7a6697",
   "metadata": {},
   "source": [
    "```{.output}\n",
    "84\n",
    "```\n",
    "\n"
   ]
  },
  {
   "cell_type": "markdown",
   "id": "9cbb86d2",
   "metadata": {},
   "source": [
    "## Do it Yourself {#diy:mathsII}\n",
    "\n",
    "1. Given:\n",
    "\t* Circumference: $C = 18.84956$\n",
    "\t* Radius: $R = 3$\n",
    "\t\n",
    "and considering that the properties of a circle are defined as follows:"
   ]
  },
  {
   "cell_type": "markdown",
   "id": "800a72be",
   "metadata": {},
   "source": [
    "$$\\pi = \\frac{C}{D}$$\n",
    "calculate $\\pi$ using the above equation and store it in a variable named ```pi```:\n",
    "\n",
    "![](fig/circle.png)\t"
   ]
  },
  {
   "cell_type": "markdown",
   "id": "e14f551a",
   "metadata": {},
   "source": [
    "Then round the results to 5 decimal places and display the result in the following format:\n",
    "\n",
    ">```The value of pi calculated to 5 decimal places: X.XXXXX```\n",
    "\n",
    "<p style='text-align: justify;'>\t\n",
    "**Note: **To round floating point numbers in Python, we use <kbd>round()</kbd>. This is a built-in function that takes 2 input arguments: the first is the variable/value to be rounded, and the second is the number decimal places. Read more about <kbd>round()</kbd> in the [official documentations](https://docs.python.org/3.6/library/functions.html\\#round).\n",
    "</p>\n",
    "\n",
    "2. Now without creating a new variable, perform the following operation:\n",
    "\t\n",
    "\t$$pi = \\frac{pi}{(3 \\bmod 2) - 1}$$"
   ]
  },
  {
   "cell_type": "markdown",
   "id": "925c9ee8",
   "metadata": {},
   "source": [
    "where the expression ''$3 \\bmod 2$'' represents the remainder for the division of 3 by 2.\n",
    "\n",
    "Explain the output.\n",
    "\n",
    "## Q1\n"
   ]
  },
  {
   "cell_type": "code",
   "execution_count": null,
   "id": "d80bb9f4",
   "metadata": {},
   "outputs": [],
   "source": [
    "c = 18.84956\n",
    "r = 3\n",
    "d = r * 2\n",
    "\t\n",
    "pi = c / d\n",
    "\t\n",
    "print('The value of pi calculated to 5 decimal places:', round(pi, 5))"
   ]
  },
  {
   "cell_type": "markdown",
   "id": "a91bffd6",
   "metadata": {},
   "source": [
    "```{.output}\n",
    "The value of pi calculated to 5 decimal places: 3.14159\n",
    "```"
   ]
  },
  {
   "cell_type": "markdown",
   "id": "aaadeac4",
   "metadata": {},
   "source": [
    "## Q2\n",
    "```\n",
    "\tpi /= (3 % 2) - 1\n",
    "\n",
    "```\n",
    "\n",
    "The calculation raises a ```ZeroDivisionError```. This is because division by zero is mathematically impossible."
   ]
  },
  {
   "cell_type": "markdown",
   "id": "63f01ce5",
   "metadata": {},
   "source": [
    "#### **Precedence**\n",
    "<p style='text-align: justify;'>\n",
    "In mathematics and computer programming, there is a collection of conventional rules on the precedence of procedures to evaluate a mathematical expression. This collection of rules is referred to as the *order of operation* or *operator precedence*.\n",
    "</p>\n",
    "\n",
    "Suppose we have a mathematical expression as follows:\n",
    "\n",
    "$$x = 2 + 3 \\times 9$$\n",
    "<p style='text-align: justify;'>\n",
    "Such an expression can *only* be evaluated correctly if we do the multiplication first and then perform the addition. This means that the evaluation is done as follows:\n",
    "</p>\n",
    "\n",
    "$$given:3 \\times 9  = 27$$ \n",
    "$$\\implies x = 2 + 27$$    \n",
    "$$ = 29$$\n",
    "\n",
    "For instance, in an expression such as:"
   ]
  },
  {
   "cell_type": "markdown",
   "id": "9e31da26",
   "metadata": {},
   "source": [
    "$$x = 2 \\times (3 + (5 - 1)^2)$$"
   ]
  },
  {
   "cell_type": "markdown",
   "id": "1ceb3912",
   "metadata": {},
   "source": [
    "the evaluation workflow may be described as follows:"
   ]
  },
  {
   "cell_type": "markdown",
   "id": "99004356",
   "metadata": {},
   "source": [
    "$$x = 2 \\times (3 + 4^2)$$\n",
    "$$ = 2 \\times (3 + 16)$$\n",
    "$$ = 38$$\n",
    "<p style='text-align: justify;'>\n",
    "The same principle applies in Python. This means that if we use Python to evaluate the above expression, the result would be identical:\n",
    "</p>\n"
   ]
  },
  {
   "cell_type": "code",
   "execution_count": null,
   "id": "0681b5f5",
   "metadata": {},
   "outputs": [],
   "source": [
    "result = 2 * (3 + (5 - 1) ** 2)\n",
    "\n",
    "print(result)"
   ]
  },
  {
   "cell_type": "markdown",
   "id": "a82ab297",
   "metadata": {},
   "source": [
    "```{.output}\n",
    "38\n",
    "```"
   ]
  },
  {
   "cell_type": "markdown",
   "id": "2dd4b295",
   "metadata": {},
   "source": [
    "## Remember\n",
    "Operator precedence in mathematical operations may be described as follows:\n",
    "\n",
    "1. Exponents and roots\n",
    "2. Multiplication and division\n",
    "3. Addition and subtraction\n",
    "\n",
    "If there are any parenthesis ```( )``` in the expression, the expression is evaluated from the innermost parenthesis outwards.\n"
   ]
  },
  {
   "cell_type": "markdown",
   "id": "171712c1",
   "metadata": {},
   "source": [
    "## Do it Yourself\n",
    "Display the result of each item in the following format:\n",
    "\n",
    "```\n",
    "EXPRESSION = RESULT\n",
    "```\n",
    "\n",
    "For example:\n",
    "\n",
    "```\n",
    "\t2 + 3 = 5\n",
    "```"
   ]
  },
  {
   "cell_type": "markdown",
   "id": "79d91562",
   "metadata": {},
   "source": [
    "1. Calculate each expression *without* using parentheses:\n",
    "\n",
    "  a. $3 \\times \\frac{2}{4}$\n",
    "  b. $5 + 3 \\times \\frac{2}{4}$\n",
    "  c. $3 \\times \\frac{2}{4} + 5$\n",
    "  d. $\\frac{2}{4} \\times 3$\n"
   ]
  },
  {
   "cell_type": "markdown",
   "id": "7f2c16fc",
   "metadata": {},
   "source": [
    "2. Calculate these expressions *using* parentheses:\n",
    "\n",
    "  a. $5 + \\frac{2}{4} \\times 3$\n",
    "  b.  $5 + \\frac{2 \\times 3}{4}$\n",
    "  c. $5 + \\frac{2}{4 \\times 3}$"
   ]
  },
  {
   "cell_type": "markdown",
   "id": "dc68fc61",
   "metadata": {},
   "source": [
    "3.  Given\n",
    "\n",
    "```\n",
    "a = 2\n",
    "b = 5\n",
    "```\n",
    "\n",
    "use ```a``` and ```b``` to calculate the following expressions:\n",
    "  \n",
    "  a. $(a + b)^2$\n",
    "  b. $a^2 + 2ab + b^2$"
   ]
  },
  {
   "cell_type": "markdown",
   "id": "6e6cc34f",
   "metadata": {},
   "source": [
    "## Q1"
   ]
  },
  {
   "cell_type": "code",
   "execution_count": null,
   "id": "8064bc04",
   "metadata": {},
   "outputs": [],
   "source": [
    "q1_a = 3 * 2 / 4\n",
    "print('3 * 2 / 4 =', q1_a)\n",
    "\t"
   ]
  },
  {
   "cell_type": "markdown",
   "id": "6b31d3f1",
   "metadata": {},
   "source": [
    "```{.output}\n",
    "3 * 2 / 4 = 1.5\n",
    "```"
   ]
  },
  {
   "cell_type": "code",
   "execution_count": null,
   "id": "914a6f0a",
   "metadata": {},
   "outputs": [],
   "source": [
    "q1_b = 5 + 3 * 2 / 4\n",
    "print('5 + 3 * 2 / 4 =', q1_b)\n",
    "\t"
   ]
  },
  {
   "cell_type": "markdown",
   "id": "8ef5d9c4",
   "metadata": {},
   "source": [
    "```{.output}\n",
    "5 + 3 * 2 / 4 = 6.5\n",
    "```"
   ]
  },
  {
   "cell_type": "code",
   "execution_count": null,
   "id": "be30396e",
   "metadata": {},
   "outputs": [],
   "source": [
    "q1_c = 3 * 2 / 4 + 5\n",
    "print('3 * 2 / 4 + 5 =', q1_c)\n",
    "\t"
   ]
  },
  {
   "cell_type": "markdown",
   "id": "c6adc4e7",
   "metadata": {},
   "source": [
    "```{.output}\n",
    "3 * 2 / 4 + 5 = 6.5\n",
    "```"
   ]
  },
  {
   "cell_type": "code",
   "execution_count": null,
   "id": "60f94201",
   "metadata": {},
   "outputs": [],
   "source": [
    "q1_d = 2 / 4 * 3\n",
    "print('2 / 4 * 3 =', q1_d)"
   ]
  },
  {
   "cell_type": "markdown",
   "id": "dbbc4b8a",
   "metadata": {},
   "source": [
    "```{.output}\n",
    "2 / 4 * 3 = 1.5\n",
    "```"
   ]
  },
  {
   "cell_type": "markdown",
   "id": "907d7e2d",
   "metadata": {},
   "source": [
    "## Q2\n"
   ]
  },
  {
   "cell_type": "code",
   "execution_count": null,
   "id": "efe0db3d",
   "metadata": {},
   "outputs": [],
   "source": [
    "q2_a = 5 + (2 / 4) * 3\n",
    "print('5 + (2 / 4) * 3 =', q2_a)\n",
    "\t"
   ]
  },
  {
   "cell_type": "markdown",
   "id": "c78ac78c",
   "metadata": {},
   "source": [
    "```{.output}\n",
    "5 + (2 / 4) * 3 = 6.5\n",
    "```"
   ]
  },
  {
   "cell_type": "code",
   "execution_count": null,
   "id": "e391f3aa",
   "metadata": {},
   "outputs": [],
   "source": [
    "q2_b = 5 + (2 * 3) / 4\n",
    "print('5 + (2 * 3) / 4 =', q2_b)\n",
    "\t"
   ]
  },
  {
   "cell_type": "markdown",
   "id": "0b1366f8",
   "metadata": {},
   "source": [
    "```{.output}\n",
    "5 + (2 * 3) / 4 = 6.5\n",
    "```"
   ]
  },
  {
   "cell_type": "code",
   "execution_count": null,
   "id": "8b11d5f3",
   "metadata": {},
   "outputs": [],
   "source": [
    "q2_c = 5 + 2 / (4 * 3)\n",
    "print('5 + 2 / (4 * 3) =', q2_c)"
   ]
  },
  {
   "cell_type": "markdown",
   "id": "f539e29b",
   "metadata": {},
   "source": [
    "```{.output}\n",
    "5 + 2 / (4 * 3) = 5.166666666666667\n",
    "```\n"
   ]
  },
  {
   "cell_type": "markdown",
   "id": "da7f0daa",
   "metadata": {},
   "source": [
    "## Q3\n"
   ]
  },
  {
   "cell_type": "code",
   "execution_count": null,
   "id": "977d02b4",
   "metadata": {},
   "outputs": [],
   "source": [
    "a = 2\n",
    "b = 5\n",
    "\t\n",
    "q3_a = (a + b) ** 2\n",
    "print('(a + b)^2 =', q3_a)\n",
    "\t"
   ]
  },
  {
   "cell_type": "markdown",
   "id": "2cb19020",
   "metadata": {},
   "source": [
    "```{.output}\n",
    "(a + b)^2 = 49\n",
    "```"
   ]
  },
  {
   "cell_type": "code",
   "execution_count": null,
   "id": "4c7e1e70",
   "metadata": {},
   "outputs": [],
   "source": [
    "q3_b = a ** 2 + 2 * a * b + b ** 2\n",
    "print('a^2 + 2ab + b^2 =', q3_b)"
   ]
  },
  {
   "cell_type": "markdown",
   "id": "ee646fa9",
   "metadata": {},
   "source": [
    "```{.output}\n",
    "a^2 + 2ab + b^2 = 49\n",
    "```\n"
   ]
  },
  {
   "cell_type": "markdown",
   "id": "0ff27cba",
   "metadata": {},
   "source": [
    "#### **Non-numeric values** {#subsubsec:mathematicalOperations:nonNumerics}\n",
    "<p style='text-align: justify;'>\n",
    "It sometimes makes sense to apply *some* mathematical operations to non-numeric variables too.\n",
    "</p>\n",
    "\n",
    "<p style='text-align: justify;'>\n",
    "We can multiply strings to repeat them. There is no specific advantage to the use of multiplication instead of manually repeating characters or words, but it makes our code look cleaner, and that's always a good thing!\n",
    "</p>\n",
    "\n",
    "<p style='text-align: justify;'>\n",
    "We can also add string values to each other. This is called *string concatenation*. It is a useful method for concatenating a few strings and / or string variables.\n",
    "</p>\n"
   ]
  },
  {
   "cell_type": "code",
   "execution_count": null,
   "id": "c8eb9b2b",
   "metadata": {},
   "outputs": [],
   "source": [
    "SEPARATOR = '-' * 20\n",
    "NEW_LINE = '\\n'\n",
    "SPACE = ' '\n",
    "\n",
    "forename = 'Jane'\n",
    "surname = 'Doe'\n",
    "birthday = '01/01/1990'\n",
    "\n",
    "full_name = forename + SPACE + surname\n",
    "\n",
    "data = full_name + NEW_LINE + SEPARATOR + NEW_LINE + 'DoB: ' + birthday\n",
    "\n",
    "print(data)\n",
    "   "
   ]
  },
  {
   "cell_type": "markdown",
   "id": "4e24cfef",
   "metadata": {},
   "source": [
    "```{.output}\n",
    "Jane Doe\n",
    "--------------------\n",
    "DoB: 01/01/1990\n",
    "```"
   ]
  },
  {
   "cell_type": "markdown",
   "id": "a9020f9c",
   "metadata": {},
   "source": [
    "## Remember\n",
    "<p style='text-align: justify;'>\n",
    "New line character or ```'\\n'``` is a universal directive to induce a line-break in Unix based operating systems (MACOS) and Linux). In WINDOWS, we usually us ```'\\r'``` or ```'\\r\\n'``` instead. These are known as [escape sequences](07-strings.Rmd#subsubsec:escapeSequences), which we explore in additional details under [string operations](07-strings.Rmd#subsec:stringOperations) in chapter [Strings](07-strings.Rmd)\n",
    "</p>\n"
   ]
  },
  {
   "cell_type": "markdown",
   "id": "7882e481",
   "metadata": {},
   "source": [
    "## Do it Yourself {#diy:mathOpts:Huntington}\n",
    "<p style='text-align: justify;'>\n",
    "The risk of Huntington's disease appears to increase proportional to the continuous repetition of ```CAG``` nucleotides (glutamine codon) once they exceed 35 near the beginning of the Huntingtin (```IT15```) gene. The ```CAG``` repeats are also referred to as a polyglutamine or polyQ tract.\n",
    "</p>\n",
    "\n",
    "```    \n",
    "glutamine_codon = 'CAG'\n",
    "```     \n",
    "\n",
    "1. Create a polynucleotide chain representing 36 glutamine codons. Store the result in a variable called ```polyq_codons```.\n",
    "\t\n",
    "Display the result as:\n",
    "\n",
    "```\n",
    "Polyglutamine codons with 36 repeats: XXXXXXXXX...\n",
    "```"
   ]
  },
  {
   "cell_type": "markdown",
   "id": "ee0f23b9",
   "metadata": {},
   "source": [
    "2. Use <kbd>len()</kbd> to work out the length of ```polyq_codons```, and store the result in a variable called ```polyq_codons_length```.\n",
    "\t\n",
    "Display the result in the following format:\n",
    "\n",
    "```\n",
    "Number of nucleotides in a polyglutamine with 36 repeats: XXX\n",
    "```"
   ]
  },
  {
   "cell_type": "markdown",
   "id": "0f69c805",
   "metadata": {},
   "source": [
    "3. Use <kbd>len()</kbd> to work out the length of ```glutamin_codon```, and store the result in variable ```amino_acids_per_codon```.\n",
    "\n",
    "4. Divide ```polyq_codons_length``` by ```amino_acids_per_codon``` to prove that the chain contains the codon for exactly 36 amino acids. Store the result in variable ```polyq_peptide_length```.\n",
    "\t\n",
    "Display the result in the following format:\n",
    "\n",
    "```\n",
    "Number of amino acids in a polyglutamine with 36 repeats: XXX\n",
    "```\n",
    "\t\n",
    "5. Determine the types for the following variable:\n",
    "\n",
    "* amino_acids_per_codon\n",
    "* polyq_codons_length\n",
    "* polyq_peptide_length\n",
    "\n",
    "\tand display the result for each item in the following format:\n",
    "\n",
    "```\n",
    "Value: XXX - Type: <class 'XXXX'>\n",
    "```\n",
    "\n",
    "6. Are all the variables in task #5 of the same type? Why?\n",
    "\t\n",
    "7. Repeat from task #4, but this time use an alternative method of division as outlined in See Table [Routine mathematical operations in Python](#fig:nativeTypes)."
   ]
  },
  {
   "cell_type": "markdown",
   "id": "fe2d8f7d",
   "metadata": {},
   "source": [
    "## Q1\n"
   ]
  },
  {
   "cell_type": "code",
   "execution_count": null,
   "id": "d7a3323b",
   "metadata": {},
   "outputs": [],
   "source": [
    "glutamine_codon = 'CAG'\n",
    "\t\n",
    "polyq_codons = glutamine_codon * 36\n",
    "\t\n",
    "print('Polyglutamine codons with 36 repeats:', polyq_codons)"
   ]
  },
  {
   "cell_type": "markdown",
   "id": "b4bca399",
   "metadata": {},
   "source": [
    "```{.output}\n",
    "Polyglutamine codons with 36 repeats: CAGCAGCAGCAGCAGCAGCAGCAGCAGCAGCAGCAGCAGCAGCAGCAGCAGCAGCAGCAGCAGCAGCAGCAGCAGCAGCAGCAGCAGCAGCAGCAGCAGCAGCAGCAG\n",
    "```\n"
   ]
  },
  {
   "cell_type": "markdown",
   "id": "3d25d30c",
   "metadata": {},
   "source": [
    "## Q2\n"
   ]
  },
  {
   "cell_type": "code",
   "execution_count": null,
   "id": "77d9d4e8",
   "metadata": {},
   "outputs": [],
   "source": [
    "polyq_codons_length = len(polyq_codons)\n",
    "\t\n",
    "print('Number of nucleotides in a polyglutamine with 36 repeats:', polyq_codons_length)"
   ]
  },
  {
   "cell_type": "markdown",
   "id": "be8f20f7",
   "metadata": {},
   "source": [
    "```{.output}\n",
    "Number of nucleotides in a polyglutamine with 36 repeats: 108\n",
    "```\n"
   ]
  },
  {
   "cell_type": "markdown",
   "id": "24665792",
   "metadata": {},
   "source": [
    "## Q3\n"
   ]
  },
  {
   "cell_type": "code",
   "execution_count": null,
   "id": "45fa0ca1",
   "metadata": {
    "lines_to_next_cell": 2
   },
   "outputs": [],
   "source": [
    "amino_acids_per_codon = len(glutamine_codon)"
   ]
  },
  {
   "cell_type": "markdown",
   "id": "0a14d44e",
   "metadata": {},
   "source": [
    "## Q4\n"
   ]
  },
  {
   "cell_type": "code",
   "execution_count": null,
   "id": "b385370a",
   "metadata": {},
   "outputs": [],
   "source": [
    "polyq_peptide_length = polyq_codons_length / amino_acids_per_codon\n",
    "\t\n",
    "print('Number of amino acids in a polyglutamine with 36 repeats:', polyq_peptide_length)\n",
    " "
   ]
  },
  {
   "cell_type": "markdown",
   "id": "6227d684",
   "metadata": {},
   "source": [
    "```{.output}\n",
    "Number of amino acids in a polyglutamine with 36 repeats: 36.0\n",
    "```\n"
   ]
  },
  {
   "cell_type": "markdown",
   "id": "087f7980",
   "metadata": {},
   "source": [
    "## Q5\n"
   ]
  },
  {
   "cell_type": "code",
   "execution_count": null,
   "id": "7638a7cc",
   "metadata": {},
   "outputs": [],
   "source": [
    "print('Value:', amino_acids_per_codon, '- Type:', type(amino_acids_per_codon))\n",
    "\t"
   ]
  },
  {
   "cell_type": "markdown",
   "id": "6572c40c",
   "metadata": {},
   "source": [
    "```{.output}\n",
    "Value: 3 - Type: <class 'int'>\n",
    "```"
   ]
  },
  {
   "cell_type": "code",
   "execution_count": null,
   "id": "91e555e6",
   "metadata": {},
   "outputs": [],
   "source": [
    "print('Value:', polyq_codons_length, '- Type:', type(polyq_codons_length))\n",
    "\t"
   ]
  },
  {
   "cell_type": "markdown",
   "id": "92b04b5c",
   "metadata": {},
   "source": [
    "```{.output}\n",
    "Value: 108 - Type: <class 'int'>\n",
    "```"
   ]
  },
  {
   "cell_type": "code",
   "execution_count": null,
   "id": "549db7ed",
   "metadata": {},
   "outputs": [],
   "source": [
    "print('Value:', polyq_peptide_length, '- Type:', type(polyq_peptide_length))"
   ]
  },
  {
   "cell_type": "markdown",
   "id": "d2ab209a",
   "metadata": {},
   "source": [
    "```{.output}\n",
    "Value: 36.0 - Type: <class 'float'>\n",
    "```"
   ]
  },
  {
   "cell_type": "markdown",
   "id": "a6be641e",
   "metadata": {},
   "source": [
    "## Q6\n",
    "<p style='text-align: justify;'>\n",
    "No, ```polyq_peptide_length``` is an instance of type ```float```. This is because we used the normal division (```/```) and not floor division (```//```}) to calculate its value. The result of normal division is always presented as a floating point number.\n",
    "</p>\n"
   ]
  },
  {
   "cell_type": "markdown",
   "id": "7ac87618",
   "metadata": {},
   "source": [
    "## Q7\n"
   ]
  },
  {
   "cell_type": "code",
   "execution_count": null,
   "id": "7bdce00c",
   "metadata": {},
   "outputs": [],
   "source": [
    "polyq_peptide_length = polyq_codons_length // amino_acids_per_codon\n",
    "\t\n",
    "print('Number of amino acids in a polyglutamine with 36 repeats:', polyq_peptide_length)\n",
    "\t"
   ]
  },
  {
   "cell_type": "markdown",
   "id": "67d7d037",
   "metadata": {},
   "source": [
    "```{.output}\n",
    "Number of amino acids in a polyglutamine with 36 repeats: 36\n",
    "```"
   ]
  },
  {
   "cell_type": "code",
   "execution_count": null,
   "id": "fadc0f6c",
   "metadata": {},
   "outputs": [],
   "source": [
    "print('Value:', amino_acids_per_codon, '- Type:', type(amino_acids_per_codon))\n",
    "\t"
   ]
  },
  {
   "cell_type": "markdown",
   "id": "9c1d8223",
   "metadata": {},
   "source": [
    "```{.output}\n",
    "Value: 3 - Type: <class 'int'>\n",
    "```"
   ]
  },
  {
   "cell_type": "code",
   "execution_count": null,
   "id": "e65ac823",
   "metadata": {},
   "outputs": [],
   "source": [
    "print('Value:', polyq_codons_length, '- Type:', type(polyq_codons_length))\n",
    "\t"
   ]
  },
  {
   "cell_type": "markdown",
   "id": "a632dd0c",
   "metadata": {},
   "source": [
    "```{.output}\n",
    "Value: 108 - Type: <class 'int'>\n",
    "```"
   ]
  },
  {
   "cell_type": "code",
   "execution_count": null,
   "id": "1ec20d26",
   "metadata": {},
   "outputs": [],
   "source": [
    "print('Value:', polyq_peptide_length, '- Type:', type(polyq_peptide_length))"
   ]
  },
  {
   "cell_type": "markdown",
   "id": "4641beb6",
   "metadata": {},
   "source": [
    "```{.output}\n",
    "Value: 36 - Type: <class 'int'>\n",
    "```\n",
    "\n"
   ]
  },
  {
   "cell_type": "markdown",
   "id": "450785d5",
   "metadata": {},
   "source": [
    "## Interesting Fact\n",
    "<p style='text-align: justify;'>\n",
    "The Boolean data type is named after the English mathematician and logician George Boole (1815--1864).\n",
    "</p>"
   ]
  },
  {
   "cell_type": "markdown",
   "id": "804ad290",
   "metadata": {},
   "source": [
    "### **Logical Operations** {#subsec:logicalOperatons}\n",
    "<p style='text-align: justify;'>\n",
    "An operation may involve a comparison. The result of such operations is either ```True``` or ```False```. This is known as the *Boolean* or ```bool``` data type. In reality, however, computers record ```True``` and ```False``` as ```1``` and ```0``` respectively.\n",
    "</p>\n",
    "\n",
    "<p style='text-align: justify;'>\n",
    "Operations with Boolean results are referred to as *logical operations*. Testing the results of such operations is known as *truth value testing*.\n",
    "</p>\n",
    "\n",
    "Given the two variables ```a``` and ```b``` as follows: \n",
    "\n",
    "```\n",
    "a = 17\n",
    "b = 5\n",
    "```\n",
    "\n",
    "Boolean operations may be defined as outlined in Table [Routine logical operations in Python.](#tab:routineOperations).\n",
    "\n",
    "![Routine logical operations in Python.](fig/routine_logical_operations.png){#tab:routineOperations}\n"
   ]
  },
  {
   "cell_type": "markdown",
   "id": "76ea9f5e",
   "metadata": {},
   "source": [
    "## Do it Yourself {#diy:equivalence}\n",
    "\n",
    "We know that in algebra, the first identity (square of a binomial) is:\n",
    "\t\n",
    "$$(a + b)^2 = a^2 + 2ab + b^2$$\n",
    "now given:\n",
    "\t\n",
    "```    \n",
    "a = 15\n",
    "b = 4\n",
    "```"
   ]
  },
  {
   "cell_type": "markdown",
   "id": "d4fe5c9c",
   "metadata": {},
   "source": [
    "1. Calculate\n",
    "\n",
    "$$y_1 = (a + b)^{2}$$\n",
    "$$y_2 = a^2 + 2ab + b^2$$\n",
    "\n",
    "Display the results in the following format:\n",
    "\n",
    "```\n",
    "y1 = XX\n",
    "y2 = XX\n",
    "```\n",
    "<p style='text-align: justify;'>\t\t\n",
    "2. Determine whether or not ```y_1``` is indeed equal to ```y_2```. Store the result of your test in another variable called ```equivalence```. Display the results in the following format:\n",
    "</p>\n",
    "\n",
    "```\n",
    "Where a = XX and b = XX: \n",
    "y1 is equal to y2: [True/False]\n",
    "```"
   ]
  },
  {
   "cell_type": "markdown",
   "id": "668a8853",
   "metadata": {},
   "source": [
    "## Q1\n",
    "   "
   ]
  },
  {
   "cell_type": "code",
   "execution_count": null,
   "id": "460e5ae7",
   "metadata": {},
   "outputs": [],
   "source": [
    "a = 15\n",
    "b = 4\n",
    "\t\t\n",
    "y_1 = (a + b) ** 2\n",
    "y_2 = a ** 2 + 2 * a * b + b ** 2 \n",
    "\t\t\n",
    "print('y1 =', y_1)"
   ]
  },
  {
   "cell_type": "markdown",
   "id": "327d5473",
   "metadata": {},
   "source": [
    "```{.output}\n",
    "y1 = 361\n",
    "```"
   ]
  },
  {
   "cell_type": "code",
   "execution_count": null,
   "id": "28feb996",
   "metadata": {},
   "outputs": [],
   "source": [
    "print('y2 =', y_2)"
   ]
  },
  {
   "cell_type": "markdown",
   "id": "ec73f06c",
   "metadata": {},
   "source": [
    "```{.output}\n",
    "y2 = 361\n",
    "```\n"
   ]
  },
  {
   "cell_type": "markdown",
   "id": "bd3041e3",
   "metadata": {},
   "source": [
    "## Q2\n"
   ]
  },
  {
   "cell_type": "code",
   "execution_count": null,
   "id": "b51eed29",
   "metadata": {},
   "outputs": [],
   "source": [
    "    \n",
    "equivalence = y_1 == y_2\n",
    "\t\t\n",
    "print('Where a =', a, ' and b=', b)"
   ]
  },
  {
   "cell_type": "markdown",
   "id": "9331da21",
   "metadata": {},
   "source": [
    "```{.output}\n",
    "Where a = 15  and b= 4\n",
    "```"
   ]
  },
  {
   "cell_type": "code",
   "execution_count": null,
   "id": "07d336c1",
   "metadata": {},
   "outputs": [],
   "source": [
    "print('y1 is equal to y2:', equivalence)"
   ]
  },
  {
   "cell_type": "markdown",
   "id": "7c274e0d",
   "metadata": {},
   "source": [
    "```{.output}\n",
    "y1 is equal to y2: True\n",
    "```"
   ]
  },
  {
   "cell_type": "markdown",
   "id": "85864ae0",
   "metadata": {},
   "source": [
    "#### **Negation** {#sec:logicalStatements:Negation}\n",
    "\n",
    "We can also use negation in logical operations. Negation in Python is implemented using <kbd>not</kbd>:\n",
    "\n",
    "![Negations in Python.](fig/Negation.png)"
   ]
  },
  {
   "cell_type": "markdown",
   "id": "2200e5e4",
   "metadata": {},
   "source": [
    "## Do it Yourself\n",
    "\n",
    "Using the information from previous [Do it Yourself](#diy:equivalence):\n",
    "\t\n",
    "<p style='text-align: justify;'>\n",
    "1. Without using <kbd>not</kbd>, determine whether or not ```y_1``` is *not equal* to ```y_2```. Display the result of your test and store it in another variable called ```inequivalent```.\n",
    "</p>\n",
    "\n",
    "2. Negate ```inequivalent``` and display the result."
   ]
  },
  {
   "cell_type": "markdown",
   "id": "bae90a95",
   "metadata": {},
   "source": [
    "## Q1\n"
   ]
  },
  {
   "cell_type": "code",
   "execution_count": null,
   "id": "4134b833",
   "metadata": {},
   "outputs": [],
   "source": [
    "inequivalent = y_1 != y_2\n",
    "\t\t\n",
    "print(inequivalent)"
   ]
  },
  {
   "cell_type": "markdown",
   "id": "7279a631",
   "metadata": {},
   "source": [
    "```{.output}\n",
    "False\n",
    "```\n"
   ]
  },
  {
   "cell_type": "markdown",
   "id": "b61c776c",
   "metadata": {},
   "source": [
    "## Q2\n"
   ]
  },
  {
   "cell_type": "code",
   "execution_count": null,
   "id": "f2c06ff7",
   "metadata": {},
   "outputs": [],
   "source": [
    "inequivalent_negated = not inequivalent\n",
    "\t\t\n",
    "print(inequivalent_negated)    \n",
    "\t"
   ]
  },
  {
   "cell_type": "markdown",
   "id": "990bdd60",
   "metadata": {},
   "source": [
    "```{.output}\n",
    "True\n",
    "```\n"
   ]
  },
  {
   "cell_type": "markdown",
   "id": "3fcb60b2",
   "metadata": {},
   "source": [
    "#### **Disjunctions and Conjunctions** {#disjun}\n",
    "<p style='text-align: justify;'>\n",
    "Logical operations may be combined using conjunction with <kbd>and</kbd> and disjunction with <kbd>or</kbd> to create more complex logics:\n",
    "</p>\n",
    "\n",
    "![Disjunctions and Conjunctions in Python.](fig/Disjunction.png)\n"
   ]
  },
  {
   "cell_type": "markdown",
   "id": "45e892f9",
   "metadata": {},
   "source": [
    "## Do it Yourself\n",
    "\n",
    "Given \n",
    "\t \n",
    "```\n",
    "a = True\n",
    "b = False\n",
    "c = True\n",
    "```\n",
    "\t\n",
    "Evaluate the following statements:\n",
    "\t\n",
    "1. a == b\n",
    "2. a == c\n",
    "3. a ```or``` b\n",
    "4. a ```and``` b\n",
    "5. a ```or``` b ```and``` c\n",
    "6. (a ```or``` b) ```and``` c\n",
    "7. ```not``` a ```or``` (b ```and``` c)\n",
    "8. ```not``` a ```or``` ```not```(b ```and``` c)\n",
    "9. ```not``` a ```and``` ```not```(b ```and``` c)\n",
    "10. ```not``` a ```and``` ```not```(b ```or``` c)"
   ]
  },
  {
   "cell_type": "markdown",
   "id": "fe3ce8d5",
   "metadata": {},
   "source": [
    "Display the results in the following format:\n",
    "\n",
    "```\n",
    "1. [True/False]\n",
    "2. [True/False]\n",
    "\t\t...\n",
    "```\n",
    "\n",
    "Given that: \n",
    "```   \n",
    "a = True\n",
    "b = False\n",
    "c = True\n",
    "```\n",
    "\n",
    "## Q1\n"
   ]
  },
  {
   "cell_type": "code",
   "execution_count": null,
   "id": "ca739500",
   "metadata": {},
   "outputs": [],
   "source": [
    "print('1.', a == b)"
   ]
  },
  {
   "cell_type": "markdown",
   "id": "c4c248a6",
   "metadata": {},
   "source": [
    "```{.output}\n",
    "1. False\n",
    "```\n",
    "\n",
    "## Q2\n"
   ]
  },
  {
   "cell_type": "code",
   "execution_count": null,
   "id": "efc0358d",
   "metadata": {},
   "outputs": [],
   "source": [
    "print('2.', a == c)"
   ]
  },
  {
   "cell_type": "markdown",
   "id": "64a08451",
   "metadata": {},
   "source": [
    "```{.output}\n",
    "2. False\n",
    "```"
   ]
  },
  {
   "cell_type": "markdown",
   "id": "300652cf",
   "metadata": {},
   "source": [
    "## Q3\n"
   ]
  },
  {
   "cell_type": "code",
   "execution_count": null,
   "id": "e27165d5",
   "metadata": {},
   "outputs": [],
   "source": [
    "print('3.', a or b)"
   ]
  },
  {
   "cell_type": "markdown",
   "id": "f7cb0491",
   "metadata": {},
   "source": [
    "```{.output}\n",
    "3. 15\n",
    "```"
   ]
  },
  {
   "cell_type": "markdown",
   "id": "83864b3c",
   "metadata": {},
   "source": [
    "## Q4\n"
   ]
  },
  {
   "cell_type": "code",
   "execution_count": null,
   "id": "2f8a1610",
   "metadata": {},
   "outputs": [],
   "source": [
    "print('4.', a and b)"
   ]
  },
  {
   "cell_type": "markdown",
   "id": "2745254f",
   "metadata": {},
   "source": [
    "```{.output}\n",
    "4. 4\n",
    "```\n",
    "\n",
    "## Q5\n"
   ]
  },
  {
   "cell_type": "code",
   "execution_count": null,
   "id": "ff2f8ff6",
   "metadata": {},
   "outputs": [],
   "source": [
    "print('5.', a or b and c)"
   ]
  },
  {
   "cell_type": "markdown",
   "id": "5f1472ce",
   "metadata": {},
   "source": [
    "```{.output}\n",
    "5. 15\n",
    "```\n",
    "\n",
    "## Q6\n"
   ]
  },
  {
   "cell_type": "code",
   "execution_count": null,
   "id": "f4fa93da",
   "metadata": {},
   "outputs": [],
   "source": [
    "print('6.', (a or b) and c)"
   ]
  },
  {
   "cell_type": "markdown",
   "id": "ac9bb0d4",
   "metadata": {},
   "source": [
    "```{.output}\n",
    "6. 18.84956\n",
    "```\n",
    "\n",
    "## Q7\n"
   ]
  },
  {
   "cell_type": "code",
   "execution_count": null,
   "id": "822d5d7e",
   "metadata": {},
   "outputs": [],
   "source": [
    "print('7.', not a or (b and c))"
   ]
  },
  {
   "cell_type": "markdown",
   "id": "2dcc2b74",
   "metadata": {},
   "source": [
    "```{.output}\n",
    "7. 18.84956\n",
    "```\n",
    "\n",
    "## Q8\n"
   ]
  },
  {
   "cell_type": "code",
   "execution_count": null,
   "id": "00c18f83",
   "metadata": {},
   "outputs": [],
   "source": [
    "print('8.', not a or not(b and c))"
   ]
  },
  {
   "cell_type": "markdown",
   "id": "4e591d3a",
   "metadata": {},
   "source": [
    "```{.output}\n",
    "8. False\n",
    "```"
   ]
  },
  {
   "cell_type": "markdown",
   "id": "c14619c3",
   "metadata": {},
   "source": [
    "## Q9\n"
   ]
  },
  {
   "cell_type": "code",
   "execution_count": null,
   "id": "3df4f39f",
   "metadata": {},
   "outputs": [],
   "source": [
    "print('9.', not a and not(b and c))"
   ]
  },
  {
   "cell_type": "markdown",
   "id": "c5791910",
   "metadata": {},
   "source": [
    "```{.output}\n",
    "9. False\n",
    "```\n",
    "\n",
    "## Q10\n"
   ]
  },
  {
   "cell_type": "code",
   "execution_count": null,
   "id": "ba384a1d",
   "metadata": {},
   "outputs": [],
   "source": [
    "print('10.', not a and not(b or c))"
   ]
  },
  {
   "cell_type": "markdown",
   "id": "3863a470",
   "metadata": {},
   "source": [
    "```{.output}\n",
    "10. False\n",
    "```"
   ]
  },
  {
   "cell_type": "markdown",
   "id": "50ff6ef6",
   "metadata": {},
   "source": [
    "#### **Complex logical operations**\n",
    "<p style='text-align: justify;'>\n",
    "It may help to break down more complex operations, or use parenthesis to make them easier to both read and write:\n",
    "</p>\n",
    "\n",
    "![Complex Logical Operations in Python.](fig/Complex_Logical_Operations.png)\n",
    "\n",
    "<p style='text-align: justify;'>\n",
    "Notice that in the last example, all notations are essentially the same and only vary in terms of their collective results as defined using parenthesis. Always remember that in a logical statement:\n",
    "</p>"
   ]
  },
  {
   "cell_type": "markdown",
   "id": "42e07aec",
   "metadata": {},
   "source": [
    "## Logical statement\n",
    "<p style='text-align: justify;'>\n",
    "- [x] The statement in parenthesis does **not** have precedence over the rest of the state (unlike mathematical statements). It merely defines an independent part of the operation whose response is evaluated separately. \n",
    "</p>\n",
    "\n",
    "<p style='text-align: justify;'>\n",
    "- [x] The precedence is established on a first come, first serve basis (from left to right).\n",
    "</p>\n",
    "\n",
    "<p style='text-align: justify;'>\n",
    "- [x] Always use parenthesis in longer statements for clarification.\n",
    "</p>\n",
    "\n",
    "<p style='text-align: justify;'>\n",
    "- [x] In disjunctive statements ---i.e. a > 5 ```or``` b > 5, if the first part is ```True```, the second part is *not* checked. In other words, if a is greater than 5, the computer does not proceed to check whether or not b is greater than 5. \n",
    "</p>\n",
    "\n",
    "<p style='text-align: justify;'>\n",
    "- [x] In conjunctive statements ---i.e. a > 5 ```and``` b > 5, the statement proceeds to the seconds part if and only if the first part is ```True```. In other words, the result of a conjunctive statement is only ```True``` if and only if both a and b are greater than 5. If a is ```False```, the entire statement will inevitably be ```False```.\n",
    "</p>\n",
    "\n",
    "<p style='text-align: justify;'>\n",
    "- [x] The longer the statement, the more difficult it would be to understand it properly, and by extension, the more likely it would be to cause problems.\n",
    "</p>\n",
    "\n"
   ]
  },
  {
   "cell_type": "code",
   "execution_count": null,
   "id": "cc8aa0e6",
   "metadata": {
    "lines_to_next_cell": 2
   },
   "outputs": [],
   "source": [
    "a, b, c = 17, 5, 2  # Alternative method to define variables."
   ]
  },
  {
   "cell_type": "code",
   "execution_count": null,
   "id": "e4396a9c",
   "metadata": {},
   "outputs": [],
   "source": [
    "# Disjunction: false OR true.\n",
    "a < b or b > c  "
   ]
  },
  {
   "cell_type": "markdown",
   "id": "03830ab5",
   "metadata": {},
   "source": [
    "```{.output}\n",
    "True\n",
    "```\n",
    "\n"
   ]
  },
  {
   "cell_type": "code",
   "execution_count": null,
   "id": "c446a45b",
   "metadata": {},
   "outputs": [],
   "source": [
    "# Disjunction: true OR true.\n",
    "a > b or b > c  "
   ]
  },
  {
   "cell_type": "markdown",
   "id": "f350a236",
   "metadata": {},
   "source": [
    "```{.output}\n",
    "True\n",
    "```\n",
    "\n"
   ]
  },
  {
   "cell_type": "code",
   "execution_count": null,
   "id": "a7ab3b35",
   "metadata": {},
   "outputs": [],
   "source": [
    "# Conjunction: true AND true.\n",
    "a > b and b > c  "
   ]
  },
  {
   "cell_type": "markdown",
   "id": "47db0881",
   "metadata": {},
   "source": [
    "```{.output}\n",
    "True\n",
    "```\n",
    "\n"
   ]
  },
  {
   "cell_type": "code",
   "execution_count": null,
   "id": "2e033bcf",
   "metadata": {},
   "outputs": [],
   "source": [
    "# Conjunction: false and true.\n",
    "a < b and b > c  "
   ]
  },
  {
   "cell_type": "markdown",
   "id": "fdb42fa2",
   "metadata": {},
   "source": [
    "```{.output}\n",
    "False\n",
    "```\n"
   ]
  },
  {
   "cell_type": "code",
   "execution_count": null,
   "id": "b4fb98ee",
   "metadata": {},
   "outputs": [],
   "source": [
    "# Disjunction and conjunction: true OR false AND true\n",
    "a > b or b < c and b < a"
   ]
  },
  {
   "cell_type": "markdown",
   "id": "8aa00507",
   "metadata": {},
   "source": [
    "```{.output}\n",
    "True\n",
    "```\n"
   ]
  },
  {
   "cell_type": "code",
   "execution_count": null,
   "id": "2aceb6b5",
   "metadata": {},
   "outputs": [],
   "source": [
    "# Disjunction and conjunction: false OR true AND false\n",
    "a < b or b > c and b > a"
   ]
  },
  {
   "cell_type": "markdown",
   "id": "e063942d",
   "metadata": {},
   "source": [
    "```{.output}\n",
    "False\n",
    "```\n",
    "\n"
   ]
  },
  {
   "cell_type": "code",
   "execution_count": null,
   "id": "f438705a",
   "metadata": {},
   "outputs": [],
   "source": [
    "# Disjunctions and conjunction: false OR true AND true\n",
    "a < b or b > c and b < a"
   ]
  },
  {
   "cell_type": "markdown",
   "id": "19a53811",
   "metadata": {},
   "source": [
    "```{.output}\n",
    "True\n",
    "```\n"
   ]
  },
  {
   "cell_type": "code",
   "execution_count": null,
   "id": "b2e42115",
   "metadata": {},
   "outputs": [],
   "source": [
    "# Disjunction and negated conjunction and conjunction: \n",
    "# true AND NOT false AND false\n",
    "a < b or not b < c and b > a"
   ]
  },
  {
   "cell_type": "markdown",
   "id": "8839ef88",
   "metadata": {},
   "source": [
    "```{.output}\n",
    "False\n",
    "```\n",
    "\n"
   ]
  },
  {
   "cell_type": "code",
   "execution_count": null,
   "id": "dfd62c28",
   "metadata": {},
   "outputs": [],
   "source": [
    "# Disjunction and negated conjunction - similar to the \n",
    "# previous example: true AND NOT (false AND false)\n",
    "a < b or not (b < c and b > a)"
   ]
  },
  {
   "cell_type": "markdown",
   "id": "105701b7",
   "metadata": {},
   "source": [
    "```{.output}\n",
    "True\n",
    "```\n",
    "\n",
    "<p style='text-align: justify;'>\n",
    "These are only a few examples. There are endless possibilities, try them yourself and see how they work.\n",
    "</p>"
   ]
  },
  {
   "cell_type": "markdown",
   "id": "edce1123",
   "metadata": {},
   "source": [
    "## Remember\n",
    "<p style='text-align: justify;'>\n",
    "Some logical operations may be written in different ways. However, we should always use the notation that is most coherent in the context of our code. If in doubt, use the simplest / shortest notation.\n",
    "</p>\n"
   ]
  },
  {
   "cell_type": "markdown",
   "id": "1e77bd42",
   "metadata": {},
   "source": [
    "To that end, you may want to use variables to split complex statements down to smaller portions:\n"
   ]
  },
  {
   "cell_type": "code",
   "execution_count": null,
   "id": "61c98e47",
   "metadata": {},
   "outputs": [],
   "source": [
    "age_a, age_b = 15, 35\n",
    "\t\n",
    "are_positive = age_a > 0 and age_b > 0\n",
    "\t\n",
    "a_is_older = are_positive and (age_a > age_b)\n",
    "b_is_older = are_positive and (age_a < age_b)\n",
    "\t\n",
    "a_is_teenager = are_positive and 12 < age_a < 20\n",
    "b_is_teenager = are_positive and 12 < age_b < 20\n",
    "\t\n",
    "a_is_teenager and b_is_older"
   ]
  },
  {
   "cell_type": "markdown",
   "id": "44fbb786",
   "metadata": {},
   "source": [
    "```{.output}\n",
    "True\n",
    "```\n"
   ]
  },
  {
   "cell_type": "code",
   "execution_count": null,
   "id": "70cbf517",
   "metadata": {},
   "outputs": [],
   "source": [
    "a_is_teenager and a_is_older"
   ]
  },
  {
   "cell_type": "markdown",
   "id": "23e36061",
   "metadata": {},
   "source": [
    "```{.output}\n",
    "False\n",
    "```\n"
   ]
  },
  {
   "cell_type": "code",
   "execution_count": null,
   "id": "2ae453d2",
   "metadata": {},
   "outputs": [],
   "source": [
    "a_is_teenager and (b_is_teenager or b_is_older)"
   ]
  },
  {
   "cell_type": "markdown",
   "id": "986da807",
   "metadata": {},
   "source": [
    "```{.output}\n",
    "True\n",
    "```"
   ]
  },
  {
   "cell_type": "markdown",
   "id": "1f90d4f1",
   "metadata": {},
   "source": [
    "## Do it Yourself\n",
    "\n",
    "Given\n",
    "```\n",
    "a = 3\n",
    "b = 13\n",
    "```\n",
    "\n",
    "Test the following statements and display the results:\n",
    "\t\n",
    "* $a^2 < b$\n",
    "* $3 - a^3 < b$\n",
    "* $|25 - a^2| > b$\n",
    "* $25 \\bmod a^2 > b$\n",
    "* $25 \\bmod a^2 > b$ or $25 \\bmod b < a$\n",
    "* $25 \\bmod a^2 < b$ and $25 \\bmod b > a$\n",
    "* $\\frac{12}{a}$ and $a\\times4 < b$"
   ]
  },
  {
   "cell_type": "markdown",
   "id": "f21a7498",
   "metadata": {},
   "source": [
    "where \"|...|\" represents the absolute value, and \"$n \\bmod m$\" represents the remainder for the division of $n$ by $m$.} \n",
    "\t\n",
    "Display the results in the following format:\n",
    "```\n",
    "1. [True/False]\n",
    "2. [True/False]\n",
    "...\n",
    "```"
   ]
  },
  {
   "cell_type": "markdown",
   "id": "5ec8da6a",
   "metadata": {},
   "source": [
    "## Q1\n"
   ]
  },
  {
   "cell_type": "code",
   "execution_count": null,
   "id": "3efb1f44",
   "metadata": {},
   "outputs": [],
   "source": [
    "\n",
    "#Given that: \n",
    "a = 3\n",
    "b = 13\n",
    "print('1.', a**2 < b)"
   ]
  },
  {
   "cell_type": "markdown",
   "id": "e25ef87e",
   "metadata": {},
   "source": [
    "```{.output}\n",
    "1. True\n",
    "```\n"
   ]
  },
  {
   "cell_type": "markdown",
   "id": "438015ae",
   "metadata": {},
   "source": [
    "## Q2\n"
   ]
  },
  {
   "cell_type": "code",
   "execution_count": null,
   "id": "8148087e",
   "metadata": {},
   "outputs": [],
   "source": [
    "print('2.', (3 - a**3) < b)"
   ]
  },
  {
   "cell_type": "markdown",
   "id": "dd011f15",
   "metadata": {},
   "source": [
    "```{.output}\n",
    "2. True\n",
    "```\n"
   ]
  },
  {
   "cell_type": "markdown",
   "id": "c8d69de2",
   "metadata": {},
   "source": [
    "## Q3\n"
   ]
  },
  {
   "cell_type": "code",
   "execution_count": null,
   "id": "a65c3b10",
   "metadata": {},
   "outputs": [],
   "source": [
    "print('3.', abs(25 - a**2) > b)"
   ]
  },
  {
   "cell_type": "markdown",
   "id": "7189afc9",
   "metadata": {},
   "source": [
    "```{.output}\n",
    "3. True\n",
    "```"
   ]
  },
  {
   "cell_type": "markdown",
   "id": "c43c3975",
   "metadata": {},
   "source": [
    "## Q4\n"
   ]
  },
  {
   "cell_type": "code",
   "execution_count": null,
   "id": "84c2ba62",
   "metadata": {},
   "outputs": [],
   "source": [
    "print('4.', (25 % a**2) > b)"
   ]
  },
  {
   "cell_type": "markdown",
   "id": "b95a3526",
   "metadata": {},
   "source": [
    "```{.output}\n",
    "4. False\n",
    "```\n",
    "\t"
   ]
  },
  {
   "cell_type": "markdown",
   "id": "878b1a9e",
   "metadata": {},
   "source": [
    "## Q5\n"
   ]
  },
  {
   "cell_type": "code",
   "execution_count": null,
   "id": "a5ad3530",
   "metadata": {},
   "outputs": [],
   "source": [
    "print('5.', (25 % a**2) > b or (25 % b) < a)"
   ]
  },
  {
   "cell_type": "markdown",
   "id": "43e2f0f1",
   "metadata": {},
   "source": [
    "```{.output}\n",
    "5. False\n",
    "```"
   ]
  },
  {
   "cell_type": "markdown",
   "id": "449f20b6",
   "metadata": {},
   "source": [
    "## Q6\n"
   ]
  },
  {
   "cell_type": "code",
   "execution_count": null,
   "id": "7e36e0a3",
   "metadata": {},
   "outputs": [],
   "source": [
    "print('6.', (25 % a**2) < b and (25 % b) > a)"
   ]
  },
  {
   "cell_type": "markdown",
   "id": "e0565393",
   "metadata": {},
   "source": [
    "```{.output}\n",
    "6. True\n",
    "```\n",
    "\t"
   ]
  },
  {
   "cell_type": "markdown",
   "id": "11dea80b",
   "metadata": {},
   "source": [
    "## Q7\n"
   ]
  },
  {
   "cell_type": "code",
   "execution_count": null,
   "id": "ac9ee3d5",
   "metadata": {},
   "outputs": [],
   "source": [
    "print('7.', (12 / a) and (a * 4) < b)"
   ]
  },
  {
   "cell_type": "markdown",
   "id": "34d70cf3",
   "metadata": {},
   "source": [
    "```{.output}\n",
    "7. True\n",
    "```\n"
   ]
  },
  {
   "cell_type": "markdown",
   "id": "49becf1a",
   "metadata": {},
   "source": [
    "## Exercises\n",
    "\n",
    "## \n",
    "\n",
    "## End of chapter Exercises\n",
    "\n",
    "1. Write and execute a Python script to display your own name as an output in the terminal.\n",
    "\n",
    "2. Write and execute a Python script that:\n",
    "\n",
    "  * Displays the text ```Please press enter to continue...```, and waits for the user to press enter.\n",
    "  * Once the user pressed enter, the program should display ```Welcome to my programme!``` before it terminates.\n",
    "<p style='text-align: justify;'>  \n",
    "3. We have an enzyme whose reaction velocity is $v=50~mol \\cdot L^{-1} \\cdot s^{-1}$ at the substrate concentration of $[S] = K_{m} = 2.5~mol \\cdot L^{-1}$. Work out the maximum reaction velocity or $V_{\\max}$ for this enzyme using the Michaelis-Menten equation:\n",
    "</p>\t\t\n",
    "\n",
    "\t\t$$v = \\frac{V_{\\max} [\\textrm{S}]}{K_{m} + [\\textrm{S}]}$$   \n"
   ]
  },
  {
   "cell_type": "markdown",
   "id": "5ae34bb0",
   "metadata": {},
   "source": [
    "## Please check these solutions only after submitting the assignments.\n",
    "\n",
    "### Q1\n"
   ]
  },
  {
   "cell_type": "code",
   "execution_count": null,
   "id": "022be246",
   "metadata": {},
   "outputs": [],
   "source": [
    "name = 'Gerold Baier'\n",
    "\n",
    "# Displaying the author's name:\n",
    "\n",
    "print(name)"
   ]
  },
  {
   "cell_type": "markdown",
   "id": "5e36aac9",
   "metadata": {},
   "source": [
    "```{.output}\n",
    "Gerold Baier\n",
    "```\n",
    "\n",
    "### Q2\n",
    "\n",
    "```\n",
    "# Blocking the execution until the user\n",
    "# presses enter:\n",
    "\n",
    "input('Please press enter to continue...')\n",
    "\n",
    "print('Welcome to my programme!')\n",
    "```\n",
    "\n",
    "### Q3"
   ]
  },
  {
   "cell_type": "code",
   "execution_count": null,
   "id": "118deb98",
   "metadata": {},
   "outputs": [],
   "source": [
    "\n",
    "v = 50 #mol/L/s \n",
    "k_m = S = 2.5 #mol/L\n",
    "\n",
    "# Rearranged the equation to\n",
    "# solve for v_max:\n",
    "\n",
    "v_max = (v * (k_m + S)) / S\n",
    "# Unit: mol/L/s\n",
    "print('Vmax =', v_max, '[ mol / (l * sec) ]')"
   ]
  },
  {
   "cell_type": "markdown",
   "id": "e9f51024",
   "metadata": {},
   "source": [
    "```{.output}\n",
    "Vmax = 100.0 [ mol / (l * sec) ]\n",
    "```\n",
    "\n"
   ]
  },
  {
   "cell_type": "markdown",
   "id": "e8051db1",
   "metadata": {},
   "source": [
    "- Two key functions for I/O operations are <kbd>print()</kbd> and <kbd>input()</kbd>\n",
    "- Three most commonly used variables such as ```int```, ```float```, and ```str```.\n",
    "- Variable scope can be local or global depending where they are being used.\n",
    "- Mathematical operations follow conventional rules of precedence\n",
    "- Logical operations provide results in Boolean (True or False)\n",
    "\n",
    "[r-markdown]: https://rmarkdown.rstudio.com/"
   ]
  }
 ],
 "metadata": {
  "jupytext": {
   "cell_metadata_filter": "-all",
   "main_language": "python",
   "notebook_metadata_filter": "-all"
  }
 },
 "nbformat": 4,
 "nbformat_minor": 5
}
